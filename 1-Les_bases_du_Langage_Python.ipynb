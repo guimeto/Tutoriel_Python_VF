{
 "cells": [
  {
   "cell_type": "markdown",
   "metadata": {},
   "source": [
    "# Les Bases du langage Python: \n",
    "\n",
    "## 1- Les variables \n"
   ]
  },
  {
   "cell_type": "markdown",
   "metadata": {},
   "source": [
    "Une variable est un identificateur ou un nom pour stocker des informations ou des résultats. \n",
    "\n",
    "Tous les programmes python font appel à des variables. Il est important de garder en  mémoire que chaque type d'information est enregistré dans un type spécial de variable.  \n",
    "\n",
    "Un type de variable est une information sur le contenu de la variable. Le type de variable va signifier à l'interpreteur python ce qu'il peut faire ou ne pas faire avec cette variable.\n",
    "\n",
    "    - Python est sensible à la Casse: il distingue les Majuscules et les minuscules  \n",
    "    - On ne peut pas commencer une variable par un chiffre \n",
    "    - Ne pas utiliser d'accents dans les noms de variables.\n",
    "    - fonction type(): permet de connaitre le type de notre variable."
   ]
  },
  {
   "cell_type": "code",
   "execution_count": 16,
   "metadata": {
    "collapsed": true
   },
   "outputs": [],
   "source": [
    "m=3.2"
   ]
  },
  {
   "cell_type": "code",
   "execution_count": null,
   "metadata": {
    "collapsed": true
   },
   "outputs": [],
   "source": []
  },
  {
   "cell_type": "markdown",
   "metadata": {},
   "source": [
    "\n",
    "\n",
    "### - Les types numériques: \n",
    "\n",
    "<table border=\"1\" class=\"docutils\">\n",
    "<colgroup>\n",
    "<col width=\"27%\">\n",
    "<col width=\"57%\">\n",
    "</colgroup>\n",
    "<tbody valign=\"top\">\n",
    "\n",
    "<tr><td><tt class=\"docutils literal\"><span class=\"pre\">Les entiers: int()</span></tt></td>\n",
    "<td>1 est un nombre entier, 1.0 n'en est pas un</td>\n",
    "</tr>\n",
    "<tr><td><tt class=\"docutils literal\"><span class=\"pre\">Les décimaux: float()</span></tt></td>\n",
    "<td>nombre qui comprend une partie décimale </td>\n",
    "</tr>\n",
    "<tr><td><tt class=\"docutils literal\"><span class=\"pre\">Les nombres complexes</span></tt></td>\n",
    "<td>association entre un nombre réel et un nombre imaginaire</td>\n",
    "</tr>\n",
    "\n",
    "</tbody>\n",
    "</table>\n",
    "   \n"
   ]
  },
  {
   "cell_type": "code",
   "execution_count": 17,
   "metadata": {},
   "outputs": [
    {
     "data": {
      "text/plain": [
       "float"
      ]
     },
     "execution_count": 17,
     "metadata": {},
     "output_type": "execute_result"
    }
   ],
   "source": [
    "type(m)"
   ]
  },
  {
   "cell_type": "code",
   "execution_count": 18,
   "metadata": {},
   "outputs": [
    {
     "data": {
      "text/plain": [
       "3"
      ]
     },
     "execution_count": 18,
     "metadata": {},
     "output_type": "execute_result"
    }
   ],
   "source": [
    "int(3)"
   ]
  },
  {
   "cell_type": "code",
   "execution_count": 19,
   "metadata": {},
   "outputs": [
    {
     "data": {
      "text/plain": [
       "3"
      ]
     },
     "execution_count": 19,
     "metadata": {},
     "output_type": "execute_result"
    }
   ],
   "source": [
    "int(3.5)"
   ]
  },
  {
   "cell_type": "code",
   "execution_count": 20,
   "metadata": {},
   "outputs": [
    {
     "data": {
      "text/plain": [
       "3.0"
      ]
     },
     "execution_count": 20,
     "metadata": {},
     "output_type": "execute_result"
    }
   ],
   "source": [
    "float(3)"
   ]
  },
  {
   "cell_type": "code",
   "execution_count": 21,
   "metadata": {},
   "outputs": [
    {
     "data": {
      "text/plain": [
       "8"
      ]
     },
     "execution_count": 21,
     "metadata": {},
     "output_type": "execute_result"
    }
   ],
   "source": [
    "3+5"
   ]
  },
  {
   "cell_type": "code",
   "execution_count": null,
   "metadata": {
    "collapsed": true
   },
   "outputs": [],
   "source": []
  },
  {
   "cell_type": "markdown",
   "metadata": {},
   "source": [
    "### - Les booléens: \n",
    "\n",
    "- variable contenant des valeurs binaires: True ou False\n",
    "- des types de données  résultent d'opérations logiques\n",
    "\n",
    "Très utile dans les confitions if()"
   ]
  },
  {
   "cell_type": "code",
   "execution_count": 22,
   "metadata": {},
   "outputs": [
    {
     "data": {
      "text/plain": [
       "False"
      ]
     },
     "execution_count": 22,
     "metadata": {},
     "output_type": "execute_result"
    }
   ],
   "source": [
    "3>5"
   ]
  },
  {
   "cell_type": "code",
   "execution_count": 23,
   "metadata": {},
   "outputs": [
    {
     "data": {
      "text/plain": [
       "True"
      ]
     },
     "execution_count": 23,
     "metadata": {},
     "output_type": "execute_result"
    }
   ],
   "source": [
    "3<5"
   ]
  },
  {
   "cell_type": "markdown",
   "metadata": {},
   "source": [
    "### - Les chaînes de caractère:\n",
    "\n",
    "Suite finie de caractères qu'on peut considérer comme du texte qu'on définit entre deux \" \" ou ' ' . \n"
   ]
  },
  {
   "cell_type": "code",
   "execution_count": 24,
   "metadata": {},
   "outputs": [
    {
     "name": "stdout",
     "output_type": "stream",
     "text": [
      "Hello\n"
     ]
    }
   ],
   "source": [
    "print(\"Hello\")"
   ]
  },
  {
   "cell_type": "code",
   "execution_count": 25,
   "metadata": {},
   "outputs": [
    {
     "data": {
      "text/plain": [
       "str"
      ]
     },
     "execution_count": 25,
     "metadata": {},
     "output_type": "execute_result"
    }
   ],
   "source": [
    "type(\"Hello\")"
   ]
  },
  {
   "cell_type": "code",
   "execution_count": 26,
   "metadata": {},
   "outputs": [
    {
     "data": {
      "text/plain": [
       "str"
      ]
     },
     "execution_count": 26,
     "metadata": {},
     "output_type": "execute_result"
    }
   ],
   "source": [
    "type(\"15\")"
   ]
  },
  {
   "cell_type": "code",
   "execution_count": 30,
   "metadata": {},
   "outputs": [
    {
     "ename": "TypeError",
     "evalue": "must be str, not int",
     "output_type": "error",
     "traceback": [
      "\u001b[1;31m---------------------------------------------------------------------------\u001b[0m",
      "\u001b[1;31mTypeError\u001b[0m                                 Traceback (most recent call last)",
      "\u001b[1;32m<ipython-input-30-01703460fe91>\u001b[0m in \u001b[0;36m<module>\u001b[1;34m()\u001b[0m\n\u001b[1;32m----> 1\u001b[1;33m \u001b[1;34m\"15\"\u001b[0m \u001b[1;33m+\u001b[0m \u001b[1;36m2\u001b[0m\u001b[1;33m\u001b[0m\u001b[0m\n\u001b[0m",
      "\u001b[1;31mTypeError\u001b[0m: must be str, not int"
     ]
    }
   ],
   "source": [
    "\"15\" + 2"
   ]
  },
  {
   "cell_type": "markdown",
   "metadata": {},
   "source": [
    "On peut concatener des chaines de caractères"
   ]
  },
  {
   "cell_type": "code",
   "execution_count": 31,
   "metadata": {},
   "outputs": [
    {
     "data": {
      "text/plain": [
       "'1556'"
      ]
     },
     "execution_count": 31,
     "metadata": {},
     "output_type": "execute_result"
    }
   ],
   "source": [
    "\"15\" + \"56\""
   ]
  },
  {
   "cell_type": "code",
   "execution_count": 32,
   "metadata": {},
   "outputs": [
    {
     "data": {
      "text/plain": [
       "'15'"
      ]
     },
     "execution_count": 32,
     "metadata": {},
     "output_type": "execute_result"
    }
   ],
   "source": [
    "str(15)"
   ]
  },
  {
   "cell_type": "markdown",
   "metadata": {},
   "source": [
    "## 2- Les opérateurs arithmétiques \n",
    "\n",
    "<table border=\"1\" class=\"docutils\">\n",
    "<colgroup>\n",
    "<col width=\"27%\">\n",
    "<col width=\"57%\">\n",
    "</colgroup>\n",
    "<thead valign=\"bottom\">\n",
    "<tr><th class=\"head\">Opérateurs</th>\n",
    "<th class=\"head\">Signification</th>\n",
    "</tr>\n",
    "</thead>\n",
    "<tbody valign=\"top\">\n",
    "\n",
    "<tr><td><tt class=\"docutils literal\"><span class=\"pre\">+</span></tt></td>\n",
    "<td>Ajoute deux valeurs</td>\n",
    "</tr>\n",
    "<tr><td><tt class=\"docutils literal\"><span class=\"pre\">-</span></tt></td>\n",
    "<td>Soustrait l'opérande droit de l'opérande gauche</td>\n",
    "</tr>\n",
    "<tr><td><tt class=\"docutils literal\"><span class=\"pre\">&#42;</span></tt></td>\n",
    "<td>Multiplie deux valeurs</td>\n",
    "</tr>\n",
    "<tr><td><tt class=\"docutils literal\"><span class=\"pre\">/</span></tt></td>\n",
    "<td>Divise l'opérande gauche par l'opérande droit </td>\n",
    "</tr>\n",
    "<tr><td><tt class=\"docutils literal\"><span class=\"pre\">%</span></tt></td>\n",
    "<td>Divise l'opérande gauche par l'opérande droit et retourne le reste (opérateur modulo)</td>\n",
    "</tr>\n",
    "<tr><td><tt class=\"docutils literal\"><span class=\"pre\">&#42;&#42;</span></tt></td>\n",
    "<td>Calcule de la valeur exponentielle de l'opératde gauche par l'opérande droit</td>\n",
    "</tr>\n",
    "<tr><td><tt class=\"docutils literal\"><span class=\"pre\">//</span></tt></td>\n",
    "<td>Divise l'opérande gauche par l'opérande droit et retourne la partie entière</td>\n",
    "</tr>\n",
    "</tbody>\n",
    "</table>"
   ]
  },
  {
   "cell_type": "code",
   "execution_count": 33,
   "metadata": {},
   "outputs": [
    {
     "data": {
      "text/plain": [
       "2"
      ]
     },
     "execution_count": 33,
     "metadata": {},
     "output_type": "execute_result"
    }
   ],
   "source": [
    "5-3 # soustraction "
   ]
  },
  {
   "cell_type": "code",
   "execution_count": 34,
   "metadata": {},
   "outputs": [
    {
     "data": {
      "text/plain": [
       "8"
      ]
     },
     "execution_count": 34,
     "metadata": {},
     "output_type": "execute_result"
    }
   ],
   "source": [
    "5+3 # addition "
   ]
  },
  {
   "cell_type": "code",
   "execution_count": 35,
   "metadata": {},
   "outputs": [
    {
     "data": {
      "text/plain": [
       "15"
      ]
     },
     "execution_count": 35,
     "metadata": {},
     "output_type": "execute_result"
    }
   ],
   "source": [
    "5*3 # multiplication"
   ]
  },
  {
   "cell_type": "code",
   "execution_count": 36,
   "metadata": {},
   "outputs": [
    {
     "data": {
      "text/plain": [
       "1.6666666666666667"
      ]
     },
     "execution_count": 36,
     "metadata": {},
     "output_type": "execute_result"
    }
   ],
   "source": [
    "5/3 # division  "
   ]
  },
  {
   "cell_type": "code",
   "execution_count": 37,
   "metadata": {},
   "outputs": [
    {
     "data": {
      "text/plain": [
       "1"
      ]
     },
     "execution_count": 37,
     "metadata": {},
     "output_type": "execute_result"
    }
   ],
   "source": [
    "5//3 # le chiffre entier de ma division "
   ]
  },
  {
   "cell_type": "code",
   "execution_count": 38,
   "metadata": {},
   "outputs": [
    {
     "data": {
      "text/plain": [
       "2"
      ]
     },
     "execution_count": 38,
     "metadata": {},
     "output_type": "execute_result"
    }
   ],
   "source": [
    "5%3 # récupérer le reste de ma division ou modulo  "
   ]
  },
  {
   "cell_type": "code",
   "execution_count": 39,
   "metadata": {},
   "outputs": [
    {
     "data": {
      "text/plain": [
       "125"
      ]
     },
     "execution_count": 39,
     "metadata": {},
     "output_type": "execute_result"
    }
   ],
   "source": [
    "5**3 # exponentielle ou puissance"
   ]
  },
  {
   "cell_type": "code",
   "execution_count": 40,
   "metadata": {},
   "outputs": [
    {
     "data": {
      "text/plain": [
       "200"
      ]
     },
     "execution_count": 40,
     "metadata": {},
     "output_type": "execute_result"
    }
   ],
   "source": [
    "ma_variable1=10\n",
    "ma_variable2=20\n",
    "ma_variable1*ma_variable2"
   ]
  },
  {
   "cell_type": "code",
   "execution_count": 41,
   "metadata": {},
   "outputs": [
    {
     "data": {
      "text/plain": [
       "100"
      ]
     },
     "execution_count": 41,
     "metadata": {},
     "output_type": "execute_result"
    }
   ],
   "source": [
    "ma_variable1*10"
   ]
  },
  {
   "cell_type": "markdown",
   "metadata": {},
   "source": [
    "On ne peut pas faire des opérations arithmétiques sur du texte "
   ]
  },
  {
   "cell_type": "code",
   "execution_count": 45,
   "metadata": {},
   "outputs": [
    {
     "ename": "TypeError",
     "evalue": "unsupported operand type(s) for -: 'str' and 'str'",
     "output_type": "error",
     "traceback": [
      "\u001b[1;31m---------------------------------------------------------------------------\u001b[0m",
      "\u001b[1;31mTypeError\u001b[0m                                 Traceback (most recent call last)",
      "\u001b[1;32m<ipython-input-45-9227b41fbe99>\u001b[0m in \u001b[0;36m<module>\u001b[1;34m()\u001b[0m\n\u001b[1;32m----> 1\u001b[1;33m \u001b[1;34m\"mon texte\"\u001b[0m \u001b[1;33m-\u001b[0m \u001b[1;34m\"mon texte\"\u001b[0m\u001b[1;33m\u001b[0m\u001b[0m\n\u001b[0m",
      "\u001b[1;31mTypeError\u001b[0m: unsupported operand type(s) for -: 'str' and 'str'"
     ]
    }
   ],
   "source": [
    "\"mon texte\" - \"mon texte\""
   ]
  },
  {
   "cell_type": "code",
   "execution_count": 46,
   "metadata": {},
   "outputs": [
    {
     "data": {
      "text/plain": [
       "'Salut ça va'"
      ]
     },
     "execution_count": 46,
     "metadata": {},
     "output_type": "execute_result"
    }
   ],
   "source": [
    "\"Salut\" + \" ça va\""
   ]
  },
  {
   "cell_type": "code",
   "execution_count": 47,
   "metadata": {},
   "outputs": [
    {
     "data": {
      "text/plain": [
       "'SalutSalutSalutSalutSalut'"
      ]
     },
     "execution_count": 47,
     "metadata": {},
     "output_type": "execute_result"
    }
   ],
   "source": [
    "\"Salut\" * 5"
   ]
  },
  {
   "cell_type": "markdown",
   "metadata": {},
   "source": [
    "## 3- Les opérateurs relationnels\n",
    "\n",
    "Les opérateurs relationnels comparent une valeur avec une autre et vous disent si la relation fournie est vraie. \n",
    "\n",
    "La valeur vraie des relations est souvent utilisée pour prendre des décisions en s'assurant que des conditions sont réunies pour effectuer une certaine tâche. \n",
    "\n",
    "<table border=\"1\" class=\"docutils\">\n",
    "<colgroup>\n",
    "<col width=\"27%\">\n",
    "<col width=\"57%\">\n",
    "</colgroup>\n",
    "<thead valign=\"bottom\">\n",
    "<tr><th class=\"head\">Opérateurs</th>\n",
    "<th class=\"head\">Signification</th>\n",
    "</tr>\n",
    "</thead>\n",
    "<tbody valign=\"top\">\n",
    "\n",
    "<tr><td><tt class=\"docutils literal\"><span class=\"pre\">==</span></tt></td>\n",
    "<td>Détermine si deux valeurs sont égales</td>\n",
    "</tr>\n",
    "<tr><td><tt class=\"docutils literal\"><span class=\"pre\">!=</span></tt></td>\n",
    "<td>Détermine si deux valeurs sont différentes</td>\n",
    "</tr>\n",
    "<tr><td><tt class=\"docutils literal\"><span class=\"pre\">&gt;</span></tt></td>\n",
    "<td>Vérifie que l'opérande gauche est plus grand que l'opérande droit</td>\n",
    "</tr>\n",
    "<tr><td><tt class=\"docutils literal\"><span class=\"pre\">&lt;</span></tt></td>\n",
    "<td>Vérifie que l'opérande gauche est plus petit que l'opérande droit</td>\n",
    "</tr>\n",
    "<tr><td><tt class=\"docutils literal\"><span class=\"pre\">&gt;=</span></tt></td>\n",
    "<td>Vérifie que l'opérande gauche est supérieur ou égal à l'opérande droit</td>\n",
    "</tr>\n",
    "<tr><td><tt class=\"docutils literal\"><span class=\"pre\">&lt;=</span></tt></td>\n",
    "<td>Vérifie que l'opérande gauche est inférieur ou égal à l'opérande droit</td>\n",
    "</tr>\n",
    "\n",
    "<tr><td><tt class=\"docutils literal\"><span class=\"pre\">is</span></tt></td>\n",
    "<td>Indentité</td>\n",
    "</tr>\n",
    "<tr><td><tt class=\"docutils literal\"><span class=\"pre\">is</span> <span class=\"pre\">not</span></tt></td>\n",
    "<td>Négation</td>\n",
    "\n",
    "</tr>\n",
    "</tbody>\n",
    "</table>"
   ]
  },
  {
   "cell_type": "code",
   "execution_count": 48,
   "metadata": {},
   "outputs": [
    {
     "data": {
      "text/plain": [
       "True"
      ]
     },
     "execution_count": 48,
     "metadata": {},
     "output_type": "execute_result"
    }
   ],
   "source": [
    "# premier opérateur de comparaison : == \n",
    "1 == 1"
   ]
  },
  {
   "cell_type": "code",
   "execution_count": 49,
   "metadata": {},
   "outputs": [
    {
     "data": {
      "text/plain": [
       "False"
      ]
     },
     "execution_count": 49,
     "metadata": {},
     "output_type": "execute_result"
    }
   ],
   "source": [
    "1==2"
   ]
  },
  {
   "cell_type": "code",
   "execution_count": 50,
   "metadata": {},
   "outputs": [
    {
     "data": {
      "text/plain": [
       "True"
      ]
     },
     "execution_count": 50,
     "metadata": {},
     "output_type": "execute_result"
    }
   ],
   "source": [
    "# 2ème opérateur de comparaison : != \n",
    "1!=2"
   ]
  },
  {
   "cell_type": "code",
   "execution_count": 51,
   "metadata": {},
   "outputs": [
    {
     "data": {
      "text/plain": [
       "False"
      ]
     },
     "execution_count": 51,
     "metadata": {},
     "output_type": "execute_result"
    }
   ],
   "source": [
    "# 3ème opérateur de comparaison : > et < \n",
    "1>2"
   ]
  },
  {
   "cell_type": "code",
   "execution_count": 52,
   "metadata": {},
   "outputs": [
    {
     "data": {
      "text/plain": [
       "True"
      ]
     },
     "execution_count": 52,
     "metadata": {},
     "output_type": "execute_result"
    }
   ],
   "source": [
    "2>1"
   ]
  },
  {
   "cell_type": "code",
   "execution_count": 53,
   "metadata": {},
   "outputs": [
    {
     "data": {
      "text/plain": [
       "False"
      ]
     },
     "execution_count": 53,
     "metadata": {},
     "output_type": "execute_result"
    }
   ],
   "source": [
    "1>1"
   ]
  },
  {
   "cell_type": "code",
   "execution_count": 54,
   "metadata": {},
   "outputs": [
    {
     "data": {
      "text/plain": [
       "True"
      ]
     },
     "execution_count": 54,
     "metadata": {},
     "output_type": "execute_result"
    }
   ],
   "source": [
    "1<2"
   ]
  },
  {
   "cell_type": "code",
   "execution_count": 55,
   "metadata": {},
   "outputs": [
    {
     "data": {
      "text/plain": [
       "True"
      ]
     },
     "execution_count": 55,
     "metadata": {},
     "output_type": "execute_result"
    }
   ],
   "source": [
    "1>=1"
   ]
  },
  {
   "cell_type": "code",
   "execution_count": 56,
   "metadata": {},
   "outputs": [
    {
     "data": {
      "text/plain": [
       "True"
      ]
     },
     "execution_count": 56,
     "metadata": {},
     "output_type": "execute_result"
    }
   ],
   "source": [
    "2 <= 5"
   ]
  },
  {
   "cell_type": "code",
   "execution_count": 57,
   "metadata": {
    "collapsed": true
   },
   "outputs": [],
   "source": [
    "a=1 # Attention !!!! c'est un opérateur d'assignation de valeur à la variable "
   ]
  },
  {
   "cell_type": "markdown",
   "metadata": {},
   "source": [
    "## 4- Les opérateurs logiques\n",
    "\n",
    "Les opérateurs logiques comparent des expressions booléennes et non  plus des valeurs comme dans le point précédent.\n",
    "\n",
    "Ils servent à créer des expressions booléennes qui nous aident à savoir si une certaine tâche doit ou non être réalisée. \n",
    "\n",
    "<table border=\"1\" class=\"docutils\">\n",
    "<colgroup>\n",
    "<col width=\"27%\">\n",
    "<col width=\"57%\">\n",
    "</colgroup>\n",
    "<thead valign=\"bottom\">\n",
    "<tr><th class=\"head\">Opérateurs</th>\n",
    "<th class=\"head\">Signification</th>\n",
    "</tr>\n",
    "</thead>\n",
    "<tbody valign=\"top\">\n",
    "\n",
    "<tr><td><tt class=\"docutils literal\"><span class=\"pre\">and (et)</span></tt></td>\n",
    "<td>Détermine si les deux opérandes sont vrais</td>\n",
    "</tr>\n",
    "<tr><td><tt class=\"docutils literal\"><span class=\"pre\">or (ou)</span></tt></td>\n",
    "<td>Détermine si l'un des deux opérandes est vrai</td>\n",
    "</tr>\n",
    "<tr><td><tt class=\"docutils literal\"><span class=\"pre\">not(non)</span></tt></td>\n",
    "<td>Inverse la valeur logique de l'opérande</td>\n",
    "</tr>\n",
    "\n",
    "</tbody>\n",
    "</table>"
   ]
  },
  {
   "cell_type": "code",
   "execution_count": null,
   "metadata": {
    "collapsed": true
   },
   "outputs": [],
   "source": []
  },
  {
   "cell_type": "markdown",
   "metadata": {},
   "source": [
    "Fonction: ensemble de codes qui va effectuer plusieurs opérations. Une fonction  attend quelque chose en entrée: nom, variable, texte, dictionnaire, tableau ... \n",
    "- fonction () "
   ]
  },
  {
   "cell_type": "code",
   "execution_count": 58,
   "metadata": {},
   "outputs": [
    {
     "data": {
      "text/plain": [
       "True"
      ]
     },
     "execution_count": 58,
     "metadata": {},
     "output_type": "execute_result"
    }
   ],
   "source": [
    "# premier opérateur logique : and\n",
    "(3==3) and (4==4)"
   ]
  },
  {
   "cell_type": "code",
   "execution_count": 59,
   "metadata": {},
   "outputs": [
    {
     "data": {
      "text/plain": [
       "False"
      ]
     },
     "execution_count": 59,
     "metadata": {},
     "output_type": "execute_result"
    }
   ],
   "source": [
    "(3==3) and (4==5)"
   ]
  },
  {
   "cell_type": "code",
   "execution_count": 60,
   "metadata": {},
   "outputs": [
    {
     "data": {
      "text/plain": [
       "True"
      ]
     },
     "execution_count": 60,
     "metadata": {},
     "output_type": "execute_result"
    }
   ],
   "source": [
    "# deuxième opérateur logique : or\n",
    "(3==3) or (4==5)"
   ]
  },
  {
   "cell_type": "code",
   "execution_count": 61,
   "metadata": {},
   "outputs": [
    {
     "data": {
      "text/plain": [
       "False"
      ]
     },
     "execution_count": 61,
     "metadata": {},
     "output_type": "execute_result"
    }
   ],
   "source": [
    "(3!=3) or (4==5)"
   ]
  },
  {
   "cell_type": "code",
   "execution_count": 62,
   "metadata": {},
   "outputs": [
    {
     "data": {
      "text/plain": [
       "True"
      ]
     },
     "execution_count": 62,
     "metadata": {},
     "output_type": "execute_result"
    }
   ],
   "source": [
    "# 3ème opérateur logique : not\n",
    "not((3!=3) or (4==5))"
   ]
  },
  {
   "cell_type": "code",
   "execution_count": null,
   "metadata": {
    "collapsed": true
   },
   "outputs": [],
   "source": []
  },
  {
   "cell_type": "markdown",
   "metadata": {},
   "source": [
    "## 5- Les opérateurs d'affectation \n",
    "\n",
    "Les opérateurs d'affectation placent une valeur dans une variable. Nous aovns déjà vu le cas le plus simple (=), mais python offre bien d'autres opérateurs de ce type, afin nottamment de réaliser une opération aithmétique en même temps que l'affectation. \n",
    "<table border=\"1\" class=\"docutils\">\n",
    "<colgroup>\n",
    "<col width=\"27%\">\n",
    "<col width=\"57%\">\n",
    "</colgroup>\n",
    "<thead valign=\"bottom\">\n",
    "<tr><th class=\"head\">Opérateurs</th>\n",
    "<th class=\"head\">Signification</th>\n",
    "</tr>\n",
    "</thead>\n",
    "<tbody valign=\"top\">\n",
    "\n",
    "<tr><td><tt class=\"docutils literal\"><span class=\"pre\">=</span></tt></td>\n",
    "<td>Affecte la valeur de l'opérande droit à l'opérande de gauche </td>\n",
    "</tr>\n",
    "<tr><td><tt class=\"docutils literal\"><span class=\"pre\">+=</span></tt></td>\n",
    "<td>Ajoute la valeur de l'opérande droit à l'opérande de gauche et place le résultat dans l'opérande gauche</td>\n",
    "</tr>\n",
    "<tr><td><tt class=\"docutils literal\"><span class=\"pre\">-=</span></tt></td>\n",
    "<td>Soustrait la valeur de l'opérande droit de l'opérande gauche et place le résultat dans l'opérande gauche</td>\n",
    "</tr>\n",
    "<tr><td><tt class=\"docutils literal\"><span class=\"pre\">*=</span></tt></td>\n",
    "<td>Multiplie la valeur de l'opérande droit par celle de l'opérande gauche et place le résultat dans l'opérande de gauche</td>\n",
    "</tr>\n",
    "<tr><td><tt class=\"docutils literal\"><span class=\"pre\">/=</span></tt></td>\n",
    "<td>Divise la valeur de l'opérande gauche par celle de l'opérande droit et place le résultat dans l'opérande de gauche</td>\n",
    "</tr>\n",
    "<tr><td><tt class=\"docutils literal\"><span class=\"pre\">%=</span></tt></td>\n",
    "<td>Divise la valeur de l'opérande gauche par celle de l'opérande droit et place le reste dans l'opérande de gauche</td>\n",
    "</tr>\n",
    "\n",
    "<tr><td><tt class=\"docutils literal\"><span class=\"pre\">**=</span></tt></td>\n",
    "<td>Calcule la valeur exponentielle de l'opérande de gauche par celle de l'opérande droit et place le résultat dans l'opérande gauche</td>\n",
    "</tr>\n",
    "<tr><td><tt class=\"docutils literal\"><span class=\"pre\">//=</span></tt></td>\n",
    "<td>Divise la valeur de l'opérande gauche par celle de l'opérande droit et place le résultat entier dans l'opérande gauche</td>\n",
    "\n",
    "</tr>\n",
    "</tbody>\n",
    "</table>"
   ]
  },
  {
   "cell_type": "code",
   "execution_count": 63,
   "metadata": {
    "collapsed": true
   },
   "outputs": [],
   "source": [
    "Mavariable = 5 "
   ]
  },
  {
   "cell_type": "code",
   "execution_count": 64,
   "metadata": {},
   "outputs": [
    {
     "data": {
      "text/plain": [
       "2"
      ]
     },
     "execution_count": 64,
     "metadata": {},
     "output_type": "execute_result"
    }
   ],
   "source": [
    "Mavariable = 2\n",
    "Mavariable"
   ]
  },
  {
   "cell_type": "code",
   "execution_count": 65,
   "metadata": {},
   "outputs": [
    {
     "data": {
      "text/plain": [
       "7"
      ]
     },
     "execution_count": 65,
     "metadata": {},
     "output_type": "execute_result"
    }
   ],
   "source": [
    "Mavariable = 5 \n",
    "Mavariable += 2 \n",
    "Mavariable"
   ]
  },
  {
   "cell_type": "code",
   "execution_count": 66,
   "metadata": {},
   "outputs": [
    {
     "data": {
      "text/plain": [
       "3"
      ]
     },
     "execution_count": 66,
     "metadata": {},
     "output_type": "execute_result"
    }
   ],
   "source": [
    "Mavariable = 5 \n",
    "Mavariable -= 2 \n",
    "Mavariable"
   ]
  },
  {
   "cell_type": "code",
   "execution_count": 67,
   "metadata": {},
   "outputs": [
    {
     "data": {
      "text/plain": [
       "10"
      ]
     },
     "execution_count": 67,
     "metadata": {},
     "output_type": "execute_result"
    }
   ],
   "source": [
    "Mavariable = 5 \n",
    "Mavariable *= 2 \n",
    "Mavariable"
   ]
  },
  {
   "cell_type": "code",
   "execution_count": 68,
   "metadata": {},
   "outputs": [
    {
     "data": {
      "text/plain": [
       "2.5"
      ]
     },
     "execution_count": 68,
     "metadata": {},
     "output_type": "execute_result"
    }
   ],
   "source": [
    "Mavariable = 5 \n",
    "Mavariable /= 2 \n",
    "Mavariable"
   ]
  },
  {
   "cell_type": "code",
   "execution_count": 69,
   "metadata": {},
   "outputs": [
    {
     "data": {
      "text/plain": [
       "1"
      ]
     },
     "execution_count": 69,
     "metadata": {},
     "output_type": "execute_result"
    }
   ],
   "source": [
    "Mavariable = 5 \n",
    "Mavariable %= 2 \n",
    "Mavariable"
   ]
  },
  {
   "cell_type": "code",
   "execution_count": 70,
   "metadata": {},
   "outputs": [
    {
     "data": {
      "text/plain": [
       "25"
      ]
     },
     "execution_count": 70,
     "metadata": {},
     "output_type": "execute_result"
    }
   ],
   "source": [
    "Mavariable = 5 \n",
    "Mavariable **= 2 \n",
    "Mavariable"
   ]
  },
  {
   "cell_type": "code",
   "execution_count": 71,
   "metadata": {},
   "outputs": [
    {
     "data": {
      "text/plain": [
       "2"
      ]
     },
     "execution_count": 71,
     "metadata": {},
     "output_type": "execute_result"
    }
   ],
   "source": [
    "Mavariable = 5 \n",
    "Mavariable //= 2 \n",
    "Mavariable"
   ]
  }
 ],
 "metadata": {
  "kernelspec": {
   "display_name": "Python 3",
   "language": "python",
   "name": "python3"
  },
  "language_info": {
   "codemirror_mode": {
    "name": "ipython",
    "version": 3
   },
   "file_extension": ".py",
   "mimetype": "text/x-python",
   "name": "python",
   "nbconvert_exporter": "python",
   "pygments_lexer": "ipython3",
   "version": "3.6.3"
  }
 },
 "nbformat": 4,
 "nbformat_minor": 2
}
