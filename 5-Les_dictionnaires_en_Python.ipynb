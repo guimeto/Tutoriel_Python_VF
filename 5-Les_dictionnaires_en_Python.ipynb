{
 "cells": [
  {
   "cell_type": "markdown",
   "metadata": {},
   "source": [
    "# Les dictionnaires python:  \n",
    "\n",
    "- Le dictionnaire est une structure où l'on stocke des clés associés à des valeurs \n",
    "- ce sont des structures de données non-ordonnées\n",
    "- on peut les modifier et les indexer\n",
    "- principe: on peut lier une clef à une valeur \n",
    "- les dictionnaires s'écrivent avec des {  }"
   ]
  },
  {
   "cell_type": "markdown",
   "metadata": {},
   "source": [
    "## 1- Crée un dictionnaire:\n",
    "\n",
    "Pour crée un dictionnaire, on écrit tous les éléments en les séparant par des virgules et le tout encadré par des  accolade {}. \n"
   ]
  },
  {
   "cell_type": "code",
   "execution_count": 1,
   "metadata": {
    "collapsed": true
   },
   "outputs": [],
   "source": [
    "# exemple : dictionnaire de notes d'élèves\n",
    "mon_dictionnaire = {\n",
    "    \"Marie\" : 15,\n",
    "    \"Thomas\" : 12,\n",
    "    \"Julien\" : \"absent\",\n",
    "    \"Elise\" : 9,\n",
    "    \"Samuel\" : 17\n",
    "}"
   ]
  },
  {
   "cell_type": "code",
   "execution_count": 2,
   "metadata": {},
   "outputs": [
    {
     "data": {
      "text/plain": [
       "{'Elise': 9, 'Julien': 'absent', 'Marie': 15, 'Samuel': 17, 'Thomas': 12}"
      ]
     },
     "execution_count": 2,
     "metadata": {},
     "output_type": "execute_result"
    }
   ],
   "source": [
    "mon_dictionnaire  # Dans un dictionnaire, nous avons les clefs et les valeurs , ici: 'Éleve' : note "
   ]
  },
  {
   "cell_type": "markdown",
   "metadata": {},
   "source": [
    "## 2- Modifier un dictionnaire: \n",
    "\n",
    "- Pour <b>ajouter</b> une valeur "
   ]
  },
  {
   "cell_type": "code",
   "execution_count": 3,
   "metadata": {},
   "outputs": [
    {
     "name": "stdout",
     "output_type": "stream",
     "text": [
      "{'Marie': 15, 'Thomas': 12, 'Julien': 'absent', 'Elise': 9, 'Samuel': 17, 'Julie': 9}\n"
     ]
    }
   ],
   "source": [
    "# Ajouter un nouveau couple ( clef : valeur ) dans un dictionnaire \n",
    "mon_dictionnaire[\"Julie\"]=9\n",
    "print(mon_dictionnaire)"
   ]
  },
  {
   "cell_type": "markdown",
   "metadata": {},
   "source": [
    "- Pour <b>modifier</b> une valeur avec une clef existant"
   ]
  },
  {
   "cell_type": "code",
   "execution_count": 4,
   "metadata": {},
   "outputs": [
    {
     "name": "stdout",
     "output_type": "stream",
     "text": [
      "{'Marie': 15, 'Thomas': 12, 'Julien': 13, 'Elise': 9, 'Samuel': 17, 'Julie': 9}\n"
     ]
    }
   ],
   "source": [
    "# On peut modifier une valeur dans un dictionnaire avec une clef existante \n",
    "mon_dictionnaire[\"Julien\"]=13\n",
    "print(mon_dictionnaire)"
   ]
  },
  {
   "cell_type": "code",
   "execution_count": 5,
   "metadata": {},
   "outputs": [
    {
     "name": "stdout",
     "output_type": "stream",
     "text": [
      "{'Marie': 15, 'Thomas': 12, 'Julien': 16, 'Elise': 9, 'Samuel': 17, 'Julie': 9}\n"
     ]
    }
   ],
   "source": [
    "# Un dictionnaire ne peut pas avoir deux fois la même clef, une clef est unique!\n",
    "mon_dictionnaire[\"Julien\"]=16\n",
    "print(mon_dictionnaire)"
   ]
  },
  {
   "cell_type": "markdown",
   "metadata": {},
   "source": [
    "- Pour <b>supprimer</b> une valeur avec une clef existantE"
   ]
  },
  {
   "cell_type": "code",
   "execution_count": 6,
   "metadata": {
    "collapsed": true
   },
   "outputs": [],
   "source": [
    "# On peut supprimer une valeur dans un dictionnaire \n",
    "del mon_dictionnaire[\"Julie\"]"
   ]
  },
  {
   "cell_type": "code",
   "execution_count": 7,
   "metadata": {},
   "outputs": [
    {
     "name": "stdout",
     "output_type": "stream",
     "text": [
      "{'Marie': 15, 'Thomas': 12, 'Julien': 16, 'Elise': 9, 'Samuel': 17}\n"
     ]
    }
   ],
   "source": [
    "print(mon_dictionnaire)"
   ]
  },
  {
   "cell_type": "markdown",
   "metadata": {},
   "source": [
    "## 3- Parcourir un dictionnaire: \n",
    "\n",
    "Une fois le dictionnaire crée, nous pouvons accéder aux éléments en utilisant les clefs."
   ]
  },
  {
   "cell_type": "code",
   "execution_count": 8,
   "metadata": {},
   "outputs": [
    {
     "data": {
      "text/plain": [
       "17"
      ]
     },
     "execution_count": 8,
     "metadata": {},
     "output_type": "execute_result"
    }
   ],
   "source": [
    "# Accéder à une valeur avec une clef \n",
    "mon_dictionnaire[\"Samuel\"]   "
   ]
  },
  {
   "cell_type": "markdown",
   "metadata": {},
   "source": [
    "- On peut parcourir un dictionnaire suivant 3 méthodes utilisant la boucle <b>FOR</b>: \n",
    "    - par valeur\n",
    "    - par clef\n",
    "    - par clef + valeur\n"
   ]
  },
  {
   "cell_type": "code",
   "execution_count": 9,
   "metadata": {},
   "outputs": [
    {
     "data": {
      "text/plain": [
       "dict_keys(['Marie', 'Thomas', 'Julien', 'Elise', 'Samuel'])"
      ]
     },
     "execution_count": 9,
     "metadata": {},
     "output_type": "execute_result"
    }
   ],
   "source": [
    "# Pour connaitre les clefs d'un dictionnaire: méthode .keys()\n",
    "mon_dictionnaire.keys()"
   ]
  },
  {
   "cell_type": "code",
   "execution_count": 10,
   "metadata": {},
   "outputs": [
    {
     "data": {
      "text/plain": [
       "dict_values([15, 12, 16, 9, 17])"
      ]
     },
     "execution_count": 10,
     "metadata": {},
     "output_type": "execute_result"
    }
   ],
   "source": [
    "# Pour connaitre les valeurs d'un dictionnaire: méthode .values()\n",
    "mon_dictionnaire.values()"
   ]
  },
  {
   "cell_type": "code",
   "execution_count": 11,
   "metadata": {},
   "outputs": [
    {
     "name": "stdout",
     "output_type": "stream",
     "text": [
      "Marie\n",
      "Thomas\n",
      "Julien\n",
      "Elise\n",
      "Samuel\n"
     ]
    }
   ],
   "source": [
    "# Pour parcourir les clefs d'un dictionnaire \n",
    "for cle in mon_dictionnaire.keys():\n",
    "    print(cle)"
   ]
  },
  {
   "cell_type": "code",
   "execution_count": 12,
   "metadata": {},
   "outputs": [
    {
     "name": "stdout",
     "output_type": "stream",
     "text": [
      "15\n",
      "12\n",
      "16\n",
      "9\n",
      "17\n"
     ]
    }
   ],
   "source": [
    "# Pour parcourir les valeurs d'un dictionnaire\n",
    "for valeur in mon_dictionnaire.values():\n",
    "    print(valeur)"
   ]
  },
  {
   "cell_type": "code",
   "execution_count": 13,
   "metadata": {},
   "outputs": [
    {
     "data": {
      "text/plain": [
       "dict_items([('Marie', 15), ('Thomas', 12), ('Julien', 16), ('Elise', 9), ('Samuel', 17)])"
      ]
     },
     "execution_count": 13,
     "metadata": {},
     "output_type": "execute_result"
    }
   ],
   "source": [
    "# Pour connaitre les couples clef, valeur: méthode .items()\n",
    "mon_dictionnaire.items()"
   ]
  },
  {
   "cell_type": "code",
   "execution_count": 14,
   "metadata": {
    "collapsed": true
   },
   "outputs": [],
   "source": [
    "# Ici on a des listes contenant des tuples. "
   ]
  },
  {
   "cell_type": "code",
   "execution_count": 15,
   "metadata": {},
   "outputs": [
    {
     "name": "stdout",
     "output_type": "stream",
     "text": [
      "Marie 15\n",
      "Thomas 12\n",
      "Julien 16\n",
      "Elise 9\n",
      "Samuel 17\n"
     ]
    }
   ],
   "source": [
    "# Pour parcourir les couples clefs,valeurs \n",
    "for cle,valeur in mon_dictionnaire.items(): # la boucle for obtient un tuple à chaque itération\n",
    "    print(cle,valeur)"
   ]
  },
  {
   "cell_type": "markdown",
   "metadata": {},
   "source": [
    "## Exercice sur les dictionnaires\n",
    "## Objectif: Manipuler un dictionnaire contenant les notes de 15 élèves. \n",
    "\n",
    "    1- Créer un dictionnaire nommé notes_eleves contenant les notes suivantes :\n",
    "\t    Marie : 15; Samuel : 17; Gaston : 12; Fred : 10; Mae : 5; Julie : 15; Zoe : 7; Claire : 20; Chloe : 8; Julien : 14, Gaël : 9, Samia : 15, Omar : 11, Gabriel : 16, Manon :2\n",
    "\n",
    "    2- Quelle est la moyenne de la classe ?\n",
    "    \n",
    "    3- Afficher le nombre total d’élèves dans la classe.\n",
    "    \n",
    "    4- Combien d’élèves ont une note strictement supérieure à la moyenne ?\n",
    "    \n",
    "    5- Quel est le prénom du meilleur élève de la classe ?\n",
    "    \n",
    "    6- Combien d’élèves ont un prénom avec strictement moins de 4 lettres ?\n",
    "    \n",
    "    7- Afficher le prénom des élèves qui ont une note paire (multiple de 2).![image.png](attachment:image.png)"
   ]
  },
  {
   "cell_type": "code",
   "execution_count": null,
   "metadata": {
    "collapsed": true
   },
   "outputs": [],
   "source": []
  },
  {
   "cell_type": "markdown",
   "metadata": {},
   "source": [
    "### Corrigé de l'exercice: \n",
    "\n",
    "- 1: Créer un dictionnaire"
   ]
  },
  {
   "cell_type": "code",
   "execution_count": 16,
   "metadata": {
    "collapsed": true
   },
   "outputs": [],
   "source": [
    "notes_eleves={\n",
    "    \"Marie\" : 15,\n",
    "    \"Samuel\" : 17,\n",
    "    \"Gaston\" : 12,\n",
    "    \"Fred\" : 10,\n",
    "    \"Mae\" : 5,\n",
    "    \"Julie\" : 15,\n",
    "    \"Zoe\" : 7,\n",
    "    \"Claire\" : 20,\n",
    "    \"Chloe\" : 8,\n",
    "    \"Julien\" : 14,\n",
    "    \"Gaël\" : 9,\n",
    "    \"Samia\" : 15,\n",
    "    \"Omar\" : 11,\n",
    "    \"Gabriel\" : 16,\n",
    "    \"Manon\" : 2\n",
    "}"
   ]
  },
  {
   "cell_type": "markdown",
   "metadata": {
    "collapsed": true
   },
   "source": [
    "- 2: Quelle est la moyenne générale de la classe "
   ]
  },
  {
   "cell_type": "code",
   "execution_count": 17,
   "metadata": {},
   "outputs": [
    {
     "data": {
      "text/plain": [
       "dict_values([15, 17, 12, 10, 5, 15, 7, 20, 8, 14, 9, 15, 11, 16, 2])"
      ]
     },
     "execution_count": 17,
     "metadata": {},
     "output_type": "execute_result"
    }
   ],
   "source": [
    "notes_eleves.values()"
   ]
  },
  {
   "cell_type": "code",
   "execution_count": 18,
   "metadata": {
    "collapsed": true
   },
   "outputs": [],
   "source": [
    "# on utilise la librairie mathématique numpy  \n",
    "# mais numpy ne peut pas travailler avec un dictionnaire \n",
    "# on doit convertir la structure en list()\n",
    "\n",
    "import numpy  # on charge la librairie mathématique \n",
    "moyenne_generale=numpy.mean(list(notes_eleves.values()))  # On utilise la fonction mean() de numpy sur notre list"
   ]
  },
  {
   "cell_type": "code",
   "execution_count": 19,
   "metadata": {},
   "outputs": [
    {
     "data": {
      "text/plain": [
       "11.733333333333333"
      ]
     },
     "execution_count": 19,
     "metadata": {},
     "output_type": "execute_result"
    }
   ],
   "source": [
    "moyenne_generale"
   ]
  },
  {
   "cell_type": "markdown",
   "metadata": {},
   "source": [
    "- 3: Afficher le nombre total d'élèves dans la classe"
   ]
  },
  {
   "cell_type": "code",
   "execution_count": 20,
   "metadata": {},
   "outputs": [
    {
     "name": "stdout",
     "output_type": "stream",
     "text": [
      "Le nombre d'élèves dans la classe est de 15\n"
     ]
    }
   ],
   "source": [
    "nombre_eleves=len(notes_eleves)\n",
    "print(\"Le nombre d'élèves dans la classe est de %d\" % (nombre_eleves))"
   ]
  },
  {
   "cell_type": "code",
   "execution_count": 21,
   "metadata": {},
   "outputs": [
    {
     "data": {
      "text/plain": [
       "15"
      ]
     },
     "execution_count": 21,
     "metadata": {},
     "output_type": "execute_result"
    }
   ],
   "source": [
    "len(notes_eleves.keys())  "
   ]
  },
  {
   "cell_type": "markdown",
   "metadata": {},
   "source": [
    "- 4: Combien d'élèves ont une note strictement supérieure à la moyenne de la classe ?\n",
    "\n",
    "Une solution ici est de parcourir notre dictionnaire avec une boucle et incrémenter notre compteur à chaque fois que la condition est rencontrée. "
   ]
  },
  {
   "cell_type": "code",
   "execution_count": 22,
   "metadata": {},
   "outputs": [
    {
     "name": "stdout",
     "output_type": "stream",
     "text": [
      "Le nombre d'élèves avec une note supérieure à 11.73 est de 8 élèves\n"
     ]
    }
   ],
   "source": [
    "nombre_eleves_avec_note_sup_moyenne=0\n",
    "for valeur in notes_eleves.values():\n",
    "    if valeur > moyenne_generale:   \n",
    "        nombre_eleves_avec_note_sup_moyenne=nombre_eleves_avec_note_sup_moyenne+1\n",
    "print(\"Le nombre d'élèves avec une note supérieure à %.2f est de %d élèves\" % (moyenne_generale, nombre_eleves_avec_note_sup_moyenne))"
   ]
  },
  {
   "cell_type": "markdown",
   "metadata": {},
   "source": [
    "- 5:  Quel est le prénom du meilleur élève de la classe ?"
   ]
  },
  {
   "cell_type": "code",
   "execution_count": 23,
   "metadata": {
    "collapsed": true
   },
   "outputs": [],
   "source": [
    "# On va d'abord déterminer  la meilleure note: utilisation de la fonction max()\n",
    "meilleure_note=max(notes_eleves.values())"
   ]
  },
  {
   "cell_type": "code",
   "execution_count": 24,
   "metadata": {},
   "outputs": [
    {
     "data": {
      "text/plain": [
       "20"
      ]
     },
     "execution_count": 24,
     "metadata": {},
     "output_type": "execute_result"
    }
   ],
   "source": [
    "meilleure_note"
   ]
  },
  {
   "cell_type": "code",
   "execution_count": 25,
   "metadata": {},
   "outputs": [
    {
     "name": "stdout",
     "output_type": "stream",
     "text": [
      "Claire\n"
     ]
    }
   ],
   "source": [
    "# On va parcourir notre dictionnaire et trouver la clef associée à notre valeur\n",
    "# Pour cela on va travailler sur les tuples avec la méthode item()\n",
    "for prenom,note in notes_eleves.items():\n",
    "    if note == meilleure_note:\n",
    "        print(prenom)"
   ]
  },
  {
   "cell_type": "markdown",
   "metadata": {},
   "source": [
    "- 6: Combien d'élèves ont un prénom avec strictement moins de 4 lettres ?"
   ]
  },
  {
   "cell_type": "code",
   "execution_count": 26,
   "metadata": {},
   "outputs": [
    {
     "name": "stdout",
     "output_type": "stream",
     "text": [
      "2\n"
     ]
    }
   ],
   "source": [
    "# On va parcourir les clefs de notre dictionnaire et mettre une condition sur la longueur de chaque clef\n",
    "\n",
    "nombre_eleves=0\n",
    "for prenom in notes_eleves.keys():\n",
    "    if len(prenom) < 4:\n",
    "        nombre_eleves=nombre_eleves+1\n",
    "print(nombre_eleves)"
   ]
  },
  {
   "cell_type": "markdown",
   "metadata": {},
   "source": [
    "- 7: Afficher les prénoms des élèves qui ont une note paire."
   ]
  },
  {
   "cell_type": "code",
   "execution_count": 27,
   "metadata": {},
   "outputs": [
    {
     "name": "stdout",
     "output_type": "stream",
     "text": [
      "Gaston 12\n",
      "Fred 10\n",
      "Claire 20\n",
      "Chloe 8\n",
      "Julien 14\n",
      "Gabriel 16\n",
      "Manon 2\n"
     ]
    }
   ],
   "source": [
    "# On va parcourir les tuples du dictionnaire et mettre une condition sur les valeurs \n",
    "for prenom,note in notes_eleves.items():\n",
    "    if note % 2 == 0:\n",
    "        print(prenom, note)"
   ]
  },
  {
   "cell_type": "code",
   "execution_count": null,
   "metadata": {
    "collapsed": true
   },
   "outputs": [],
   "source": []
  },
  {
   "cell_type": "code",
   "execution_count": null,
   "metadata": {
    "collapsed": true
   },
   "outputs": [],
   "source": []
  },
  {
   "cell_type": "code",
   "execution_count": null,
   "metadata": {
    "collapsed": true
   },
   "outputs": [],
   "source": []
  }
 ],
 "metadata": {
  "kernelspec": {
   "display_name": "Python 3",
   "language": "python",
   "name": "python3"
  },
  "language_info": {
   "codemirror_mode": {
    "name": "ipython",
    "version": 3
   },
   "file_extension": ".py",
   "mimetype": "text/x-python",
   "name": "python",
   "nbconvert_exporter": "python",
   "pygments_lexer": "ipython3",
   "version": "3.6.3"
  }
 },
 "nbformat": 4,
 "nbformat_minor": 2
}
