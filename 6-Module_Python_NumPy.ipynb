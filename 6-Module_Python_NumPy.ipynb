{
 "cells": [
  {
   "cell_type": "markdown",
   "metadata": {},
   "source": [
    "<img src=\"./figures/NumPy_logo.svg\" alt=\"Indentation\" width=\"30%\" height=\"30%\">\n",
    "\n",
    "\n",
    "# Utilisation de la librairie Numpy  (Numerical Python)\n",
    "\n",
    "\n",
    "- Bibliothèque importante en Python en calcul scientifique, cette librairie est appelée dans beaucoup d'autres librairies\n",
    "\n",
    "- Intègre une nouvelle structure de données: les ndarray (N-dimensional array). Ce sont des vecteurs (tableaux à 1 dimension), tableaux à plusieurs dimensions\n",
    "\n",
    "- Intègre un ensemble de fonctions développées en C. Calcul performant sur les calculs \n",
    "\n",
    "- Utilisé dans tous les projets de calculs numériques \n",
    "\n",
    "- Les ndarray se manipulent comme les listes et les tubles MAIS ne peut contenir qu'un seul type de données.\n",
    "\n",
    "\n",
    "\n",
    "Nous allons voir comment initialiser des tableaux Numpy de plusieurs façons, accéder aux valeurs dans les tableaux, effectuer des opérations mathématiques et matricielles, et utiliser des tableaux aussi bien pour le masquage que pour les comparaisons. \n",
    " \n",
    "\n",
    "## 1- Création d'un tableau Numpy ou ndarray\n",
    " \n",
    "Tout d’abord, vous devez importer Numpy avec le code suivant:"
   ]
  },
  {
   "cell_type": "code",
   "execution_count": 1,
   "metadata": {
    "collapsed": true
   },
   "outputs": [],
   "source": [
    "# On va importer la librairie Numpy et créer un alias. \n",
    "# Les alias permettent d'alléger l'écriture des codes. \n",
    "import numpy as np"
   ]
  },
  {
   "cell_type": "markdown",
   "metadata": {},
   "source": [
    "Contrairement à une liste, vous ne pouvez pas créer de tableaux Numpy vides. Vous trouverez ci-dessous plusieurs façons d’initialiser un tableau Numpy en fonction de vos besoins:\n",
    "\n",
    "- Utilisation de la fonction <b>array()</b> pour créer un tableau Numpy:"
   ]
  },
  {
   "cell_type": "code",
   "execution_count": 2,
   "metadata": {},
   "outputs": [
    {
     "data": {
      "text/plain": [
       "array([ 1,  2,  3,  4,  5,  6,  7,  8,  9, 10, 11, 12, 13, 14, 15, 16, 17,\n",
       "       18, 19, 20])"
      ]
     },
     "execution_count": 2,
     "metadata": {},
     "output_type": "execute_result"
    }
   ],
   "source": [
    "tableau1 = np.array([1,2,3,4,5,6,7,8,9,10,11,12,13,14,15,16,17,18,19,20])\n",
    "tableau1"
   ]
  },
  {
   "cell_type": "markdown",
   "metadata": {},
   "source": [
    "Création d'un tableau bi-dimensionnel avec des lignes et des colonnes; on crée une liste de liste. Chaque liste est une ligne du tableau."
   ]
  },
  {
   "cell_type": "code",
   "execution_count": 3,
   "metadata": {},
   "outputs": [
    {
     "data": {
      "text/plain": [
       "array([[1, 2, 3],\n",
       "       [4, 5, 6]])"
      ]
     },
     "execution_count": 3,
     "metadata": {},
     "output_type": "execute_result"
    }
   ],
   "source": [
    "# Exemple d'un tableau avec 3 lignes et 3 colonnes\n",
    "tableau2 = np.array([[1,2,3], [4,5,6]])\n",
    "tableau2"
   ]
  },
  {
   "cell_type": "code",
   "execution_count": 4,
   "metadata": {},
   "outputs": [
    {
     "data": {
      "text/plain": [
       "array([[1, 2, 3],\n",
       "       [4, 5, 6],\n",
       "       [7, 8, 9]])"
      ]
     },
     "execution_count": 4,
     "metadata": {},
     "output_type": "execute_result"
    }
   ],
   "source": [
    "# Exemple d'un tableau avec 3 lignes et 3 colonnes\n",
    "tableau3 = np.array([[1,2,3], [4,5,6], [7,8,9]])\n",
    "tableau3"
   ]
  },
  {
   "cell_type": "markdown",
   "metadata": {},
   "source": [
    "- Utilisation de la fonction <b>range()</b> pour créer un tableau Numpy:"
   ]
  },
  {
   "cell_type": "code",
   "execution_count": 5,
   "metadata": {},
   "outputs": [
    {
     "data": {
      "text/plain": [
       "array([0, 1, 2, 3, 4, 5, 6, 7, 8, 9])"
      ]
     },
     "execution_count": 5,
     "metadata": {},
     "output_type": "execute_result"
    }
   ],
   "source": [
    "tableau4 = np.array(range(10)) # tableau avec des chiffres de 0 à 9\n",
    "tableau4"
   ]
  },
  {
   "cell_type": "markdown",
   "metadata": {},
   "source": [
    "- Utilisation de la fonction <b>zeros()</b> pour créer un tableau Numpy avec des zéros:"
   ]
  },
  {
   "cell_type": "code",
   "execution_count": 6,
   "metadata": {},
   "outputs": [
    {
     "data": {
      "text/plain": [
       "array([[0., 0., 0.],\n",
       "       [0., 0., 0.],\n",
       "       [0., 0., 0.],\n",
       "       [0., 0., 0.]])"
      ]
     },
     "execution_count": 6,
     "metadata": {},
     "output_type": "execute_result"
    }
   ],
   "source": [
    "tableau5 = np.zeros((4,3)) # tableau contenant 4 lignes et 3 colonnes de 0\n",
    "tableau5"
   ]
  },
  {
   "cell_type": "markdown",
   "metadata": {},
   "source": [
    "- Utilisation de la fonction <b>ones()</b> pour créer un tableau Numpy avec des 1:"
   ]
  },
  {
   "cell_type": "code",
   "execution_count": 7,
   "metadata": {},
   "outputs": [
    {
     "data": {
      "text/plain": [
       "array([[1., 1., 1.],\n",
       "       [1., 1., 1.],\n",
       "       [1., 1., 1.],\n",
       "       [1., 1., 1.]])"
      ]
     },
     "execution_count": 7,
     "metadata": {},
     "output_type": "execute_result"
    }
   ],
   "source": [
    "tableau6 = np.ones((4,3)) # tableau contenant 2 lignes 2 colonnes de 1\n",
    "tableau6"
   ]
  },
  {
   "cell_type": "markdown",
   "metadata": {},
   "source": [
    "- Utilisation de la fonction <b>identity()</b> pour créer une matrice Numpy identité:"
   ]
  },
  {
   "cell_type": "code",
   "execution_count": 8,
   "metadata": {},
   "outputs": [
    {
     "data": {
      "text/plain": [
       "array([[1., 0., 0., 0.],\n",
       "       [0., 1., 0., 0.],\n",
       "       [0., 0., 1., 0.],\n",
       "       [0., 0., 0., 1.]])"
      ]
     },
     "execution_count": 8,
     "metadata": {},
     "output_type": "execute_result"
    }
   ],
   "source": [
    "tableau7 = np.identity(4) # Matrice Identité de dimension 4\n",
    "tableau7"
   ]
  },
  {
   "cell_type": "markdown",
   "metadata": {},
   "source": [
    "- Conversion d'une liste en tableau numpy avec la fonction <b>array()</b>"
   ]
  },
  {
   "cell_type": "code",
   "execution_count": 9,
   "metadata": {},
   "outputs": [
    {
     "data": {
      "text/plain": [
       "[0, 1, 2, 3, 4, 5, 6]"
      ]
     },
     "execution_count": 9,
     "metadata": {},
     "output_type": "execute_result"
    }
   ],
   "source": [
    "ma_liste = [0,1,2,3,4,5,6]\n",
    "ma_liste"
   ]
  },
  {
   "cell_type": "code",
   "execution_count": 10,
   "metadata": {},
   "outputs": [
    {
     "data": {
      "text/plain": [
       "array([0, 1, 2, 3, 4, 5, 6])"
      ]
     },
     "execution_count": 10,
     "metadata": {},
     "output_type": "execute_result"
    }
   ],
   "source": [
    "tableau8 = np.array(ma_liste)\n",
    "tableau8"
   ]
  },
  {
   "cell_type": "markdown",
   "metadata": {},
   "source": [
    "- Utilisation de la fonction <b>random()</b> pour créer un tableau Numpy  avec des valeurs aléatoires:"
   ]
  },
  {
   "cell_type": "code",
   "execution_count": 11,
   "metadata": {},
   "outputs": [
    {
     "data": {
      "text/plain": [
       "array([[79,  6, 97],\n",
       "       [ 0,  4, 25],\n",
       "       [97, 63, 38],\n",
       "       [13, 59, 14]])"
      ]
     },
     "execution_count": 11,
     "metadata": {},
     "output_type": "execute_result"
    }
   ],
   "source": [
    "tableau9 = np.random.randint(100,size=(4,3))  # Exemple création d'un tableau 4*3 random avec valeurs comprises entre 0 et 100 \n",
    "tableau9"
   ]
  },
  {
   "cell_type": "markdown",
   "metadata": {},
   "source": [
    "## 2- Accéder aux données d'un tableau Numpy ou ndarray"
   ]
  },
  {
   "cell_type": "markdown",
   "metadata": {},
   "source": [
    "Nous pouvons accéder à un élément individuel ou à une tranche de valeurs (slicing). Semblable aux listes, le premier élément est indexé à 0. Par exemple, array1[0,0] indique que nous accédons à la première ligne et à la première colonne. Le premier nombre du tuple [0,0] indique l’index de la ligne et le deuxième nombre indique l’index de la colonne:\n"
   ]
  },
  {
   "cell_type": "code",
   "execution_count": 12,
   "metadata": {},
   "outputs": [
    {
     "data": {
      "text/plain": [
       "array([[1, 2, 3],\n",
       "       [4, 5, 6],\n",
       "       [7, 8, 9]])"
      ]
     },
     "execution_count": 12,
     "metadata": {},
     "output_type": "execute_result"
    }
   ],
   "source": [
    "mon_tableau = np.array([[1,2,3], [4,5,6], [7,8,9]])\n",
    "mon_tableau"
   ]
  },
  {
   "cell_type": "markdown",
   "metadata": {},
   "source": [
    "- Exemples pour accéder à des éléments individuels d'un tableau Numpy:"
   ]
  },
  {
   "cell_type": "code",
   "execution_count": 13,
   "metadata": {},
   "outputs": [
    {
     "data": {
      "text/plain": [
       "6"
      ]
     },
     "execution_count": 13,
     "metadata": {},
     "output_type": "execute_result"
    }
   ],
   "source": [
    "mon_tableau[1,2]     # On veut accéder à l'élément situé à la ligne d'index 1 et la colonne d'index 2 \n",
    "                     #  ndarray(row,column) "
   ]
  },
  {
   "cell_type": "code",
   "execution_count": 14,
   "metadata": {},
   "outputs": [
    {
     "data": {
      "text/plain": [
       "6"
      ]
     },
     "execution_count": 14,
     "metadata": {},
     "output_type": "execute_result"
    }
   ],
   "source": [
    "mon_tableau[1,-1]    # On veut accéder à l'élément situé à la ligne d'index 1 et à la colonne ayant le dernier index"
   ]
  },
  {
   "cell_type": "code",
   "execution_count": 15,
   "metadata": {},
   "outputs": [
    {
     "data": {
      "text/plain": [
       "2"
      ]
     },
     "execution_count": 15,
     "metadata": {},
     "output_type": "execute_result"
    }
   ],
   "source": [
    "mon_tableau[0,1]     # On veut accéder à l'élément situé à la ligne d'index 0 et la colonne d'index 1"
   ]
  },
  {
   "cell_type": "code",
   "execution_count": 16,
   "metadata": {},
   "outputs": [
    {
     "data": {
      "text/plain": [
       "4"
      ]
     },
     "execution_count": 16,
     "metadata": {},
     "output_type": "execute_result"
    }
   ],
   "source": [
    "mon_tableau[1,0]     # On veut accéder à l'élément situé à la ligne d'index 1 et la colonne d'index 0                     "
   ]
  },
  {
   "cell_type": "markdown",
   "metadata": {},
   "source": [
    "- Exemples pour accéder à des tranches d'un tableau Numpy: <b>Slicing</b>"
   ]
  },
  {
   "cell_type": "code",
   "execution_count": 17,
   "metadata": {},
   "outputs": [
    {
     "data": {
      "text/plain": [
       "array([1, 4, 7])"
      ]
     },
     "execution_count": 17,
     "metadata": {},
     "output_type": "execute_result"
    }
   ],
   "source": [
    "mon_tableau[:,0]    # On veut toutes les lignes de la colonne d'index 0 (slicing)"
   ]
  },
  {
   "cell_type": "code",
   "execution_count": 18,
   "metadata": {},
   "outputs": [
    {
     "data": {
      "text/plain": [
       "array([1, 2, 3])"
      ]
     },
     "execution_count": 18,
     "metadata": {},
     "output_type": "execute_result"
    }
   ],
   "source": [
    "mon_tableau[0,:]    # On veut toutes les colonnes de la ligne d'index 0 (slicing)"
   ]
  },
  {
   "cell_type": "code",
   "execution_count": 19,
   "metadata": {},
   "outputs": [
    {
     "data": {
      "text/plain": [
       "array([[1, 3],\n",
       "       [4, 6],\n",
       "       [7, 9]])"
      ]
     },
     "execution_count": 19,
     "metadata": {},
     "output_type": "execute_result"
    }
   ],
   "source": [
    "mon_tableau[:,0:3:2] # On veut toutes les lignes et les colonnes d'index de 0 à 3 avec pas de 2.\n",
    "                     # Donc toutes les lignes et les colonnes 1 et 2 ."
   ]
  },
  {
   "cell_type": "code",
   "execution_count": 20,
   "metadata": {},
   "outputs": [
    {
     "data": {
      "text/plain": [
       "array([3, 6, 9])"
      ]
     },
     "execution_count": 20,
     "metadata": {},
     "output_type": "execute_result"
    }
   ],
   "source": [
    "mon_tableau[:,-1]  # On veut toutes les lignes de la dernière colonne"
   ]
  },
  {
   "cell_type": "code",
   "execution_count": 21,
   "metadata": {},
   "outputs": [
    {
     "data": {
      "text/plain": [
       "array([[2],\n",
       "       [5],\n",
       "       [8]])"
      ]
     },
     "execution_count": 21,
     "metadata": {},
     "output_type": "execute_result"
    }
   ],
   "source": [
    "mon_tableau[:,1:-1] # On veut toutes les lignes entre la colonne d'index 1 et la dernière colonne"
   ]
  },
  {
   "cell_type": "code",
   "execution_count": 22,
   "metadata": {},
   "outputs": [
    {
     "data": {
      "text/plain": [
       "array([8])"
      ]
     },
     "execution_count": 22,
     "metadata": {},
     "output_type": "execute_result"
    }
   ],
   "source": [
    "mon_tableau[2,1:-1] # On veut les valeurs de la ligne d'index 2 entre la colonne d'index 1 et la dernière colonne"
   ]
  },
  {
   "cell_type": "markdown",
   "metadata": {},
   "source": [
    "## 3- Calculs mathématiques et matriciels sur un tableau Numpy: "
   ]
  },
  {
   "cell_type": "markdown",
   "metadata": {},
   "source": [
    "Les tableaux Numpy sont très faciles à manipuler: concaténer, ajouter, multiplier, transposer avec une seule ligne de code.\n",
    "Vous trouverez ci-dessous quelques exemples d’opérations arithmétiques et multiplicatives variées avec les tableaux Numpy. "
   ]
  },
  {
   "cell_type": "code",
   "execution_count": 23,
   "metadata": {},
   "outputs": [
    {
     "data": {
      "text/plain": [
       "array([[0, 1, 2],\n",
       "       [3, 4, 5],\n",
       "       [6, 7, 8]])"
      ]
     },
     "execution_count": 23,
     "metadata": {},
     "output_type": "execute_result"
    }
   ],
   "source": [
    "array1 = np.arange(9).reshape(3,3)\n",
    "array1"
   ]
  },
  {
   "cell_type": "code",
   "execution_count": 24,
   "metadata": {},
   "outputs": [
    {
     "data": {
      "text/plain": [
       "array([[41, 19, 44],\n",
       "       [24, 40, 37],\n",
       "       [19, 30, 24]])"
      ]
     },
     "execution_count": 24,
     "metadata": {},
     "output_type": "execute_result"
    }
   ],
   "source": [
    "array2 = np.random.randint(50, size=(3,3))\n",
    "array2"
   ]
  },
  {
   "cell_type": "markdown",
   "metadata": {},
   "source": [
    "- Opérations arithmétiques de base: addition, soustraction, multiplication, division"
   ]
  },
  {
   "cell_type": "code",
   "execution_count": 25,
   "metadata": {},
   "outputs": [
    {
     "data": {
      "text/plain": [
       "array([[10, 11, 12],\n",
       "       [13, 14, 15],\n",
       "       [16, 17, 18]])"
      ]
     },
     "execution_count": 25,
     "metadata": {},
     "output_type": "execute_result"
    }
   ],
   "source": [
    "array1 + 10 # ajouter une valeur à tous les éléments"
   ]
  },
  {
   "cell_type": "code",
   "execution_count": 26,
   "metadata": {},
   "outputs": [
    {
     "data": {
      "text/plain": [
       "array([[-10,  -9,  -8],\n",
       "       [ -7,  -6,  -5],\n",
       "       [ -4,  -3,  -2]])"
      ]
     },
     "execution_count": 26,
     "metadata": {},
     "output_type": "execute_result"
    }
   ],
   "source": [
    "array1 - 10 # soustraire une valeur à tous les éléments"
   ]
  },
  {
   "cell_type": "code",
   "execution_count": 27,
   "metadata": {},
   "outputs": [
    {
     "data": {
      "text/plain": [
       "array([[  0, 100, 200],\n",
       "       [300, 400, 500],\n",
       "       [600, 700, 800]])"
      ]
     },
     "execution_count": 27,
     "metadata": {},
     "output_type": "execute_result"
    }
   ],
   "source": [
    "array1 * 100 # multiplier une valeur à tous les éléments"
   ]
  },
  {
   "cell_type": "code",
   "execution_count": 28,
   "metadata": {},
   "outputs": [
    {
     "data": {
      "text/plain": [
       "array([ 0, 30, 60])"
      ]
     },
     "execution_count": 28,
     "metadata": {},
     "output_type": "execute_result"
    }
   ],
   "source": [
    "array1[:,0] * 10 # on multiplie par 10 toutes les lignes de la colonne d'index 0."
   ]
  },
  {
   "cell_type": "code",
   "execution_count": 29,
   "metadata": {},
   "outputs": [
    {
     "data": {
      "text/plain": [
       "array([[0. , 0.5, 1. ],\n",
       "       [1.5, 2. , 2.5],\n",
       "       [3. , 3.5, 4. ]])"
      ]
     },
     "execution_count": 29,
     "metadata": {},
     "output_type": "execute_result"
    }
   ],
   "source": [
    "array1 / 2 # diviser une valeur à tous les éléments"
   ]
  },
  {
   "cell_type": "markdown",
   "metadata": {},
   "source": [
    "- quelques fonctions et méthodes Numpy applicables sur les tableaux Numpy:\n",
    "\n",
    "<a class=\"reference internal\" href=\"https://docs.scipy.org/doc/numpy-1.13.0/reference/generated/numpy.all.html#numpy.all\" title=\"numpy.all\"><code class=\"xref py py-obj docutils literal\"><span class=\"pre\">all</span></code></a>,\n",
    "<a class=\"reference internal\" href=\"https://docs.scipy.org/doc/numpy-1.13.0/reference/generated/numpy.any.html#numpy.any\" title=\"numpy.any\"><code class=\"xref py py-obj docutils literal\"><span class=\"pre\">any</span></code></a>,\n",
    "<a class=\"reference internal\" href=\"https://docs.scipy.org/doc/numpy-1.13.0/reference/generated/numpy.apply_along_axis.html#numpy.apply_along_axis\" title=\"numpy.apply_along_axis\"><code class=\"xref py py-obj docutils literal\"><span class=\"pre\">apply_along_axis</span></code></a>,\n",
    "<a class=\"reference internal\" href=\"https://docs.scipy.org/doc/numpy-1.13.0/reference/generated/numpy.argmax.html#numpy.argmax\" title=\"numpy.argmax\"><code class=\"xref py py-obj docutils literal\"><span class=\"pre\">argmax</span></code></a>,\n",
    "<a class=\"reference internal\" href=\"https://docs.scipy.org/doc/numpy-1.13.0/reference/generated/numpy.argmin.html#numpy.argmin\" title=\"numpy.argmin\"><code class=\"xref py py-obj docutils literal\"><span class=\"pre\">argmin</span></code></a>,\n",
    "<a class=\"reference internal\" href=\"https://docs.scipy.org/doc/numpy-1.13.0/reference/generated/numpy.argsort.html#numpy.argsort\" title=\"numpy.argsort\"><code class=\"xref py py-obj docutils literal\"><span class=\"pre\">argsort</span></code></a>,\n",
    "<a class=\"reference internal\" href=\"https://docs.scipy.org/doc/numpy-1.13.0/reference/generated/numpy.average.html#numpy.average\" title=\"numpy.average\"><code class=\"xref py py-obj docutils literal\"><span class=\"pre\">average</span></code></a>,\n",
    "<a class=\"reference internal\" href=\"https://docs.scipy.org/doc/numpy-1.13.0/reference/generated/numpy.bincount.html#numpy.bincount\" title=\"numpy.bincount\"><code class=\"xref py py-obj docutils literal\"><span class=\"pre\">bincount</span></code></a>,\n",
    "<a class=\"reference internal\" href=\"https://docs.scipy.org/doc/numpy-1.13.0/reference/generated/numpy.ceil.html#numpy.ceil\" title=\"numpy.ceil\"><code class=\"xref py py-obj docutils literal\"><span class=\"pre\">ceil</span></code></a>,\n",
    "<a class=\"reference internal\" href=\"https://docs.scipy.org/doc/numpy-1.13.0/reference/generated/numpy.clip.html#numpy.clip\" title=\"numpy.clip\"><code class=\"xref py py-obj docutils literal\"><span class=\"pre\">clip</span></code></a>,\n",
    "<a class=\"reference internal\" href=\"https://docs.scipy.org/doc/numpy-1.13.0/reference/generated/numpy.conj.html#numpy.conj\" title=\"numpy.conj\"><code class=\"xref py py-obj docutils literal\"><span class=\"pre\">conj</span></code></a>,\n",
    "<a class=\"reference internal\" href=\"https://docs.scipy.org/doc/numpy-1.13.0/reference/generated/numpy.corrcoef.html#numpy.corrcoef\" title=\"numpy.corrcoef\"><code class=\"xref py py-obj docutils literal\"><span class=\"pre\">corrcoef</span></code></a>,\n",
    "<a class=\"reference internal\" href=\"https://docs.scipy.org/doc/numpy-1.13.0/reference/generated/numpy.cov.html#numpy.cov\" title=\"numpy.cov\"><code class=\"xref py py-obj docutils literal\"><span class=\"pre\">cov</span></code></a>,\n",
    "<a class=\"reference internal\" href=\"https://docs.scipy.org/doc/numpy-1.13.0/reference/generated/numpy.cross.html#numpy.cross\" title=\"numpy.cross\"><code class=\"xref py py-obj docutils literal\"><span class=\"pre\">cross</span></code></a>,\n",
    "<a class=\"reference internal\" href=\"https://docs.scipy.org/doc/numpy-1.13.0/reference/generated/numpy.cumprod.html#numpy.cumprod\" title=\"numpy.cumprod\"><code class=\"xref py py-obj docutils literal\"><span class=\"pre\">cumprod</span></code></a>,\n",
    "<a class=\"reference internal\" href=\"https://docs.scipy.org/doc/numpy-1.13.0/reference/generated/numpy.cumsum.html#numpy.cumsum\" title=\"numpy.cumsum\"><code class=\"xref py py-obj docutils literal\"><span class=\"pre\">cumsum</span></code></a>,\n",
    "<a class=\"reference internal\" href=\"https://docs.scipy.org/doc/numpy-1.13.0/reference/generated/numpy.diff.html#numpy.diff\" title=\"numpy.diff\"><code class=\"xref py py-obj docutils literal\"><span class=\"pre\">diff</span></code></a>,\n",
    "<a class=\"reference internal\" href=\"https://docs.scipy.org/doc/numpy-1.13.0/reference/generated/numpy.dot.html#numpy.dot\" title=\"numpy.dot\"><code class=\"xref py py-obj docutils literal\"><span class=\"pre\">dot</span></code></a>,\n",
    "<a class=\"reference internal\" href=\"https://docs.scipy.org/doc/numpy-1.13.0/reference/generated/numpy.floor.html#numpy.floor\" title=\"numpy.floor\"><code class=\"xref py py-obj docutils literal\"><span class=\"pre\">floor</span></code></a>,\n",
    "<a class=\"reference internal\" href=\"https://docs.scipy.org/doc/numpy-1.13.0/reference/generated/numpy.inner.html#numpy.inner\" title=\"numpy.inner\"><code class=\"xref py py-obj docutils literal\"><span class=\"pre\">inner</span></code></a>,\n",
    "<a class=\"reference internal\" href=\"https://docs.scipy.org/doc/numpy-1.13.0/reference/generated/numpy.lexsort.html#numpy.lexsort\" title=\"numpy.lexsort\"><code class=\"xref py py-obj docutils literal\"><span class=\"pre\">lexsort</span></code></a>,\n",
    "<a class=\"reference external\" href=\"https://docs.python.org/dev/library/functions.html#max\" title=\"(in Python v3.7)\"><code class=\"xref py py-obj docutils literal\"><span class=\"pre\">max</span></code></a>,\n",
    "<a class=\"reference internal\" href=\"https://docs.scipy.org/doc/numpy-1.13.0/reference/generated/numpy.maximum.html#numpy.maximum\" title=\"numpy.maximum\"><code class=\"xref py py-obj docutils literal\"><span class=\"pre\">maximum</span></code></a>,\n",
    "<a class=\"reference internal\" href=\"https://docs.scipy.org/doc/numpy-1.13.0/reference/generated/numpy.mean.html#numpy.mean\" title=\"numpy.mean\"><code class=\"xref py py-obj docutils literal\"><span class=\"pre\">mean</span></code></a>,\n",
    "<a class=\"reference internal\" href=\"https://docs.scipy.org/doc/numpy-1.13.0/reference/generated/numpy.median.html#numpy.median\" title=\"numpy.median\"><code class=\"xref py py-obj docutils literal\"><span class=\"pre\">median</span></code></a>,\n",
    "<a class=\"reference external\" href=\"https://docs.python.org/dev/library/functions.html#min\" title=\"(in Python v3.7)\"><code class=\"xref py py-obj docutils literal\"><span class=\"pre\">min</span></code></a>,\n",
    "<a class=\"reference internal\" href=\"https://docs.scipy.org/doc/numpy-1.13.0/reference/generated/numpy.minimum.html#numpy.minimum\" title=\"numpy.minimum\"><code class=\"xref py py-obj docutils literal\"><span class=\"pre\">minimum</span></code></a>,\n",
    "<a class=\"reference internal\" href=\"https://docs.scipy.org/doc/numpy-1.13.0/reference/generated/numpy.nonzero.html#numpy.nonzero\" title=\"numpy.nonzero\"><code class=\"xref py py-obj docutils literal\"><span class=\"pre\">nonzero</span></code></a>,\n",
    "<a class=\"reference internal\" href=\"https://docs.scipy.org/doc/numpy-1.13.0/reference/generated/numpy.outer.html#numpy.outer\" title=\"numpy.outer\"><code class=\"xref py py-obj docutils literal\"><span class=\"pre\">outer</span></code></a>,\n",
    "<a class=\"reference external\" href=\"https://docs.python.org/dev/library/re.html#module-re\" title=\"(in Python v3.7)\"><code class=\"xref py py-obj docutils literal\"><span class=\"pre\">re</span></code></a>,\n",
    "<a class=\"reference external\" href=\"https://docs.python.org/dev/library/functions.html#round\" title=\"(in Python v3.7)\"><code class=\"xref py py-obj docutils literal\"><span class=\"pre\">round</span></code></a>,\n",
    "<a class=\"reference internal\" href=\"https://docs.scipy.org/doc/numpy-1.13.0/reference/generated/numpy.sort.html#numpy.sort\" title=\"numpy.sort\"><code class=\"xref py py-obj docutils literal\"><span class=\"pre\">sort</span></code></a>,\n",
    "<a class=\"reference internal\" href=\"https://docs.scipy.org/doc/numpy-1.13.0/reference/generated/numpy.std.html#numpy.std\" title=\"numpy.std\"><code class=\"xref py py-obj docutils literal\"><span class=\"pre\">std</span></code></a>,\n",
    "<a class=\"reference internal\" href=\"https://docs.scipy.org/doc/numpy-1.13.0/reference/generated/numpy.sum.html#numpy.sum\" title=\"numpy.sum\"><code class=\"xref py py-obj docutils literal\"><span class=\"pre\">sum</span></code></a>,\n",
    "<a class=\"reference internal\" href=\"https://docs.scipy.org/doc/numpy-1.13.0/reference/generated/numpy.trace.html#numpy.trace\" title=\"numpy.trace\"><code class=\"xref py py-obj docutils literal\"><span class=\"pre\">trace</span></code></a>,\n",
    "<a class=\"reference internal\" href=\"https://docs.scipy.org/doc/numpy-1.13.0/reference/generated/numpy.transpose.html#numpy.transpose\" title=\"numpy.transpose\"><code class=\"xref py py-obj docutils literal\"><span class=\"pre\">transpose</span></code></a>,\n",
    "<a class=\"reference internal\" href=\"https://docs.scipy.org/doc/numpy-1.13.0/reference/generated/numpy.var.html#numpy.var\" title=\"numpy.var\"><code class=\"xref py py-obj docutils literal\"><span class=\"pre\">var</span></code></a>,\n",
    "<a class=\"reference internal\" href=\"https://docs.scipy.org/doc/numpy-1.13.0/reference/generated/numpy.vdot.html#numpy.vdot\" title=\"numpy.vdot\"><code class=\"xref py py-obj docutils literal\"><span class=\"pre\">vdot</span></code></a>,\n",
    "<a class=\"reference internal\" href=\"https://docs.scipy.org/doc/numpy-1.13.0/reference/generated/numpy.vectorize.html#numpy.vectorize\" title=\"numpy.vectorize\"><code class=\"xref py py-obj docutils literal\"><span class=\"pre\">vectorize</span></code></a>,\n",
    "<a class=\"reference internal\" href=\"https://docs.scipy.org/doc/numpy-1.13.0/reference/generated/numpy.where.html#numpy.where\" title=\"numpy.where\"><code class=\"xref py py-obj docutils literal\"><span class=\"pre\">where</span></code></a>\n"
   ]
  },
  {
   "cell_type": "code",
   "execution_count": 30,
   "metadata": {
    "scrolled": true
   },
   "outputs": [
    {
     "data": {
      "text/plain": [
       "array([[10, 11, 12],\n",
       "       [13, 14, 15],\n",
       "       [16, 17, 18]])"
      ]
     },
     "execution_count": 30,
     "metadata": {},
     "output_type": "execute_result"
    }
   ],
   "source": [
    "np.add(array1,10) # ajouter une valeur à tous les éléments"
   ]
  },
  {
   "cell_type": "code",
   "execution_count": 31,
   "metadata": {},
   "outputs": [
    {
     "data": {
      "text/plain": [
       "array([[-10,  -9,  -8],\n",
       "       [ -7,  -6,  -5],\n",
       "       [ -4,  -3,  -2]])"
      ]
     },
     "execution_count": 31,
     "metadata": {},
     "output_type": "execute_result"
    }
   ],
   "source": [
    "np.subtract(array1,10) # soustraire une valeur à tous les éléments"
   ]
  },
  {
   "cell_type": "code",
   "execution_count": 32,
   "metadata": {},
   "outputs": [
    {
     "data": {
      "text/plain": [
       "array([[  0, 100, 200],\n",
       "       [300, 400, 500],\n",
       "       [600, 700, 800]])"
      ]
     },
     "execution_count": 32,
     "metadata": {},
     "output_type": "execute_result"
    }
   ],
   "source": [
    "np.multiply(array1,100) # multiplier une valeur à tous les éléments"
   ]
  },
  {
   "cell_type": "code",
   "execution_count": 33,
   "metadata": {},
   "outputs": [
    {
     "data": {
      "text/plain": [
       "array([[0. , 0.5, 1. ],\n",
       "       [1.5, 2. , 2.5],\n",
       "       [3. , 3.5, 4. ]])"
      ]
     },
     "execution_count": 33,
     "metadata": {},
     "output_type": "execute_result"
    }
   ],
   "source": [
    "np.divide(array1, 2) # diviser une valeur à tous les éléments"
   ]
  },
  {
   "cell_type": "code",
   "execution_count": 34,
   "metadata": {},
   "outputs": [
    {
     "data": {
      "text/plain": [
       "4.0"
      ]
     },
     "execution_count": 34,
     "metadata": {},
     "output_type": "execute_result"
    }
   ],
   "source": [
    "np.mean(array1) # calcul de la moyenne du tableau Numpy à partir de la fonction mean()"
   ]
  },
  {
   "cell_type": "code",
   "execution_count": 35,
   "metadata": {},
   "outputs": [
    {
     "data": {
      "text/plain": [
       "4.0"
      ]
     },
     "execution_count": 35,
     "metadata": {},
     "output_type": "execute_result"
    }
   ],
   "source": [
    "array1.mean()  # calcul de la moyenne du tableau Numpy à partir de la méthode mean()"
   ]
  },
  {
   "cell_type": "code",
   "execution_count": 36,
   "metadata": {},
   "outputs": [
    {
     "data": {
      "text/plain": [
       "0"
      ]
     },
     "execution_count": 36,
     "metadata": {},
     "output_type": "execute_result"
    }
   ],
   "source": [
    "array1.min()  # calcul de la valeur minimale du tableau Numpy à partir de la méthode min()"
   ]
  },
  {
   "cell_type": "code",
   "execution_count": 37,
   "metadata": {},
   "outputs": [
    {
     "data": {
      "text/plain": [
       "8"
      ]
     },
     "execution_count": 37,
     "metadata": {},
     "output_type": "execute_result"
    }
   ],
   "source": [
    "array1.max()  # calcul de la valeur maximale du tableau Numpy à partir de la méthode max()"
   ]
  },
  {
   "cell_type": "code",
   "execution_count": 38,
   "metadata": {},
   "outputs": [
    {
     "data": {
      "text/plain": [
       "array([3., 4., 5.])"
      ]
     },
     "execution_count": 38,
     "metadata": {},
     "output_type": "execute_result"
    }
   ],
   "source": [
    "np.mean(array1, axis=0)  # si on veut appliquer une fonction uniquement sur les colonnes "
   ]
  },
  {
   "cell_type": "code",
   "execution_count": 39,
   "metadata": {},
   "outputs": [
    {
     "data": {
      "text/plain": [
       "array([1., 4., 7.])"
      ]
     },
     "execution_count": 39,
     "metadata": {},
     "output_type": "execute_result"
    }
   ],
   "source": [
    "np.mean(array1, axis=1) # si on veut appliquer une fonction uniquement sur les lignes "
   ]
  },
  {
   "cell_type": "markdown",
   "metadata": {},
   "source": [
    "- Opérations entre plusieurs tableaux"
   ]
  },
  {
   "cell_type": "code",
   "execution_count": 40,
   "metadata": {},
   "outputs": [
    {
     "data": {
      "text/plain": [
       "array([[ 41,  38, 132],\n",
       "       [ 96, 200, 222],\n",
       "       [133, 240, 216]])"
      ]
     },
     "execution_count": 40,
     "metadata": {},
     "output_type": "execute_result"
    }
   ],
   "source": [
    "(array1 +1) * array2 # multiplication de 2 tableaux"
   ]
  },
  {
   "cell_type": "code",
   "execution_count": 41,
   "metadata": {
    "scrolled": true
   },
   "outputs": [
    {
     "data": {
      "text/plain": [
       "array([[41, 20, 46],\n",
       "       [27, 44, 42],\n",
       "       [25, 37, 32]])"
      ]
     },
     "execution_count": 41,
     "metadata": {},
     "output_type": "execute_result"
    }
   ],
   "source": [
    "array1 + array2 # somme de 2 tableaux"
   ]
  },
  {
   "cell_type": "code",
   "execution_count": 42,
   "metadata": {},
   "outputs": [
    {
     "data": {
      "text/plain": [
       "array([[ 62, 100,  85],\n",
       "       [314, 367, 400],\n",
       "       [566, 634, 715]])"
      ]
     },
     "execution_count": 42,
     "metadata": {},
     "output_type": "execute_result"
    }
   ],
   "source": [
    "np.dot(array1, array2) # produit scalaire de 2 tableaux"
   ]
  },
  {
   "cell_type": "markdown",
   "metadata": {},
   "source": [
    "## 4- Modifier des tableaux Numpy: \n",
    "\n",
    "Parmi les autres fonctionnalités intéressantes figurent la concaténation, le fractionnement, la transposition (changement d’éléments d’une rangée à l’autre et vice versa) et l’obtention des éléments en diagonale.\n",
    "\n",
    "a)- Pour manipuler/modifier les dimensions d'un tableau Numpy: \n",
    "\n",
    "La dimension d'un tableau est donnée par le nombres d'élélements suivant chaque axe. \n",
    "On a des méthodes spécifiques et des attributs spécifiques aux ndarray():\n",
    "\n",
    "<table border=\"1\" class=\"docutils\">\n",
    "<colgroup>\n",
    "<col width=\"27%\">\n",
    "<col width=\"57%\">\n",
    "</colgroup>\n",
    "<tbody valign=\"top\">\n",
    "\n",
    "<tr><td><tt class=\"docutils literal\"><span class=\"pre\">ndim</span></tt></td>\n",
    "<td>Attribut pour connaitre la dimension d'un tableau Numpy</td>\n",
    "</tr>\n",
    "<tr><td><tt class=\"docutils literal\"><span class=\"pre\">shape</span></tt></td>\n",
    "<td>Attribut pour connaitre les dimension d'un tableau Numpy </td>\n",
    "</tr>\n",
    "<tr><td><tt class=\"docutils literal\"><span class=\"pre\">dtype</span></tt></td>\n",
    "<td>Attribut pour connaitre le type de notre array</td>\n",
    "</tr>\n",
    "<tr><td><tt class=\"docutils literal\"><span class=\"pre\">size</span></tt></td>\n",
    "<td>Attibut pour connaitre la taille de notre array</td>\n",
    "</tr>\n",
    "\n",
    "</tbody>\n",
    "</table>\n",
    "\n",
    "\n"
   ]
  },
  {
   "cell_type": "code",
   "execution_count": 43,
   "metadata": {},
   "outputs": [
    {
     "name": "stdout",
     "output_type": "stream",
     "text": [
      "[[7. 4. 5. 7.]\n",
      " [4. 8. 9. 7.]\n",
      " [8. 2. 2. 0.]] (3, 4) 2\n"
     ]
    }
   ],
   "source": [
    "a = np.floor(10*np.random.random((3,4)))\n",
    "print(a, a.shape, a.ndim)"
   ]
  },
  {
   "cell_type": "markdown",
   "metadata": {},
   "source": [
    "Selon nos besoins en programmation, on peut modifier la dimension d'un tableau."
   ]
  },
  {
   "cell_type": "code",
   "execution_count": 44,
   "metadata": {},
   "outputs": [
    {
     "data": {
      "text/plain": [
       "array([7., 4., 5., 7., 4., 8., 9., 7., 8., 2., 2., 0.])"
      ]
     },
     "execution_count": 44,
     "metadata": {},
     "output_type": "execute_result"
    }
   ],
   "source": [
    "a.ravel()  # écrit notre tableau sur 1 dimension (flattened) "
   ]
  },
  {
   "cell_type": "code",
   "execution_count": 45,
   "metadata": {},
   "outputs": [
    {
     "data": {
      "text/plain": [
       "array([[7., 4.],\n",
       "       [5., 7.],\n",
       "       [4., 8.],\n",
       "       [9., 7.],\n",
       "       [8., 2.],\n",
       "       [2., 0.]])"
      ]
     },
     "execution_count": 45,
     "metadata": {},
     "output_type": "execute_result"
    }
   ],
   "source": [
    "a.reshape(6,2)  # fonction reshape() pour modifier la dimension de notre tableau"
   ]
  },
  {
   "cell_type": "code",
   "execution_count": 46,
   "metadata": {},
   "outputs": [
    {
     "data": {
      "text/plain": [
       "array([[7., 4., 8.],\n",
       "       [4., 8., 2.],\n",
       "       [5., 9., 2.],\n",
       "       [7., 7., 0.]])"
      ]
     },
     "execution_count": 46,
     "metadata": {},
     "output_type": "execute_result"
    }
   ],
   "source": [
    "a.T  # méthode .T pour calculer la transposée de notre tableau. "
   ]
  },
  {
   "cell_type": "code",
   "execution_count": 47,
   "metadata": {},
   "outputs": [
    {
     "name": "stdout",
     "output_type": "stream",
     "text": [
      "(4, 3) (3, 4)\n"
     ]
    }
   ],
   "source": [
    "print(a.T.shape, a.shape)"
   ]
  },
  {
   "cell_type": "markdown",
   "metadata": {},
   "source": [
    "La fonction reshape renvoie son argument avec une forme modifiée, alors que la méthode ndarray.resize modifie le tableau lui-même:"
   ]
  },
  {
   "cell_type": "code",
   "execution_count": 48,
   "metadata": {},
   "outputs": [
    {
     "data": {
      "text/plain": [
       "array([[7., 4., 5., 7., 4., 8.],\n",
       "       [9., 7., 8., 2., 2., 0.]])"
      ]
     },
     "execution_count": 48,
     "metadata": {},
     "output_type": "execute_result"
    }
   ],
   "source": [
    "a.resize((2,6))\n",
    "a"
   ]
  },
  {
   "cell_type": "markdown",
   "metadata": {},
   "source": [
    "Si une dimension est définie à -1 dans une opération de reformage, les autres dimensions sont automatiquement calculées:"
   ]
  },
  {
   "cell_type": "code",
   "execution_count": 49,
   "metadata": {},
   "outputs": [
    {
     "data": {
      "text/plain": [
       "array([[7., 4., 5.],\n",
       "       [7., 4., 8.],\n",
       "       [9., 7., 8.],\n",
       "       [2., 2., 0.]])"
      ]
     },
     "execution_count": 49,
     "metadata": {},
     "output_type": "execute_result"
    }
   ],
   "source": [
    "a.reshape(4,-1)"
   ]
  },
  {
   "cell_type": "markdown",
   "metadata": {},
   "source": [
    "b)- Travailler et modifier un sous-ensemble d'un tableau Numpy:"
   ]
  },
  {
   "cell_type": "code",
   "execution_count": 50,
   "metadata": {},
   "outputs": [
    {
     "data": {
      "text/plain": [
       "array([[1, 2, 3],\n",
       "       [4, 5, 6],\n",
       "       [7, 8, 9]])"
      ]
     },
     "execution_count": 50,
     "metadata": {},
     "output_type": "execute_result"
    }
   ],
   "source": [
    "notre_tableau = np.array([[1,2,3], [4,5,6], [7,8,9]])\n",
    "notre_tableau"
   ]
  },
  {
   "cell_type": "markdown",
   "metadata": {},
   "source": [
    "On va sélectionner un sous-ensemble de notre tableau en prenant la ligne d'index 0 ."
   ]
  },
  {
   "cell_type": "code",
   "execution_count": 51,
   "metadata": {},
   "outputs": [
    {
     "data": {
      "text/plain": [
       "array([1, 2, 3])"
      ]
     },
     "execution_count": 51,
     "metadata": {},
     "output_type": "execute_result"
    }
   ],
   "source": [
    "sous_tableau = notre_tableau[0]\n",
    "sous_tableau"
   ]
  },
  {
   "cell_type": "markdown",
   "metadata": {},
   "source": [
    "On va modifier la première valeur de notre tableau. "
   ]
  },
  {
   "cell_type": "code",
   "execution_count": 52,
   "metadata": {},
   "outputs": [
    {
     "data": {
      "text/plain": [
       "array([100,   2,   3])"
      ]
     },
     "execution_count": 52,
     "metadata": {},
     "output_type": "execute_result"
    }
   ],
   "source": [
    "sous_tableau[0] = 100\n",
    "sous_tableau"
   ]
  },
  {
   "cell_type": "markdown",
   "metadata": {},
   "source": [
    "Mais en modifiant notre sous tableau, on se rend compte que nous avons modifié notre_tableau."
   ]
  },
  {
   "cell_type": "code",
   "execution_count": 53,
   "metadata": {},
   "outputs": [
    {
     "data": {
      "text/plain": [
       "array([[100,   2,   3],\n",
       "       [  4,   5,   6],\n",
       "       [  7,   8,   9]])"
      ]
     },
     "execution_count": 53,
     "metadata": {},
     "output_type": "execute_result"
    }
   ],
   "source": [
    "notre_tableau"
   ]
  },
  {
   "cell_type": "markdown",
   "metadata": {},
   "source": [
    "Une modification du sous-ensemble entraîne une modification du tableau initial .\n",
    "On dit que sous_tableau est une vue de notre tableau. Raison: travailler avec des gros volumes de données.\n",
    "\n",
    "Si on veut vraiment travailler avec un sous ensemble sans modifier notre tableau d'origine, il faut faire une copie avec la fonction <b>copy()</b>.\n"
   ]
  },
  {
   "cell_type": "code",
   "execution_count": 54,
   "metadata": {
    "collapsed": true
   },
   "outputs": [],
   "source": [
    "notre_tableau = np.array([[1,2,3], [4,5,6], [7,8,9]])\n",
    "sous_tableau=notre_tableau[0].copy()\n",
    "sous_tableau[0]=101"
   ]
  },
  {
   "cell_type": "code",
   "execution_count": 55,
   "metadata": {},
   "outputs": [
    {
     "data": {
      "text/plain": [
       "array([101,   2,   3])"
      ]
     },
     "execution_count": 55,
     "metadata": {},
     "output_type": "execute_result"
    }
   ],
   "source": [
    "sous_tableau"
   ]
  },
  {
   "cell_type": "code",
   "execution_count": 56,
   "metadata": {},
   "outputs": [
    {
     "data": {
      "text/plain": [
       "array([[1, 2, 3],\n",
       "       [4, 5, 6],\n",
       "       [7, 8, 9]])"
      ]
     },
     "execution_count": 56,
     "metadata": {},
     "output_type": "execute_result"
    }
   ],
   "source": [
    "notre_tableau"
   ]
  },
  {
   "cell_type": "markdown",
   "metadata": {},
   "source": [
    "\n",
    "   c)- Pour concatener des tableaux Numpy:\n",
    "    \n",
    "<a class=\"reference internal\" href=\"https://docs.scipy.org/doc/numpy-1.13.0/reference/generated/numpy.vstack.html#numpy.vstack\" title=\"numpy.vstack\"><code class=\"xref py py-obj docutils literal\"><span class=\"pre\">vstack</span></code></a>, \n",
    "<a class=\"reference internal\" href=\"https://docs.scipy.org/doc/numpy-1.13.0/reference/generated/numpy.column_stack.html#numpy.column_stack\" title=\"numpy.column_stack\"><code class=\"xref py py-obj docutils literal\"><span class=\"pre\">column_stack</span></code></a>, \n",
    "<a class=\"reference internal\" href=\"https://docs.scipy.org/doc/numpy-1.13.0/reference/generated/numpy.concatenate.html#numpy.concatenate\" title=\"numpy.concatenate\"><code class=\"xref py py-obj docutils literal\"><span class=\"pre\">concatenate</span></code></a>"
   ]
  },
  {
   "cell_type": "markdown",
   "metadata": {},
   "source": [
    "- Pour concatener des tableaux Numpy: fonction <b>concatenate()</b>"
   ]
  },
  {
   "cell_type": "code",
   "execution_count": 57,
   "metadata": {},
   "outputs": [
    {
     "data": {
      "text/plain": [
       "array([[1, 2, 3],\n",
       "       [4, 5, 6],\n",
       "       [7, 8, 9]])"
      ]
     },
     "execution_count": 57,
     "metadata": {},
     "output_type": "execute_result"
    }
   ],
   "source": [
    "array1=np.array([[1,2,3],[4,5,6],[7,8,9]])\n",
    "array1"
   ]
  },
  {
   "cell_type": "code",
   "execution_count": 58,
   "metadata": {},
   "outputs": [
    {
     "data": {
      "text/plain": [
       "array([[ 2,  5,  6],\n",
       "       [ 9, 10, 11],\n",
       "       [ 5,  6,  9]])"
      ]
     },
     "execution_count": 58,
     "metadata": {},
     "output_type": "execute_result"
    }
   ],
   "source": [
    "array2=np.array([[2,5,6],[9,10,11],[5,6,9]])\n",
    "array2"
   ]
  },
  {
   "cell_type": "code",
   "execution_count": 59,
   "metadata": {},
   "outputs": [
    {
     "data": {
      "text/plain": [
       "array([[ 1,  2,  3],\n",
       "       [ 4,  5,  6],\n",
       "       [ 7,  8,  9],\n",
       "       [ 2,  5,  6],\n",
       "       [ 9, 10, 11],\n",
       "       [ 5,  6,  9]])"
      ]
     },
     "execution_count": 59,
     "metadata": {},
     "output_type": "execute_result"
    }
   ],
   "source": [
    "np.concatenate([array1,array2], axis=0)   # concaténer par lignes  (axis = 0) "
   ]
  },
  {
   "cell_type": "code",
   "execution_count": 60,
   "metadata": {},
   "outputs": [
    {
     "data": {
      "text/plain": [
       "array([[ 1,  2,  3,  2,  5,  6],\n",
       "       [ 4,  5,  6,  9, 10, 11],\n",
       "       [ 7,  8,  9,  5,  6,  9]])"
      ]
     },
     "execution_count": 60,
     "metadata": {},
     "output_type": "execute_result"
    }
   ],
   "source": [
    "np.concatenate([array1,array2], axis=1)   # concaténer par colonnes  (axis = 1) "
   ]
  },
  {
   "cell_type": "markdown",
   "metadata": {},
   "source": [
    "Si on souhaite concatener des tableaux n'ayant pas les mêmes dimensions, on ne va pas utiliser \n",
    "la fonction concatenate(), mais: \n",
    "- la fonction <b>vstack()</b> pour empiler à la verticale\n",
    "- la fonction <b>hstack()</b> pour empliler à l'horizontale"
   ]
  },
  {
   "cell_type": "code",
   "execution_count": 61,
   "metadata": {
    "collapsed": true
   },
   "outputs": [],
   "source": [
    "array3=np.array([10,20,30]) # Création d'un array() de 1D."
   ]
  },
  {
   "cell_type": "code",
   "execution_count": 62,
   "metadata": {},
   "outputs": [
    {
     "data": {
      "text/plain": [
       "array([10, 20, 30])"
      ]
     },
     "execution_count": 62,
     "metadata": {},
     "output_type": "execute_result"
    }
   ],
   "source": [
    "array3"
   ]
  },
  {
   "cell_type": "code",
   "execution_count": 63,
   "metadata": {
    "collapsed": true
   },
   "outputs": [],
   "source": [
    "array4=np.array([[1,2,3],[4,5,6],[7,8,9]]) # Création d'un array() bi-dimentionnel"
   ]
  },
  {
   "cell_type": "code",
   "execution_count": 64,
   "metadata": {},
   "outputs": [
    {
     "data": {
      "text/plain": [
       "array([[1, 2, 3],\n",
       "       [4, 5, 6],\n",
       "       [7, 8, 9]])"
      ]
     },
     "execution_count": 64,
     "metadata": {},
     "output_type": "execute_result"
    }
   ],
   "source": [
    "array4"
   ]
  },
  {
   "cell_type": "code",
   "execution_count": 65,
   "metadata": {},
   "outputs": [
    {
     "data": {
      "text/plain": [
       "array([[ 1,  2,  3],\n",
       "       [ 4,  5,  6],\n",
       "       [ 7,  8,  9],\n",
       "       [10, 20, 30]])"
      ]
     },
     "execution_count": 65,
     "metadata": {},
     "output_type": "execute_result"
    }
   ],
   "source": [
    "#np.concatenate([array3,array4])\n",
    "np.vstack([array4,array3])   #  On va concatener à la verticale les deux tableaux "
   ]
  },
  {
   "cell_type": "code",
   "execution_count": 66,
   "metadata": {},
   "outputs": [
    {
     "data": {
      "text/plain": [
       "array([[10],\n",
       "       [20],\n",
       "       [30]])"
      ]
     },
     "execution_count": 66,
     "metadata": {},
     "output_type": "execute_result"
    }
   ],
   "source": [
    "array5=np.array([[10],[20],[30]]) # Tableau à 2 dimensions à 2 colonnes\n",
    "array5"
   ]
  },
  {
   "cell_type": "code",
   "execution_count": 67,
   "metadata": {},
   "outputs": [
    {
     "data": {
      "text/plain": [
       "array([[ 1,  2,  3, 10],\n",
       "       [ 4,  5,  6, 20],\n",
       "       [ 7,  8,  9, 30]])"
      ]
     },
     "execution_count": 67,
     "metadata": {},
     "output_type": "execute_result"
    }
   ],
   "source": [
    "np.hstack([array4,array5]) #  On va empiler à l'horizontale les deux tableaux "
   ]
  },
  {
   "cell_type": "markdown",
   "metadata": {},
   "source": [
    "Une autre fonction intéressante à connaitre est la fonction <b>column_stack()</b>.\n",
    "\n",
    "Cette fonction empile des tableaux 1D sous forme de colonnes dans un tableau 2D. Cela équivaut à hstack uniquement pour les tableaux 2D."
   ]
  },
  {
   "cell_type": "code",
   "execution_count": 68,
   "metadata": {},
   "outputs": [
    {
     "name": "stdout",
     "output_type": "stream",
     "text": [
      "(3,) (3, 3)\n",
      "1 2\n"
     ]
    }
   ],
   "source": [
    "a = np.array([4.,2.,1.]) # on utilise un tableau 1 D, que nous souhaitons concaténer avec le tableau 2D array4\n",
    "print(a.shape, array4.shape)\n",
    "print(a.ndim, array4.ndim)"
   ]
  },
  {
   "cell_type": "code",
   "execution_count": 69,
   "metadata": {},
   "outputs": [
    {
     "data": {
      "text/plain": [
       "array([[1., 2., 3., 4.],\n",
       "       [4., 5., 6., 2.],\n",
       "       [7., 8., 9., 1.]])"
      ]
     },
     "execution_count": 69,
     "metadata": {},
     "output_type": "execute_result"
    }
   ],
   "source": [
    "# np.hstack([array4,a]) # problème de dimension\n",
    "np.column_stack([array4,a])"
   ]
  },
  {
   "cell_type": "markdown",
   "metadata": {},
   "source": [
    " d)- Pour découper des tableaux Numpy:\n",
    "\n",
    "C'est le contraire de la concatenation. \n",
    "Nous avons les fonctions split(), hsplit() et vsplit() . "
   ]
  },
  {
   "cell_type": "code",
   "execution_count": 70,
   "metadata": {
    "collapsed": true
   },
   "outputs": [],
   "source": [
    "array=np.array([15,16,17,12,49,52,12,14,36]) # on crée un array à 1 D. "
   ]
  },
  {
   "cell_type": "code",
   "execution_count": 71,
   "metadata": {},
   "outputs": [
    {
     "data": {
      "text/plain": [
       "9"
      ]
     },
     "execution_count": 71,
     "metadata": {},
     "output_type": "execute_result"
    }
   ],
   "source": [
    "len(array) # taille de notre array "
   ]
  },
  {
   "cell_type": "code",
   "execution_count": 72,
   "metadata": {},
   "outputs": [
    {
     "data": {
      "text/plain": [
       "[array([15, 16, 17]), array([12, 49, 52]), array([12, 14, 36])]"
      ]
     },
     "execution_count": 72,
     "metadata": {},
     "output_type": "execute_result"
    }
   ],
   "source": [
    "np.split(array,3) # séparer le tableau array en 3 tableaux"
   ]
  },
  {
   "cell_type": "markdown",
   "metadata": {},
   "source": [
    "On peut découper notre tableau avec des points de cassure délimités par les index. "
   ]
  },
  {
   "cell_type": "code",
   "execution_count": 73,
   "metadata": {},
   "outputs": [
    {
     "data": {
      "text/plain": [
       "[array([15, 16]), array([17, 12, 49, 52]), array([12, 14, 36])]"
      ]
     },
     "execution_count": 73,
     "metadata": {},
     "output_type": "execute_result"
    }
   ],
   "source": [
    "np.split(array,[2,6]) # on veut couper notre tableau en 3 tableaux , les chiffres entre [] sont les points de cassures. \n",
    "                      # correspond aux index où on coupe. "
   ]
  },
  {
   "cell_type": "code",
   "execution_count": 74,
   "metadata": {
    "collapsed": true
   },
   "outputs": [],
   "source": [
    "array1,array2,array3=np.split(array,[2,6]) # on peut multi-assigner notre cassure"
   ]
  },
  {
   "cell_type": "code",
   "execution_count": 75,
   "metadata": {},
   "outputs": [
    {
     "name": "stdout",
     "output_type": "stream",
     "text": [
      "[15 16] [17 12 49 52] [12 14 36]\n"
     ]
    }
   ],
   "source": [
    "print(array1,array2,array3)"
   ]
  },
  {
   "cell_type": "code",
   "execution_count": 76,
   "metadata": {
    "collapsed": true
   },
   "outputs": [],
   "source": [
    "array1,array2,array3,array4=np.split(array,[2,4,6]) # selon le nombre de points de cassure, on a le nombre de tableaux. "
   ]
  },
  {
   "cell_type": "code",
   "execution_count": 77,
   "metadata": {},
   "outputs": [
    {
     "name": "stdout",
     "output_type": "stream",
     "text": [
      "[15 16] [17 12] [49 52] [12 14 36]\n"
     ]
    }
   ],
   "source": [
    "print(array1,array2,array3,array4)"
   ]
  },
  {
   "cell_type": "markdown",
   "metadata": {},
   "source": [
    "Pour casser des tableaux à 2 dimensions. on utilise hsplit ou vsplit. "
   ]
  },
  {
   "cell_type": "code",
   "execution_count": 78,
   "metadata": {
    "collapsed": true
   },
   "outputs": [],
   "source": [
    "array2=np.array([[1,2,3],[4,5,6],[7,8,9]])"
   ]
  },
  {
   "cell_type": "code",
   "execution_count": 79,
   "metadata": {
    "scrolled": true
   },
   "outputs": [
    {
     "name": "stdout",
     "output_type": "stream",
     "text": [
      "[[1 2 3]\n",
      " [4 5 6]] [[7 8 9]]\n"
     ]
    }
   ],
   "source": [
    "array1,array1bis=np.vsplit(array2, [2]) # on coupe à la verticale au point de cassure de niveau 2 \n",
    "print(array1,array1bis)"
   ]
  },
  {
   "cell_type": "code",
   "execution_count": 80,
   "metadata": {},
   "outputs": [
    {
     "data": {
      "text/plain": [
       "array([[1, 2, 3],\n",
       "       [4, 5, 6],\n",
       "       [7, 8, 9]])"
      ]
     },
     "execution_count": 80,
     "metadata": {},
     "output_type": "execute_result"
    }
   ],
   "source": [
    "array2"
   ]
  },
  {
   "cell_type": "code",
   "execution_count": 81,
   "metadata": {},
   "outputs": [
    {
     "name": "stdout",
     "output_type": "stream",
     "text": [
      "[[1 2]\n",
      " [4 5]\n",
      " [7 8]] [[3]\n",
      " [6]\n",
      " [9]]\n"
     ]
    }
   ],
   "source": [
    "array1,array1bis=np.hsplit(array2,[2]) # on coupe à l'horizontal au point de cassure de niveau 2 \n",
    "print(array1,array1bis)"
   ]
  },
  {
   "cell_type": "markdown",
   "metadata": {},
   "source": [
    " e)- Pour supprimer des rangées et colonnes des tableaux Numpy: <b>delete()</b> "
   ]
  },
  {
   "cell_type": "code",
   "execution_count": 82,
   "metadata": {},
   "outputs": [
    {
     "data": {
      "text/plain": [
       "array([[1, 2, 3],\n",
       "       [4, 5, 6],\n",
       "       [7, 8, 9]])"
      ]
     },
     "execution_count": 82,
     "metadata": {},
     "output_type": "execute_result"
    }
   ],
   "source": [
    "array=np.array([[1,2,3],[4,5,6],[7,8,9]])\n",
    "array"
   ]
  },
  {
   "cell_type": "code",
   "execution_count": 83,
   "metadata": {},
   "outputs": [
    {
     "data": {
      "text/plain": [
       "array([[1, 2, 3],\n",
       "       [4, 5, 6]])"
      ]
     },
     "execution_count": 83,
     "metadata": {},
     "output_type": "execute_result"
    }
   ],
   "source": [
    "np.delete(array,2,axis=0) # supprime la ligne d'index 2"
   ]
  },
  {
   "cell_type": "code",
   "execution_count": 85,
   "metadata": {},
   "outputs": [
    {
     "data": {
      "text/plain": [
       "array([[1, 2],\n",
       "       [4, 5],\n",
       "       [7, 8]])"
      ]
     },
     "execution_count": 85,
     "metadata": {},
     "output_type": "execute_result"
    }
   ],
   "source": [
    "np.delete(array2,2,axis=1) # supprime la colonne d'index 2"
   ]
  },
  {
   "cell_type": "markdown",
   "metadata": {},
   "source": [
    "f)- Pour calculer la transposer d'un tableau Numpy: <b>transpose()</b> "
   ]
  },
  {
   "cell_type": "code",
   "execution_count": 86,
   "metadata": {},
   "outputs": [
    {
     "data": {
      "text/plain": [
       "array([[1, 4, 7],\n",
       "       [2, 5, 8],\n",
       "       [3, 6, 9]])"
      ]
     },
     "execution_count": 86,
     "metadata": {},
     "output_type": "execute_result"
    }
   ],
   "source": [
    "np.transpose(array)"
   ]
  },
  {
   "cell_type": "markdown",
   "metadata": {},
   "source": [
    "g)- Pour obtenir les valeurs de la diagonale d'un tableau Numpy: <b>diagonal()</b> "
   ]
  },
  {
   "cell_type": "code",
   "execution_count": 87,
   "metadata": {},
   "outputs": [
    {
     "data": {
      "text/plain": [
       "array([1, 5, 9])"
      ]
     },
     "execution_count": 87,
     "metadata": {},
     "output_type": "execute_result"
    }
   ],
   "source": [
    "array.diagonal() # obtenir les éléments de la diagonale de array"
   ]
  },
  {
   "cell_type": "markdown",
   "metadata": {},
   "source": [
    "## 5- Comparaisons et masques sur un tableau Numpy: "
   ]
  },
  {
   "cell_type": "markdown",
   "metadata": {},
   "source": [
    "Avec les tableaux Numpy, il est possible d'utiliser une matrice booléenne pour filtrer et comparer des tableaux Numpy."
   ]
  },
  {
   "cell_type": "code",
   "execution_count": 88,
   "metadata": {},
   "outputs": [
    {
     "data": {
      "text/plain": [
       "array([[86, 19, 15, 79, 25, 89],\n",
       "       [80, 24, 84, 71, 64,  8],\n",
       "       [67, 58, 32, 20, 48, 19],\n",
       "       [79, 15, 13,  3, 66, 11],\n",
       "       [35, 80, 92, 73,  0, 61],\n",
       "       [22, 63, 54, 78, 72, 56]])"
      ]
     },
     "execution_count": 88,
     "metadata": {},
     "output_type": "execute_result"
    }
   ],
   "source": [
    "tableau = np.random.randint(100,size=(6,6))  # création d'un tableau 4*3 random avec valeurs comprises entre 0 et 100 \n",
    "tableau"
   ]
  },
  {
   "cell_type": "code",
   "execution_count": 89,
   "metadata": {},
   "outputs": [
    {
     "data": {
      "text/plain": [
       "array([[ True, False, False,  True, False,  True],\n",
       "       [ True, False,  True,  True,  True, False],\n",
       "       [ True,  True, False, False, False, False],\n",
       "       [ True, False, False, False,  True, False],\n",
       "       [False,  True,  True,  True, False,  True],\n",
       "       [False,  True,  True,  True,  True,  True]])"
      ]
     },
     "execution_count": 89,
     "metadata": {},
     "output_type": "execute_result"
    }
   ],
   "source": [
    "masque = tableau>50# on génère ici un tableau de la même dimension que notre tableau d'origine mais avec des booléens, comme un masque\n",
    "masque"
   ]
  },
  {
   "cell_type": "markdown",
   "metadata": {},
   "source": [
    "Étant tout deux de même dimension, nous pouvons utiliser cette matrice booléenne à notre avantage. Autrement dit, nous pouvons faire du masquage booléen. Avec cette matrice booléenne comme masque, nous pouvons l’utiliser pour sélectionner le sous-ensemble particulier de données qui nous intéresse."
   ]
  },
  {
   "cell_type": "code",
   "execution_count": 90,
   "metadata": {},
   "outputs": [
    {
     "data": {
      "text/plain": [
       "array([86, 79, 89, 80, 84, 71, 64, 67, 58, 79, 66, 80, 92, 73, 61, 63, 54,\n",
       "       78, 72, 56])"
      ]
     },
     "execution_count": 90,
     "metadata": {},
     "output_type": "execute_result"
    }
   ],
   "source": [
    "tableau[masque] \n",
    "#tableau[tableau>50]  # synthaxe équivalente"
   ]
  },
  {
   "cell_type": "markdown",
   "metadata": {},
   "source": [
    " Nous disposons de nombreux autres opérateurs de comparaison pour comparer deux tableaux tels que == (égalité), != (Non-égalité), <= (inférieur ou égal à). Nous pouvons même combiner deux déclarations booléennes & (pour les conditions “ET”) ou | (pour les conditions “OU”)."
   ]
  },
  {
   "cell_type": "code",
   "execution_count": 91,
   "metadata": {},
   "outputs": [
    {
     "data": {
      "text/plain": [
       "array([86, 19, 15, 79, 25, 89, 80, 24, 84, 71, 64,  8, 67, 58, 32, 20, 19,\n",
       "       79, 15, 13,  3, 66, 11, 35, 80, 92, 73,  0, 61, 22, 63, 54, 78, 72,\n",
       "       56])"
      ]
     },
     "execution_count": 91,
     "metadata": {},
     "output_type": "execute_result"
    }
   ],
   "source": [
    "#tableau[tableau>=50]                 # on souhaite garder uniquement les valeurs supérieures ou égales à  50.\n",
    "#tableau[tableau<50]                      # on souhaite garder uniquement les valeurs strictement inférieures à 50.\n",
    "#tableau[tableau!=50]                     # on souhaite garder uniquement les valeurs différentes de 50.\n",
    "#tableau[tableau==50]                     # on souhaite garder uniquement les valeurs égales 50. \n",
    "#tableau[(tableau >=50) & (tableau <=70)]   # on souhaite garder uniquement les valeurs comprises entre 50 et 70 inclusivement.\n",
    "tableau[(tableau>=50) | (tableau<=40)]     # on souhaite garder uniquement les valeurs non comprises entre 40 et 50. "
   ]
  },
  {
   "cell_type": "markdown",
   "metadata": {},
   "source": [
    "## Exercice sur la librairie de Numpy de Python:\n",
    "### Objectifs, manipuler des données ascii de stations uniquement avec la librairie Numpy.\n",
    "\n",
    "Ensemble : lecture du fichier contenant les données journalières de précipitation et de température pour la station d'Ottawa pour l'année 2017 \n",
    "\n",
    "1- Créer un tableau Numpy ayant une colonne pour la température et une colonne pour la précipitation. (avec deux tableaux Numpy 1D, créer un tableau 2D (365 lignes et 2 colonnes).\n",
    "\n",
    "2- Convertir les données de températures en Celcius (T[Celcius] = T[Kelvin] - 273.15).\n",
    "\n",
    "3- Combien de journées ont une accumulation supérieure à 25mm ?\n",
    "\n",
    "4- Quelle température a été enregistrée pour la journée présentant la plus grande accumulation.\n",
    "\n",
    "5- Calculer le nombre de degrés jours (>0degC) pour l'année 2017.\n",
    "\n",
    "6- Calculer le cumul journalier de précipitation pour l'année 2017 et assigner cette variable au tableau cumul_precipitation. Ajouter le tableau cumul_precipitation au tableau.  \n",
    "\n",
    "7- Juste pour l’exercice, splitter (casser) l’array en 2 tableaux, puis les concaténer à nouveau pour obtenir le tableau initial.\n"
   ]
  },
  {
   "cell_type": "code",
   "execution_count": 92,
   "metadata": {
    "collapsed": true
   },
   "outputs": [],
   "source": [
    "import numpy as np\n",
    "# pour lire un fichier csv avec numpy: appel de la fonction genfromtxt()\n",
    "temperature = np.genfromtxt(\"./DATA/OTTAWA_tasmoy_2017.csv\", dtype=float)\n",
    "precipitation = np.genfromtxt(\"./DATA/OTTAWA_PrecTOT_2017.csv\", dtype=float)"
   ]
  },
  {
   "cell_type": "code",
   "execution_count": 93,
   "metadata": {},
   "outputs": [
    {
     "name": "stdout",
     "output_type": "stream",
     "text": [
      "(365,) (365,)\n"
     ]
    }
   ],
   "source": [
    "print(temperature.shape, precipitation.shape)"
   ]
  },
  {
   "cell_type": "code",
   "execution_count": null,
   "metadata": {
    "collapsed": true
   },
   "outputs": [],
   "source": []
  },
  {
   "cell_type": "markdown",
   "metadata": {},
   "source": [
    "### Corrigé de l'exercice 4:"
   ]
  },
  {
   "cell_type": "code",
   "execution_count": 94,
   "metadata": {},
   "outputs": [
    {
     "data": {
      "text/plain": [
       "array([[2.6665e+02, 1.1000e-01],\n",
       "       [2.6635e+02, 3.0300e+00],\n",
       "       [2.7135e+02, 2.6570e+01],\n",
       "       [2.7395e+02, 4.2100e+00],\n",
       "       [2.6335e+02, 0.0000e+00],\n",
       "       [2.6015e+02, 0.0000e+00],\n",
       "       [2.5615e+02, 1.1000e-01],\n",
       "       [2.5665e+02, 0.0000e+00],\n",
       "       [2.5785e+02, 0.0000e+00],\n",
       "       [2.6865e+02, 1.4370e+01],\n",
       "       [2.7315e+02, 3.4000e+00],\n",
       "       [2.7595e+02, 5.9000e-01],\n",
       "       [2.6535e+02, 0.0000e+00],\n",
       "       [2.5815e+02, 1.1000e-01],\n",
       "       [2.6415e+02, 0.0000e+00],\n",
       "       [2.6785e+02, 0.0000e+00],\n",
       "       [2.6765e+02, 8.5200e+00],\n",
       "       [2.7115e+02, 3.4000e-01],\n",
       "       [2.7315e+02, 0.0000e+00],\n",
       "       [2.7445e+02, 5.5000e-01],\n",
       "       [2.7465e+02, 5.4000e-01],\n",
       "       [2.7465e+02, 0.0000e+00],\n",
       "       [2.7135e+02, 2.6000e-01],\n",
       "       [2.7115e+02, 7.3000e+00],\n",
       "       [2.7185e+02, 2.0300e+00],\n",
       "       [2.7365e+02, 5.4000e-01],\n",
       "       [2.7265e+02, 5.1000e-01],\n",
       "       [2.7115e+02, 2.7900e+00],\n",
       "       [2.6915e+02, 5.1000e-01],\n",
       "       [2.5965e+02, 0.0000e+00],\n",
       "       [2.5815e+02, 2.0300e+00],\n",
       "       [2.6465e+02, 0.0000e+00],\n",
       "       [2.6265e+02, 7.6000e-01],\n",
       "       [2.6585e+02, 0.0000e+00],\n",
       "       [2.6435e+02, 2.5400e+00],\n",
       "       [2.6965e+02, 1.5200e+00],\n",
       "       [2.6115e+02, 7.3700e+00],\n",
       "       [2.6915e+02, 1.9950e+01],\n",
       "       [2.6765e+02, 0.0000e+00],\n",
       "       [2.5965e+02, 0.0000e+00],\n",
       "       [2.5835e+02, 3.8100e+00],\n",
       "       [2.6115e+02, 1.1000e-01],\n",
       "       [2.6415e+02, 2.4130e+01],\n",
       "       [2.6635e+02, 0.0000e+00],\n",
       "       [2.6465e+02, 2.0320e+01],\n",
       "       [2.6985e+02, 3.8100e+00],\n",
       "       [2.6735e+02, 0.0000e+00],\n",
       "       [2.6635e+02, 0.0000e+00],\n",
       "       [2.7285e+02, 0.0000e+00],\n",
       "       [2.7665e+02, 0.0000e+00],\n",
       "       [2.7135e+02, 0.0000e+00],\n",
       "       [2.6835e+02, 1.5600e+00],\n",
       "       [2.7515e+02, 0.0000e+00],\n",
       "       [2.8045e+02, 0.0000e+00],\n",
       "       [2.7495e+02, 3.1900e+00],\n",
       "       [2.7515e+02, 1.2370e+01],\n",
       "       [2.7085e+02, 0.0000e+00],\n",
       "       [2.7395e+02, 0.0000e+00],\n",
       "       [2.7185e+02, 1.6040e+01],\n",
       "       [2.7615e+02, 5.1200e+00],\n",
       "       [2.6265e+02, 0.0000e+00],\n",
       "       [2.6085e+02, 0.0000e+00],\n",
       "       [2.5585e+02, 0.0000e+00],\n",
       "       [2.5985e+02, 0.0000e+00],\n",
       "       [2.6665e+02, 5.1000e-01],\n",
       "       [2.7445e+02, 1.0740e+01],\n",
       "       [2.7795e+02, 0.0000e+00],\n",
       "       [2.7035e+02, 0.0000e+00],\n",
       "       [2.6565e+02, 0.0000e+00],\n",
       "       [2.5615e+02, 0.0000e+00],\n",
       "       [2.5865e+02, 0.0000e+00],\n",
       "       [2.6065e+02, 0.0000e+00],\n",
       "       [2.6365e+02, 2.2860e+01],\n",
       "       [2.6515e+02, 1.2700e+00],\n",
       "       [2.6665e+02, 0.0000e+00],\n",
       "       [2.6765e+02, 0.0000e+00],\n",
       "       [2.6585e+02, 0.0000e+00],\n",
       "       [2.7085e+02, 0.0000e+00],\n",
       "       [2.7085e+02, 1.5600e+00],\n",
       "       [2.7665e+02, 0.0000e+00],\n",
       "       [2.6265e+02, 0.0000e+00],\n",
       "       [2.6835e+02, 8.8900e+00],\n",
       "       [2.7165e+02, 1.5140e+01],\n",
       "       [2.7265e+02, 0.0000e+00],\n",
       "       [2.7035e+02, 2.1700e+00],\n",
       "       [2.7395e+02, 7.8800e+00],\n",
       "       [2.7665e+02, 0.0000e+00],\n",
       "       [2.7565e+02, 0.0000e+00],\n",
       "       [2.7315e+02, 1.1000e-01],\n",
       "       [2.7415e+02, 7.5900e+00],\n",
       "       [2.7565e+02, 1.5000e-01],\n",
       "       [2.7565e+02, 0.0000e+00],\n",
       "       [2.7615e+02, 1.1150e+01],\n",
       "       [2.7545e+02, 2.5840e+01],\n",
       "       [2.7845e+02, 2.5800e+00],\n",
       "       [2.7645e+02, 2.8490e+01],\n",
       "       [2.7595e+02, 1.5000e-01],\n",
       "       [2.7765e+02, 0.0000e+00],\n",
       "       [2.8195e+02, 0.0000e+00],\n",
       "       [2.8815e+02, 1.9700e+00],\n",
       "       [2.7965e+02, 2.3800e+00],\n",
       "       [2.8015e+02, 1.5000e-01],\n",
       "       [2.8045e+02, 1.5000e-01],\n",
       "       [2.8065e+02, 0.0000e+00],\n",
       "       [2.8195e+02, 1.6250e+01],\n",
       "       [2.8545e+02, 9.5200e+00],\n",
       "       [2.7895e+02, 0.0000e+00],\n",
       "       [2.7695e+02, 0.0000e+00],\n",
       "       [2.7965e+02, 1.5640e+01],\n",
       "       [2.8045e+02, 9.1100e+00],\n",
       "       [2.8315e+02, 1.5600e+00],\n",
       "       [2.8145e+02, 0.0000e+00],\n",
       "       [2.8295e+02, 0.0000e+00],\n",
       "       [2.7865e+02, 0.0000e+00],\n",
       "       [2.8195e+02, 2.7800e+00],\n",
       "       [2.8615e+02, 1.5000e-01],\n",
       "       [2.9215e+02, 5.6400e+00],\n",
       "       [2.8865e+02, 1.5000e-01],\n",
       "       [2.8745e+02, 0.0000e+00],\n",
       "       [2.7765e+02, 3.1140e+01],\n",
       "       [2.8195e+02, 3.5220e+01],\n",
       "       [2.8415e+02, 2.7800e+00],\n",
       "       [2.8215e+02, 0.0000e+00],\n",
       "       [2.8145e+02, 1.2170e+01],\n",
       "       [2.8145e+02, 4.0120e+01],\n",
       "       [2.8365e+02, 1.3390e+01],\n",
       "       [2.7795e+02, 7.4000e-01],\n",
       "       [2.7615e+02, 1.5000e-01],\n",
       "       [2.7745e+02, 0.0000e+00],\n",
       "       [2.8165e+02, 0.0000e+00],\n",
       "       [2.8265e+02, 0.0000e+00],\n",
       "       [2.8665e+02, 7.4000e-01],\n",
       "       [2.8565e+02, 7.4000e-01],\n",
       "       [2.8465e+02, 2.5800e+00],\n",
       "       [2.8695e+02, 0.0000e+00],\n",
       "       [2.8765e+02, 0.0000e+00],\n",
       "       [2.9465e+02, 0.0000e+00],\n",
       "       [2.9815e+02, 9.5000e-01],\n",
       "       [2.8565e+02, 0.0000e+00],\n",
       "       [2.8495e+02, 0.0000e+00],\n",
       "       [2.8615e+02, 1.4620e+01],\n",
       "       [2.8765e+02, 1.3600e+00],\n",
       "       [2.8715e+02, 0.0000e+00],\n",
       "       [2.9095e+02, 0.0000e+00],\n",
       "       [2.8995e+02, 1.2580e+01],\n",
       "       [2.8745e+02, 9.5000e-01],\n",
       "       [2.8945e+02, 0.0000e+00],\n",
       "       [2.9115e+02, 7.0700e+00],\n",
       "       [2.8915e+02, 2.5840e+01],\n",
       "       [2.9145e+02, 5.4400e+00],\n",
       "       [2.9015e+02, 9.5000e-01],\n",
       "       [2.8695e+02, 5.4000e-01],\n",
       "       [2.8495e+02, 1.5000e-01],\n",
       "       [2.8745e+02, 0.0000e+00],\n",
       "       [2.8715e+02, 1.1500e+00],\n",
       "       [2.8795e+02, 1.6860e+01],\n",
       "       [2.8615e+02, 1.2370e+01],\n",
       "       [2.8895e+02, 0.0000e+00],\n",
       "       [2.9365e+02, 0.0000e+00],\n",
       "       [2.9215e+02, 0.0000e+00],\n",
       "       [2.9245e+02, 0.0000e+00],\n",
       "       [2.9945e+02, 0.0000e+00],\n",
       "       [3.0045e+02, 0.0000e+00],\n",
       "       [2.9615e+02, 0.0000e+00],\n",
       "       [2.9045e+02, 0.0000e+00],\n",
       "       [2.9015e+02, 1.6450e+01],\n",
       "       [2.9095e+02, 0.0000e+00],\n",
       "       [2.9515e+02, 1.5000e-01],\n",
       "       [2.9865e+02, 7.4000e-01],\n",
       "       [2.9695e+02, 3.1900e+00],\n",
       "       [2.9365e+02, 2.1700e+00],\n",
       "       [2.9195e+02, 1.5000e-01],\n",
       "       [2.9265e+02, 1.4410e+01],\n",
       "       [2.9315e+02, 1.1500e+00],\n",
       "       [2.9345e+02, 5.4000e-01],\n",
       "       [2.9045e+02, 3.7260e+01],\n",
       "       [2.9015e+02, 7.4000e-01],\n",
       "       [2.8815e+02, 1.7600e+00],\n",
       "       [2.9095e+02, 3.1900e+00],\n",
       "       [2.8915e+02, 2.6040e+01],\n",
       "       [2.9245e+02, 2.3590e+01],\n",
       "       [2.9495e+02, 1.5020e+01],\n",
       "       [2.9315e+02, 2.3800e+01],\n",
       "       [2.9295e+02, 1.5000e-01],\n",
       "       [2.9245e+02, 0.0000e+00],\n",
       "       [2.9295e+02, 0.0000e+00],\n",
       "       [2.9465e+02, 1.5000e-01],\n",
       "       [2.9665e+02, 2.1140e+01],\n",
       "       [2.9315e+02, 0.0000e+00],\n",
       "       [2.9295e+02, 9.1100e+00],\n",
       "       [2.9415e+02, 9.5000e-01],\n",
       "       [2.9515e+02, 1.5020e+01],\n",
       "       [2.9215e+02, 8.2900e+00],\n",
       "       [2.9115e+02, 1.5000e-01],\n",
       "       [2.9145e+02, 1.5640e+01],\n",
       "       [2.9565e+02, 0.0000e+00],\n",
       "       [2.9545e+02, 1.1500e+00],\n",
       "       [2.9515e+02, 1.5000e-01],\n",
       "       [2.9645e+02, 0.0000e+00],\n",
       "       [2.9595e+02, 1.5000e-01],\n",
       "       [2.9645e+02, 0.0000e+00],\n",
       "       [2.9545e+02, 0.0000e+00],\n",
       "       [2.9395e+02, 0.0000e+00],\n",
       "       [2.9245e+02, 1.9310e+01],\n",
       "       [2.8895e+02, 4.5010e+01],\n",
       "       [2.9145e+02, 1.5000e-01],\n",
       "       [2.9195e+02, 0.0000e+00],\n",
       "       [2.9615e+02, 0.0000e+00],\n",
       "       [2.9165e+02, 0.0000e+00],\n",
       "       [2.9195e+02, 0.0000e+00],\n",
       "       [2.9345e+02, 0.0000e+00],\n",
       "       [2.9415e+02, 0.0000e+00],\n",
       "       [2.9465e+02, 0.0000e+00],\n",
       "       [2.9745e+02, 0.0000e+00],\n",
       "       [2.9465e+02, 6.0500e+00],\n",
       "       [2.9615e+02, 1.7600e+00],\n",
       "       [2.9365e+02, 1.5600e+00],\n",
       "       [2.9015e+02, 1.5000e-01],\n",
       "       [2.9015e+02, 0.0000e+00],\n",
       "       [2.9215e+02, 0.0000e+00],\n",
       "       [2.9295e+02, 0.0000e+00],\n",
       "       [2.9315e+02, 0.0000e+00],\n",
       "       [2.9415e+02, 3.6000e+00],\n",
       "       [2.9245e+02, 1.5430e+01],\n",
       "       [2.9365e+02, 1.5000e-01],\n",
       "       [2.9365e+02, 1.5000e-01],\n",
       "       [2.9515e+02, 1.5000e-01],\n",
       "       [2.9115e+02, 0.0000e+00],\n",
       "       [2.9245e+02, 2.4410e+01],\n",
       "       [2.9265e+02, 3.6000e+00],\n",
       "       [2.9445e+02, 0.0000e+00],\n",
       "       [2.9415e+02, 0.0000e+00],\n",
       "       [2.9545e+02, 9.9200e+00],\n",
       "       [2.9565e+02, 1.8080e+01],\n",
       "       [2.9195e+02, 0.0000e+00],\n",
       "       [2.9045e+02, 0.0000e+00],\n",
       "       [2.8815e+02, 0.0000e+00],\n",
       "       [2.8845e+02, 0.0000e+00],\n",
       "       [2.8965e+02, 0.0000e+00],\n",
       "       [2.9015e+02, 0.0000e+00],\n",
       "       [2.9215e+02, 0.0000e+00],\n",
       "       [2.8995e+02, 9.5000e-01],\n",
       "       [2.8695e+02, 0.0000e+00],\n",
       "       [2.8515e+02, 0.0000e+00],\n",
       "       [2.8515e+02, 4.2100e+00],\n",
       "       [2.8645e+02, 4.0100e+00],\n",
       "       [2.8945e+02, 2.4200e+01],\n",
       "       [2.9115e+02, 0.0000e+00],\n",
       "       [2.8915e+02, 5.4000e-01],\n",
       "       [2.8965e+02, 9.3100e+00],\n",
       "       [2.8665e+02, 1.3600e+00],\n",
       "       [2.8765e+02, 0.0000e+00],\n",
       "       [2.8615e+02, 0.0000e+00],\n",
       "       [2.8815e+02, 0.0000e+00],\n",
       "       [2.9045e+02, 0.0000e+00],\n",
       "       [2.9215e+02, 0.0000e+00],\n",
       "       [2.9315e+02, 0.0000e+00],\n",
       "       [2.9295e+02, 0.0000e+00],\n",
       "       [2.9415e+02, 0.0000e+00],\n",
       "       [2.9515e+02, 0.0000e+00],\n",
       "       [2.9365e+02, 0.0000e+00],\n",
       "       [2.9465e+02, 1.5000e-01],\n",
       "       [2.9515e+02, 0.0000e+00],\n",
       "       [2.9315e+02, 0.0000e+00],\n",
       "       [2.9315e+02, 0.0000e+00],\n",
       "       [2.9445e+02, 0.0000e+00],\n",
       "       [2.9815e+02, 0.0000e+00],\n",
       "       [2.9795e+02, 0.0000e+00],\n",
       "       [2.9695e+02, 0.0000e+00],\n",
       "       [2.9795e+02, 9.9200e+00],\n",
       "       [2.8565e+02, 0.0000e+00],\n",
       "       [2.8315e+02, 0.0000e+00],\n",
       "       [2.8415e+02, 0.0000e+00],\n",
       "       [2.8345e+02, 0.0000e+00],\n",
       "       [2.8565e+02, 0.0000e+00],\n",
       "       [2.8815e+02, 0.0000e+00],\n",
       "       [2.8965e+02, 1.1960e+01],\n",
       "       [2.8865e+02, 0.0000e+00],\n",
       "       [2.8865e+02, 0.0000e+00],\n",
       "       [2.8765e+02, 8.7000e+00],\n",
       "       [2.9365e+02, 1.1500e+00],\n",
       "       [2.8845e+02, 6.6600e+00],\n",
       "       [2.8865e+02, 0.0000e+00],\n",
       "       [2.8245e+02, 0.0000e+00],\n",
       "       [2.8195e+02, 0.0000e+00],\n",
       "       [2.8315e+02, 7.4000e-01],\n",
       "       [2.8865e+02, 1.3390e+01],\n",
       "       [2.9095e+02, 7.2700e+00],\n",
       "       [2.7915e+02, 1.5000e-01],\n",
       "       [2.8095e+02, 0.0000e+00],\n",
       "       [2.8695e+02, 1.5600e+00],\n",
       "       [2.8645e+02, 0.0000e+00],\n",
       "       [2.8665e+02, 0.0000e+00],\n",
       "       [2.8695e+02, 0.0000e+00],\n",
       "       [2.8715e+02, 0.0000e+00],\n",
       "       [2.8795e+02, 8.7000e+00],\n",
       "       [2.9015e+02, 3.1900e+00],\n",
       "       [2.8465e+02, 1.5000e-01],\n",
       "       [2.8065e+02, 0.0000e+00],\n",
       "       [2.8095e+02, 0.0000e+00],\n",
       "       [2.8465e+02, 9.7200e+00],\n",
       "       [2.8165e+02,        nan],\n",
       "       [2.8115e+02, 1.9700e+00],\n",
       "       [2.8065e+02, 1.5000e-01],\n",
       "       [2.7615e+02, 1.6860e+01],\n",
       "       [2.8245e+02, 2.3390e+01],\n",
       "       [2.8295e+02, 1.5000e-01],\n",
       "       [2.7545e+02, 1.1500e+00],\n",
       "       [2.8115e+02, 1.5020e+01],\n",
       "       [2.8165e+02, 0.0000e+00],\n",
       "       [2.7495e+02, 0.0000e+00],\n",
       "       [2.7765e+02, 0.0000e+00],\n",
       "       [2.7645e+02, 4.0100e+00],\n",
       "       [2.6565e+02, 0.0000e+00],\n",
       "       [2.6765e+02, 0.0000e+00],\n",
       "       [2.7315e+02, 0.0000e+00],\n",
       "       [2.7315e+02, 0.0000e+00],\n",
       "       [2.7395e+02, 0.0000e+00],\n",
       "       [2.7415e+02, 0.0000e+00],\n",
       "       [2.7845e+02, 3.1900e+00],\n",
       "       [2.7015e+02, 0.0000e+00],\n",
       "       [2.7035e+02, 1.0900e+01],\n",
       "       [2.7185e+02, 1.5000e-01],\n",
       "       [2.6715e+02, 0.0000e+00],\n",
       "       [2.7465e+02, 3.6000e+00],\n",
       "       [2.7315e+02, 0.0000e+00],\n",
       "       [2.7015e+02, 0.0000e+00],\n",
       "       [2.7745e+02, 7.4000e-01],\n",
       "       [2.7945e+02, 5.1400e+00],\n",
       "       [2.7035e+02, 8.1300e+00],\n",
       "       [2.6615e+02, 0.0000e+00],\n",
       "       [2.7345e+02, 5.4000e-01],\n",
       "       [2.7595e+02, 0.0000e+00],\n",
       "       [2.7215e+02, 4.6200e+00],\n",
       "       [2.7495e+02, 0.0000e+00],\n",
       "       [2.7545e+02, 0.0000e+00],\n",
       "       [2.7515e+02, 0.0000e+00],\n",
       "       [2.7665e+02, 7.4000e-01],\n",
       "       [2.7965e+02, 3.4000e+00],\n",
       "       [2.7445e+02, 1.1000e-01],\n",
       "       [2.7265e+02, 0.0000e+00],\n",
       "       [2.7165e+02, 0.0000e+00],\n",
       "       [2.7065e+02, 6.6000e+00],\n",
       "       [2.6865e+02, 0.0000e+00],\n",
       "       [2.6015e+02, 2.5400e+00],\n",
       "       [2.6385e+02, 1.0920e+01],\n",
       "       [2.6035e+02, 0.0000e+00],\n",
       "       [2.5635e+02, 0.0000e+00],\n",
       "       [2.5635e+02, 5.0800e+00],\n",
       "       [2.6085e+02, 0.0000e+00],\n",
       "       [2.5635e+02, 1.1000e-01],\n",
       "       [2.6015e+02, 1.0160e+01],\n",
       "       [2.7065e+02, 2.2200e+00],\n",
       "       [2.6965e+02, 0.0000e+00],\n",
       "       [2.6065e+02, 1.1000e-01],\n",
       "       [2.6085e+02, 1.1000e-01],\n",
       "       [2.6365e+02, 5.0800e+00],\n",
       "       [2.6415e+02, 5.0800e+00],\n",
       "       [2.6585e+02, 1.2700e+00],\n",
       "       [2.5865e+02, 0.0000e+00],\n",
       "       [2.5035e+02, 0.0000e+00],\n",
       "       [       nan,        nan],\n",
       "       [       nan, 0.0000e+00],\n",
       "       [2.5165e+02, 1.2700e+00],\n",
       "       [2.5115e+02, 0.0000e+00]])"
      ]
     },
     "execution_count": 94,
     "metadata": {},
     "output_type": "execute_result"
    }
   ],
   "source": [
    "#1- Créer un tableau Numpy ayant une colonne pour la température et une colonne pour la précipitation. \n",
    "#   (avec deux tableaux Numpy 1D, créer un tableau 2D (365 lignes et 2 colonnes).\n",
    "\n",
    "tableau = np.column_stack([temperature,precipitation])\n",
    "tableau"
   ]
  },
  {
   "cell_type": "code",
   "execution_count": 95,
   "metadata": {
    "collapsed": true
   },
   "outputs": [],
   "source": [
    "#tableau = np.hstack([temperature,precipitation])\n",
    "tableau = np.hstack([temperature.reshape(len(temperature),-1),precipitation.reshape(len(precipitation),-1)])"
   ]
  },
  {
   "cell_type": "code",
   "execution_count": 96,
   "metadata": {},
   "outputs": [
    {
     "data": {
      "text/plain": [
       "array([[2.6665e+02, 1.1000e-01],\n",
       "       [2.6635e+02, 3.0300e+00],\n",
       "       [2.7135e+02, 2.6570e+01],\n",
       "       [2.7395e+02, 4.2100e+00],\n",
       "       [2.6335e+02, 0.0000e+00],\n",
       "       [2.6015e+02, 0.0000e+00],\n",
       "       [2.5615e+02, 1.1000e-01],\n",
       "       [2.5665e+02, 0.0000e+00],\n",
       "       [2.5785e+02, 0.0000e+00],\n",
       "       [2.6865e+02, 1.4370e+01],\n",
       "       [2.7315e+02, 3.4000e+00],\n",
       "       [2.7595e+02, 5.9000e-01],\n",
       "       [2.6535e+02, 0.0000e+00],\n",
       "       [2.5815e+02, 1.1000e-01],\n",
       "       [2.6415e+02, 0.0000e+00],\n",
       "       [2.6785e+02, 0.0000e+00],\n",
       "       [2.6765e+02, 8.5200e+00],\n",
       "       [2.7115e+02, 3.4000e-01],\n",
       "       [2.7315e+02, 0.0000e+00],\n",
       "       [2.7445e+02, 5.5000e-01],\n",
       "       [2.7465e+02, 5.4000e-01],\n",
       "       [2.7465e+02, 0.0000e+00],\n",
       "       [2.7135e+02, 2.6000e-01],\n",
       "       [2.7115e+02, 7.3000e+00],\n",
       "       [2.7185e+02, 2.0300e+00],\n",
       "       [2.7365e+02, 5.4000e-01],\n",
       "       [2.7265e+02, 5.1000e-01],\n",
       "       [2.7115e+02, 2.7900e+00],\n",
       "       [2.6915e+02, 5.1000e-01],\n",
       "       [2.5965e+02, 0.0000e+00],\n",
       "       [2.5815e+02, 2.0300e+00],\n",
       "       [2.6465e+02, 0.0000e+00],\n",
       "       [2.6265e+02, 7.6000e-01],\n",
       "       [2.6585e+02, 0.0000e+00],\n",
       "       [2.6435e+02, 2.5400e+00],\n",
       "       [2.6965e+02, 1.5200e+00],\n",
       "       [2.6115e+02, 7.3700e+00],\n",
       "       [2.6915e+02, 1.9950e+01],\n",
       "       [2.6765e+02, 0.0000e+00],\n",
       "       [2.5965e+02, 0.0000e+00],\n",
       "       [2.5835e+02, 3.8100e+00],\n",
       "       [2.6115e+02, 1.1000e-01],\n",
       "       [2.6415e+02, 2.4130e+01],\n",
       "       [2.6635e+02, 0.0000e+00],\n",
       "       [2.6465e+02, 2.0320e+01],\n",
       "       [2.6985e+02, 3.8100e+00],\n",
       "       [2.6735e+02, 0.0000e+00],\n",
       "       [2.6635e+02, 0.0000e+00],\n",
       "       [2.7285e+02, 0.0000e+00],\n",
       "       [2.7665e+02, 0.0000e+00],\n",
       "       [2.7135e+02, 0.0000e+00],\n",
       "       [2.6835e+02, 1.5600e+00],\n",
       "       [2.7515e+02, 0.0000e+00],\n",
       "       [2.8045e+02, 0.0000e+00],\n",
       "       [2.7495e+02, 3.1900e+00],\n",
       "       [2.7515e+02, 1.2370e+01],\n",
       "       [2.7085e+02, 0.0000e+00],\n",
       "       [2.7395e+02, 0.0000e+00],\n",
       "       [2.7185e+02, 1.6040e+01],\n",
       "       [2.7615e+02, 5.1200e+00],\n",
       "       [2.6265e+02, 0.0000e+00],\n",
       "       [2.6085e+02, 0.0000e+00],\n",
       "       [2.5585e+02, 0.0000e+00],\n",
       "       [2.5985e+02, 0.0000e+00],\n",
       "       [2.6665e+02, 5.1000e-01],\n",
       "       [2.7445e+02, 1.0740e+01],\n",
       "       [2.7795e+02, 0.0000e+00],\n",
       "       [2.7035e+02, 0.0000e+00],\n",
       "       [2.6565e+02, 0.0000e+00],\n",
       "       [2.5615e+02, 0.0000e+00],\n",
       "       [2.5865e+02, 0.0000e+00],\n",
       "       [2.6065e+02, 0.0000e+00],\n",
       "       [2.6365e+02, 2.2860e+01],\n",
       "       [2.6515e+02, 1.2700e+00],\n",
       "       [2.6665e+02, 0.0000e+00],\n",
       "       [2.6765e+02, 0.0000e+00],\n",
       "       [2.6585e+02, 0.0000e+00],\n",
       "       [2.7085e+02, 0.0000e+00],\n",
       "       [2.7085e+02, 1.5600e+00],\n",
       "       [2.7665e+02, 0.0000e+00],\n",
       "       [2.6265e+02, 0.0000e+00],\n",
       "       [2.6835e+02, 8.8900e+00],\n",
       "       [2.7165e+02, 1.5140e+01],\n",
       "       [2.7265e+02, 0.0000e+00],\n",
       "       [2.7035e+02, 2.1700e+00],\n",
       "       [2.7395e+02, 7.8800e+00],\n",
       "       [2.7665e+02, 0.0000e+00],\n",
       "       [2.7565e+02, 0.0000e+00],\n",
       "       [2.7315e+02, 1.1000e-01],\n",
       "       [2.7415e+02, 7.5900e+00],\n",
       "       [2.7565e+02, 1.5000e-01],\n",
       "       [2.7565e+02, 0.0000e+00],\n",
       "       [2.7615e+02, 1.1150e+01],\n",
       "       [2.7545e+02, 2.5840e+01],\n",
       "       [2.7845e+02, 2.5800e+00],\n",
       "       [2.7645e+02, 2.8490e+01],\n",
       "       [2.7595e+02, 1.5000e-01],\n",
       "       [2.7765e+02, 0.0000e+00],\n",
       "       [2.8195e+02, 0.0000e+00],\n",
       "       [2.8815e+02, 1.9700e+00],\n",
       "       [2.7965e+02, 2.3800e+00],\n",
       "       [2.8015e+02, 1.5000e-01],\n",
       "       [2.8045e+02, 1.5000e-01],\n",
       "       [2.8065e+02, 0.0000e+00],\n",
       "       [2.8195e+02, 1.6250e+01],\n",
       "       [2.8545e+02, 9.5200e+00],\n",
       "       [2.7895e+02, 0.0000e+00],\n",
       "       [2.7695e+02, 0.0000e+00],\n",
       "       [2.7965e+02, 1.5640e+01],\n",
       "       [2.8045e+02, 9.1100e+00],\n",
       "       [2.8315e+02, 1.5600e+00],\n",
       "       [2.8145e+02, 0.0000e+00],\n",
       "       [2.8295e+02, 0.0000e+00],\n",
       "       [2.7865e+02, 0.0000e+00],\n",
       "       [2.8195e+02, 2.7800e+00],\n",
       "       [2.8615e+02, 1.5000e-01],\n",
       "       [2.9215e+02, 5.6400e+00],\n",
       "       [2.8865e+02, 1.5000e-01],\n",
       "       [2.8745e+02, 0.0000e+00],\n",
       "       [2.7765e+02, 3.1140e+01],\n",
       "       [2.8195e+02, 3.5220e+01],\n",
       "       [2.8415e+02, 2.7800e+00],\n",
       "       [2.8215e+02, 0.0000e+00],\n",
       "       [2.8145e+02, 1.2170e+01],\n",
       "       [2.8145e+02, 4.0120e+01],\n",
       "       [2.8365e+02, 1.3390e+01],\n",
       "       [2.7795e+02, 7.4000e-01],\n",
       "       [2.7615e+02, 1.5000e-01],\n",
       "       [2.7745e+02, 0.0000e+00],\n",
       "       [2.8165e+02, 0.0000e+00],\n",
       "       [2.8265e+02, 0.0000e+00],\n",
       "       [2.8665e+02, 7.4000e-01],\n",
       "       [2.8565e+02, 7.4000e-01],\n",
       "       [2.8465e+02, 2.5800e+00],\n",
       "       [2.8695e+02, 0.0000e+00],\n",
       "       [2.8765e+02, 0.0000e+00],\n",
       "       [2.9465e+02, 0.0000e+00],\n",
       "       [2.9815e+02, 9.5000e-01],\n",
       "       [2.8565e+02, 0.0000e+00],\n",
       "       [2.8495e+02, 0.0000e+00],\n",
       "       [2.8615e+02, 1.4620e+01],\n",
       "       [2.8765e+02, 1.3600e+00],\n",
       "       [2.8715e+02, 0.0000e+00],\n",
       "       [2.9095e+02, 0.0000e+00],\n",
       "       [2.8995e+02, 1.2580e+01],\n",
       "       [2.8745e+02, 9.5000e-01],\n",
       "       [2.8945e+02, 0.0000e+00],\n",
       "       [2.9115e+02, 7.0700e+00],\n",
       "       [2.8915e+02, 2.5840e+01],\n",
       "       [2.9145e+02, 5.4400e+00],\n",
       "       [2.9015e+02, 9.5000e-01],\n",
       "       [2.8695e+02, 5.4000e-01],\n",
       "       [2.8495e+02, 1.5000e-01],\n",
       "       [2.8745e+02, 0.0000e+00],\n",
       "       [2.8715e+02, 1.1500e+00],\n",
       "       [2.8795e+02, 1.6860e+01],\n",
       "       [2.8615e+02, 1.2370e+01],\n",
       "       [2.8895e+02, 0.0000e+00],\n",
       "       [2.9365e+02, 0.0000e+00],\n",
       "       [2.9215e+02, 0.0000e+00],\n",
       "       [2.9245e+02, 0.0000e+00],\n",
       "       [2.9945e+02, 0.0000e+00],\n",
       "       [3.0045e+02, 0.0000e+00],\n",
       "       [2.9615e+02, 0.0000e+00],\n",
       "       [2.9045e+02, 0.0000e+00],\n",
       "       [2.9015e+02, 1.6450e+01],\n",
       "       [2.9095e+02, 0.0000e+00],\n",
       "       [2.9515e+02, 1.5000e-01],\n",
       "       [2.9865e+02, 7.4000e-01],\n",
       "       [2.9695e+02, 3.1900e+00],\n",
       "       [2.9365e+02, 2.1700e+00],\n",
       "       [2.9195e+02, 1.5000e-01],\n",
       "       [2.9265e+02, 1.4410e+01],\n",
       "       [2.9315e+02, 1.1500e+00],\n",
       "       [2.9345e+02, 5.4000e-01],\n",
       "       [2.9045e+02, 3.7260e+01],\n",
       "       [2.9015e+02, 7.4000e-01],\n",
       "       [2.8815e+02, 1.7600e+00],\n",
       "       [2.9095e+02, 3.1900e+00],\n",
       "       [2.8915e+02, 2.6040e+01],\n",
       "       [2.9245e+02, 2.3590e+01],\n",
       "       [2.9495e+02, 1.5020e+01],\n",
       "       [2.9315e+02, 2.3800e+01],\n",
       "       [2.9295e+02, 1.5000e-01],\n",
       "       [2.9245e+02, 0.0000e+00],\n",
       "       [2.9295e+02, 0.0000e+00],\n",
       "       [2.9465e+02, 1.5000e-01],\n",
       "       [2.9665e+02, 2.1140e+01],\n",
       "       [2.9315e+02, 0.0000e+00],\n",
       "       [2.9295e+02, 9.1100e+00],\n",
       "       [2.9415e+02, 9.5000e-01],\n",
       "       [2.9515e+02, 1.5020e+01],\n",
       "       [2.9215e+02, 8.2900e+00],\n",
       "       [2.9115e+02, 1.5000e-01],\n",
       "       [2.9145e+02, 1.5640e+01],\n",
       "       [2.9565e+02, 0.0000e+00],\n",
       "       [2.9545e+02, 1.1500e+00],\n",
       "       [2.9515e+02, 1.5000e-01],\n",
       "       [2.9645e+02, 0.0000e+00],\n",
       "       [2.9595e+02, 1.5000e-01],\n",
       "       [2.9645e+02, 0.0000e+00],\n",
       "       [2.9545e+02, 0.0000e+00],\n",
       "       [2.9395e+02, 0.0000e+00],\n",
       "       [2.9245e+02, 1.9310e+01],\n",
       "       [2.8895e+02, 4.5010e+01],\n",
       "       [2.9145e+02, 1.5000e-01],\n",
       "       [2.9195e+02, 0.0000e+00],\n",
       "       [2.9615e+02, 0.0000e+00],\n",
       "       [2.9165e+02, 0.0000e+00],\n",
       "       [2.9195e+02, 0.0000e+00],\n",
       "       [2.9345e+02, 0.0000e+00],\n",
       "       [2.9415e+02, 0.0000e+00],\n",
       "       [2.9465e+02, 0.0000e+00],\n",
       "       [2.9745e+02, 0.0000e+00],\n",
       "       [2.9465e+02, 6.0500e+00],\n",
       "       [2.9615e+02, 1.7600e+00],\n",
       "       [2.9365e+02, 1.5600e+00],\n",
       "       [2.9015e+02, 1.5000e-01],\n",
       "       [2.9015e+02, 0.0000e+00],\n",
       "       [2.9215e+02, 0.0000e+00],\n",
       "       [2.9295e+02, 0.0000e+00],\n",
       "       [2.9315e+02, 0.0000e+00],\n",
       "       [2.9415e+02, 3.6000e+00],\n",
       "       [2.9245e+02, 1.5430e+01],\n",
       "       [2.9365e+02, 1.5000e-01],\n",
       "       [2.9365e+02, 1.5000e-01],\n",
       "       [2.9515e+02, 1.5000e-01],\n",
       "       [2.9115e+02, 0.0000e+00],\n",
       "       [2.9245e+02, 2.4410e+01],\n",
       "       [2.9265e+02, 3.6000e+00],\n",
       "       [2.9445e+02, 0.0000e+00],\n",
       "       [2.9415e+02, 0.0000e+00],\n",
       "       [2.9545e+02, 9.9200e+00],\n",
       "       [2.9565e+02, 1.8080e+01],\n",
       "       [2.9195e+02, 0.0000e+00],\n",
       "       [2.9045e+02, 0.0000e+00],\n",
       "       [2.8815e+02, 0.0000e+00],\n",
       "       [2.8845e+02, 0.0000e+00],\n",
       "       [2.8965e+02, 0.0000e+00],\n",
       "       [2.9015e+02, 0.0000e+00],\n",
       "       [2.9215e+02, 0.0000e+00],\n",
       "       [2.8995e+02, 9.5000e-01],\n",
       "       [2.8695e+02, 0.0000e+00],\n",
       "       [2.8515e+02, 0.0000e+00],\n",
       "       [2.8515e+02, 4.2100e+00],\n",
       "       [2.8645e+02, 4.0100e+00],\n",
       "       [2.8945e+02, 2.4200e+01],\n",
       "       [2.9115e+02, 0.0000e+00],\n",
       "       [2.8915e+02, 5.4000e-01],\n",
       "       [2.8965e+02, 9.3100e+00],\n",
       "       [2.8665e+02, 1.3600e+00],\n",
       "       [2.8765e+02, 0.0000e+00],\n",
       "       [2.8615e+02, 0.0000e+00],\n",
       "       [2.8815e+02, 0.0000e+00],\n",
       "       [2.9045e+02, 0.0000e+00],\n",
       "       [2.9215e+02, 0.0000e+00],\n",
       "       [2.9315e+02, 0.0000e+00],\n",
       "       [2.9295e+02, 0.0000e+00],\n",
       "       [2.9415e+02, 0.0000e+00],\n",
       "       [2.9515e+02, 0.0000e+00],\n",
       "       [2.9365e+02, 0.0000e+00],\n",
       "       [2.9465e+02, 1.5000e-01],\n",
       "       [2.9515e+02, 0.0000e+00],\n",
       "       [2.9315e+02, 0.0000e+00],\n",
       "       [2.9315e+02, 0.0000e+00],\n",
       "       [2.9445e+02, 0.0000e+00],\n",
       "       [2.9815e+02, 0.0000e+00],\n",
       "       [2.9795e+02, 0.0000e+00],\n",
       "       [2.9695e+02, 0.0000e+00],\n",
       "       [2.9795e+02, 9.9200e+00],\n",
       "       [2.8565e+02, 0.0000e+00],\n",
       "       [2.8315e+02, 0.0000e+00],\n",
       "       [2.8415e+02, 0.0000e+00],\n",
       "       [2.8345e+02, 0.0000e+00],\n",
       "       [2.8565e+02, 0.0000e+00],\n",
       "       [2.8815e+02, 0.0000e+00],\n",
       "       [2.8965e+02, 1.1960e+01],\n",
       "       [2.8865e+02, 0.0000e+00],\n",
       "       [2.8865e+02, 0.0000e+00],\n",
       "       [2.8765e+02, 8.7000e+00],\n",
       "       [2.9365e+02, 1.1500e+00],\n",
       "       [2.8845e+02, 6.6600e+00],\n",
       "       [2.8865e+02, 0.0000e+00],\n",
       "       [2.8245e+02, 0.0000e+00],\n",
       "       [2.8195e+02, 0.0000e+00],\n",
       "       [2.8315e+02, 7.4000e-01],\n",
       "       [2.8865e+02, 1.3390e+01],\n",
       "       [2.9095e+02, 7.2700e+00],\n",
       "       [2.7915e+02, 1.5000e-01],\n",
       "       [2.8095e+02, 0.0000e+00],\n",
       "       [2.8695e+02, 1.5600e+00],\n",
       "       [2.8645e+02, 0.0000e+00],\n",
       "       [2.8665e+02, 0.0000e+00],\n",
       "       [2.8695e+02, 0.0000e+00],\n",
       "       [2.8715e+02, 0.0000e+00],\n",
       "       [2.8795e+02, 8.7000e+00],\n",
       "       [2.9015e+02, 3.1900e+00],\n",
       "       [2.8465e+02, 1.5000e-01],\n",
       "       [2.8065e+02, 0.0000e+00],\n",
       "       [2.8095e+02, 0.0000e+00],\n",
       "       [2.8465e+02, 9.7200e+00],\n",
       "       [2.8165e+02,        nan],\n",
       "       [2.8115e+02, 1.9700e+00],\n",
       "       [2.8065e+02, 1.5000e-01],\n",
       "       [2.7615e+02, 1.6860e+01],\n",
       "       [2.8245e+02, 2.3390e+01],\n",
       "       [2.8295e+02, 1.5000e-01],\n",
       "       [2.7545e+02, 1.1500e+00],\n",
       "       [2.8115e+02, 1.5020e+01],\n",
       "       [2.8165e+02, 0.0000e+00],\n",
       "       [2.7495e+02, 0.0000e+00],\n",
       "       [2.7765e+02, 0.0000e+00],\n",
       "       [2.7645e+02, 4.0100e+00],\n",
       "       [2.6565e+02, 0.0000e+00],\n",
       "       [2.6765e+02, 0.0000e+00],\n",
       "       [2.7315e+02, 0.0000e+00],\n",
       "       [2.7315e+02, 0.0000e+00],\n",
       "       [2.7395e+02, 0.0000e+00],\n",
       "       [2.7415e+02, 0.0000e+00],\n",
       "       [2.7845e+02, 3.1900e+00],\n",
       "       [2.7015e+02, 0.0000e+00],\n",
       "       [2.7035e+02, 1.0900e+01],\n",
       "       [2.7185e+02, 1.5000e-01],\n",
       "       [2.6715e+02, 0.0000e+00],\n",
       "       [2.7465e+02, 3.6000e+00],\n",
       "       [2.7315e+02, 0.0000e+00],\n",
       "       [2.7015e+02, 0.0000e+00],\n",
       "       [2.7745e+02, 7.4000e-01],\n",
       "       [2.7945e+02, 5.1400e+00],\n",
       "       [2.7035e+02, 8.1300e+00],\n",
       "       [2.6615e+02, 0.0000e+00],\n",
       "       [2.7345e+02, 5.4000e-01],\n",
       "       [2.7595e+02, 0.0000e+00],\n",
       "       [2.7215e+02, 4.6200e+00],\n",
       "       [2.7495e+02, 0.0000e+00],\n",
       "       [2.7545e+02, 0.0000e+00],\n",
       "       [2.7515e+02, 0.0000e+00],\n",
       "       [2.7665e+02, 7.4000e-01],\n",
       "       [2.7965e+02, 3.4000e+00],\n",
       "       [2.7445e+02, 1.1000e-01],\n",
       "       [2.7265e+02, 0.0000e+00],\n",
       "       [2.7165e+02, 0.0000e+00],\n",
       "       [2.7065e+02, 6.6000e+00],\n",
       "       [2.6865e+02, 0.0000e+00],\n",
       "       [2.6015e+02, 2.5400e+00],\n",
       "       [2.6385e+02, 1.0920e+01],\n",
       "       [2.6035e+02, 0.0000e+00],\n",
       "       [2.5635e+02, 0.0000e+00],\n",
       "       [2.5635e+02, 5.0800e+00],\n",
       "       [2.6085e+02, 0.0000e+00],\n",
       "       [2.5635e+02, 1.1000e-01],\n",
       "       [2.6015e+02, 1.0160e+01],\n",
       "       [2.7065e+02, 2.2200e+00],\n",
       "       [2.6965e+02, 0.0000e+00],\n",
       "       [2.6065e+02, 1.1000e-01],\n",
       "       [2.6085e+02, 1.1000e-01],\n",
       "       [2.6365e+02, 5.0800e+00],\n",
       "       [2.6415e+02, 5.0800e+00],\n",
       "       [2.6585e+02, 1.2700e+00],\n",
       "       [2.5865e+02, 0.0000e+00],\n",
       "       [2.5035e+02, 0.0000e+00],\n",
       "       [       nan,        nan],\n",
       "       [       nan, 0.0000e+00],\n",
       "       [2.5165e+02, 1.2700e+00],\n",
       "       [2.5115e+02, 0.0000e+00]])"
      ]
     },
     "execution_count": 96,
     "metadata": {},
     "output_type": "execute_result"
    }
   ],
   "source": [
    "tableau"
   ]
  },
  {
   "cell_type": "code",
   "execution_count": 97,
   "metadata": {},
   "outputs": [
    {
     "name": "stdout",
     "output_type": "stream",
     "text": [
      "(365, 2)\n"
     ]
    }
   ],
   "source": [
    "print(tableau.shape)"
   ]
  },
  {
   "cell_type": "code",
   "execution_count": 98,
   "metadata": {
    "collapsed": true
   },
   "outputs": [],
   "source": [
    "#2- Convertir les données de températures en Celcius (T[Celcius] = T[Kelvin] - 273.15).\n",
    "tableau[:,0]=tableau[:,0]-273.15  # on prend toutes les lignes de la première colonne "
   ]
  },
  {
   "cell_type": "code",
   "execution_count": 99,
   "metadata": {},
   "outputs": [
    {
     "name": "stdout",
     "output_type": "stream",
     "text": [
      "[[ -6.5    0.11]\n",
      " [ -6.8    3.03]\n",
      " [ -1.8   26.57]\n",
      " [  0.8    4.21]\n",
      " [ -9.8    0.  ]\n",
      " [-13.     0.  ]\n",
      " [-17.     0.11]\n",
      " [-16.5    0.  ]\n",
      " [-15.3    0.  ]\n",
      " [ -4.5   14.37]\n",
      " [  0.     3.4 ]\n",
      " [  2.8    0.59]\n",
      " [ -7.8    0.  ]\n",
      " [-15.     0.11]\n",
      " [ -9.     0.  ]\n",
      " [ -5.3    0.  ]\n",
      " [ -5.5    8.52]\n",
      " [ -2.     0.34]\n",
      " [  0.     0.  ]\n",
      " [  1.3    0.55]\n",
      " [  1.5    0.54]\n",
      " [  1.5    0.  ]\n",
      " [ -1.8    0.26]\n",
      " [ -2.     7.3 ]\n",
      " [ -1.3    2.03]\n",
      " [  0.5    0.54]\n",
      " [ -0.5    0.51]\n",
      " [ -2.     2.79]\n",
      " [ -4.     0.51]\n",
      " [-13.5    0.  ]\n",
      " [-15.     2.03]\n",
      " [ -8.5    0.  ]\n",
      " [-10.5    0.76]\n",
      " [ -7.3    0.  ]\n",
      " [ -8.8    2.54]\n",
      " [ -3.5    1.52]\n",
      " [-12.     7.37]\n",
      " [ -4.    19.95]\n",
      " [ -5.5    0.  ]\n",
      " [-13.5    0.  ]\n",
      " [-14.8    3.81]\n",
      " [-12.     0.11]\n",
      " [ -9.    24.13]\n",
      " [ -6.8    0.  ]\n",
      " [ -8.5   20.32]\n",
      " [ -3.3    3.81]\n",
      " [ -5.8    0.  ]\n",
      " [ -6.8    0.  ]\n",
      " [ -0.3    0.  ]\n",
      " [  3.5    0.  ]\n",
      " [ -1.8    0.  ]\n",
      " [ -4.8    1.56]\n",
      " [  2.     0.  ]\n",
      " [  7.3    0.  ]\n",
      " [  1.8    3.19]\n",
      " [  2.    12.37]\n",
      " [ -2.3    0.  ]\n",
      " [  0.8    0.  ]\n",
      " [ -1.3   16.04]\n",
      " [  3.     5.12]\n",
      " [-10.5    0.  ]\n",
      " [-12.3    0.  ]\n",
      " [-17.3    0.  ]\n",
      " [-13.3    0.  ]\n",
      " [ -6.5    0.51]\n",
      " [  1.3   10.74]\n",
      " [  4.8    0.  ]\n",
      " [ -2.8    0.  ]\n",
      " [ -7.5    0.  ]\n",
      " [-17.     0.  ]\n",
      " [-14.5    0.  ]\n",
      " [-12.5    0.  ]\n",
      " [ -9.5   22.86]\n",
      " [ -8.     1.27]\n",
      " [ -6.5    0.  ]\n",
      " [ -5.5    0.  ]\n",
      " [ -7.3    0.  ]\n",
      " [ -2.3    0.  ]\n",
      " [ -2.3    1.56]\n",
      " [  3.5    0.  ]\n",
      " [-10.5    0.  ]\n",
      " [ -4.8    8.89]\n",
      " [ -1.5   15.14]\n",
      " [ -0.5    0.  ]\n",
      " [ -2.8    2.17]\n",
      " [  0.8    7.88]\n",
      " [  3.5    0.  ]\n",
      " [  2.5    0.  ]\n",
      " [  0.     0.11]\n",
      " [  1.     7.59]\n",
      " [  2.5    0.15]\n",
      " [  2.5    0.  ]\n",
      " [  3.    11.15]\n",
      " [  2.3   25.84]\n",
      " [  5.3    2.58]\n",
      " [  3.3   28.49]\n",
      " [  2.8    0.15]\n",
      " [  4.5    0.  ]\n",
      " [  8.8    0.  ]\n",
      " [ 15.     1.97]\n",
      " [  6.5    2.38]\n",
      " [  7.     0.15]\n",
      " [  7.3    0.15]\n",
      " [  7.5    0.  ]\n",
      " [  8.8   16.25]\n",
      " [ 12.3    9.52]\n",
      " [  5.8    0.  ]\n",
      " [  3.8    0.  ]\n",
      " [  6.5   15.64]\n",
      " [  7.3    9.11]\n",
      " [ 10.     1.56]\n",
      " [  8.3    0.  ]\n",
      " [  9.8    0.  ]\n",
      " [  5.5    0.  ]\n",
      " [  8.8    2.78]\n",
      " [ 13.     0.15]\n",
      " [ 19.     5.64]\n",
      " [ 15.5    0.15]\n",
      " [ 14.3    0.  ]\n",
      " [  4.5   31.14]\n",
      " [  8.8   35.22]\n",
      " [ 11.     2.78]\n",
      " [  9.     0.  ]\n",
      " [  8.3   12.17]\n",
      " [  8.3   40.12]\n",
      " [ 10.5   13.39]\n",
      " [  4.8    0.74]\n",
      " [  3.     0.15]\n",
      " [  4.3    0.  ]\n",
      " [  8.5    0.  ]\n",
      " [  9.5    0.  ]\n",
      " [ 13.5    0.74]\n",
      " [ 12.5    0.74]\n",
      " [ 11.5    2.58]\n",
      " [ 13.8    0.  ]\n",
      " [ 14.5    0.  ]\n",
      " [ 21.5    0.  ]\n",
      " [ 25.     0.95]\n",
      " [ 12.5    0.  ]\n",
      " [ 11.8    0.  ]\n",
      " [ 13.    14.62]\n",
      " [ 14.5    1.36]\n",
      " [ 14.     0.  ]\n",
      " [ 17.8    0.  ]\n",
      " [ 16.8   12.58]\n",
      " [ 14.3    0.95]\n",
      " [ 16.3    0.  ]\n",
      " [ 18.     7.07]\n",
      " [ 16.    25.84]\n",
      " [ 18.3    5.44]\n",
      " [ 17.     0.95]\n",
      " [ 13.8    0.54]\n",
      " [ 11.8    0.15]\n",
      " [ 14.3    0.  ]\n",
      " [ 14.     1.15]\n",
      " [ 14.8   16.86]\n",
      " [ 13.    12.37]\n",
      " [ 15.8    0.  ]\n",
      " [ 20.5    0.  ]\n",
      " [ 19.     0.  ]\n",
      " [ 19.3    0.  ]\n",
      " [ 26.3    0.  ]\n",
      " [ 27.3    0.  ]\n",
      " [ 23.     0.  ]\n",
      " [ 17.3    0.  ]\n",
      " [ 17.    16.45]\n",
      " [ 17.8    0.  ]\n",
      " [ 22.     0.15]\n",
      " [ 25.5    0.74]\n",
      " [ 23.8    3.19]\n",
      " [ 20.5    2.17]\n",
      " [ 18.8    0.15]\n",
      " [ 19.5   14.41]\n",
      " [ 20.     1.15]\n",
      " [ 20.3    0.54]\n",
      " [ 17.3   37.26]\n",
      " [ 17.     0.74]\n",
      " [ 15.     1.76]\n",
      " [ 17.8    3.19]\n",
      " [ 16.    26.04]\n",
      " [ 19.3   23.59]\n",
      " [ 21.8   15.02]\n",
      " [ 20.    23.8 ]\n",
      " [ 19.8    0.15]\n",
      " [ 19.3    0.  ]\n",
      " [ 19.8    0.  ]\n",
      " [ 21.5    0.15]\n",
      " [ 23.5   21.14]\n",
      " [ 20.     0.  ]\n",
      " [ 19.8    9.11]\n",
      " [ 21.     0.95]\n",
      " [ 22.    15.02]\n",
      " [ 19.     8.29]\n",
      " [ 18.     0.15]\n",
      " [ 18.3   15.64]\n",
      " [ 22.5    0.  ]\n",
      " [ 22.3    1.15]\n",
      " [ 22.     0.15]\n",
      " [ 23.3    0.  ]\n",
      " [ 22.8    0.15]\n",
      " [ 23.3    0.  ]\n",
      " [ 22.3    0.  ]\n",
      " [ 20.8    0.  ]\n",
      " [ 19.3   19.31]\n",
      " [ 15.8   45.01]\n",
      " [ 18.3    0.15]\n",
      " [ 18.8    0.  ]\n",
      " [ 23.     0.  ]\n",
      " [ 18.5    0.  ]\n",
      " [ 18.8    0.  ]\n",
      " [ 20.3    0.  ]\n",
      " [ 21.     0.  ]\n",
      " [ 21.5    0.  ]\n",
      " [ 24.3    0.  ]\n",
      " [ 21.5    6.05]\n",
      " [ 23.     1.76]\n",
      " [ 20.5    1.56]\n",
      " [ 17.     0.15]\n",
      " [ 17.     0.  ]\n",
      " [ 19.     0.  ]\n",
      " [ 19.8    0.  ]\n",
      " [ 20.     0.  ]\n",
      " [ 21.     3.6 ]\n",
      " [ 19.3   15.43]\n",
      " [ 20.5    0.15]\n",
      " [ 20.5    0.15]\n",
      " [ 22.     0.15]\n",
      " [ 18.     0.  ]\n",
      " [ 19.3   24.41]\n",
      " [ 19.5    3.6 ]\n",
      " [ 21.3    0.  ]\n",
      " [ 21.     0.  ]\n",
      " [ 22.3    9.92]\n",
      " [ 22.5   18.08]\n",
      " [ 18.8    0.  ]\n",
      " [ 17.3    0.  ]\n",
      " [ 15.     0.  ]\n",
      " [ 15.3    0.  ]\n",
      " [ 16.5    0.  ]\n",
      " [ 17.     0.  ]\n",
      " [ 19.     0.  ]\n",
      " [ 16.8    0.95]\n",
      " [ 13.8    0.  ]\n",
      " [ 12.     0.  ]\n",
      " [ 12.     4.21]\n",
      " [ 13.3    4.01]\n",
      " [ 16.3   24.2 ]\n",
      " [ 18.     0.  ]\n",
      " [ 16.     0.54]\n",
      " [ 16.5    9.31]\n",
      " [ 13.5    1.36]\n",
      " [ 14.5    0.  ]\n",
      " [ 13.     0.  ]\n",
      " [ 15.     0.  ]\n",
      " [ 17.3    0.  ]\n",
      " [ 19.     0.  ]\n",
      " [ 20.     0.  ]\n",
      " [ 19.8    0.  ]\n",
      " [ 21.     0.  ]\n",
      " [ 22.     0.  ]\n",
      " [ 20.5    0.  ]\n",
      " [ 21.5    0.15]\n",
      " [ 22.     0.  ]\n",
      " [ 20.     0.  ]\n",
      " [ 20.     0.  ]\n",
      " [ 21.3    0.  ]\n",
      " [ 25.     0.  ]\n",
      " [ 24.8    0.  ]\n",
      " [ 23.8    0.  ]\n",
      " [ 24.8    9.92]\n",
      " [ 12.5    0.  ]\n",
      " [ 10.     0.  ]\n",
      " [ 11.     0.  ]\n",
      " [ 10.3    0.  ]\n",
      " [ 12.5    0.  ]\n",
      " [ 15.     0.  ]\n",
      " [ 16.5   11.96]\n",
      " [ 15.5    0.  ]\n",
      " [ 15.5    0.  ]\n",
      " [ 14.5    8.7 ]\n",
      " [ 20.5    1.15]\n",
      " [ 15.3    6.66]\n",
      " [ 15.5    0.  ]\n",
      " [  9.3    0.  ]\n",
      " [  8.8    0.  ]\n",
      " [ 10.     0.74]\n",
      " [ 15.5   13.39]\n",
      " [ 17.8    7.27]\n",
      " [  6.     0.15]\n",
      " [  7.8    0.  ]\n",
      " [ 13.8    1.56]\n",
      " [ 13.3    0.  ]\n",
      " [ 13.5    0.  ]\n",
      " [ 13.8    0.  ]\n",
      " [ 14.     0.  ]\n",
      " [ 14.8    8.7 ]\n",
      " [ 17.     3.19]\n",
      " [ 11.5    0.15]\n",
      " [  7.5    0.  ]\n",
      " [  7.8    0.  ]\n",
      " [ 11.5    9.72]\n",
      " [  8.5     nan]\n",
      " [  8.     1.97]\n",
      " [  7.5    0.15]\n",
      " [  3.    16.86]\n",
      " [  9.3   23.39]\n",
      " [  9.8    0.15]\n",
      " [  2.3    1.15]\n",
      " [  8.    15.02]\n",
      " [  8.5    0.  ]\n",
      " [  1.8    0.  ]\n",
      " [  4.5    0.  ]\n",
      " [  3.3    4.01]\n",
      " [ -7.5    0.  ]\n",
      " [ -5.5    0.  ]\n",
      " [  0.     0.  ]\n",
      " [  0.     0.  ]\n",
      " [  0.8    0.  ]\n",
      " [  1.     0.  ]\n",
      " [  5.3    3.19]\n",
      " [ -3.     0.  ]\n",
      " [ -2.8   10.9 ]\n",
      " [ -1.3    0.15]\n",
      " [ -6.     0.  ]\n",
      " [  1.5    3.6 ]\n",
      " [  0.     0.  ]\n",
      " [ -3.     0.  ]\n",
      " [  4.3    0.74]\n",
      " [  6.3    5.14]\n",
      " [ -2.8    8.13]\n",
      " [ -7.     0.  ]\n",
      " [  0.3    0.54]\n",
      " [  2.8    0.  ]\n",
      " [ -1.     4.62]\n",
      " [  1.8    0.  ]\n",
      " [  2.3    0.  ]\n",
      " [  2.     0.  ]\n",
      " [  3.5    0.74]\n",
      " [  6.5    3.4 ]\n",
      " [  1.3    0.11]\n",
      " [ -0.5    0.  ]\n",
      " [ -1.5    0.  ]\n",
      " [ -2.5    6.6 ]\n",
      " [ -4.5    0.  ]\n",
      " [-13.     2.54]\n",
      " [ -9.3   10.92]\n",
      " [-12.8    0.  ]\n",
      " [-16.8    0.  ]\n",
      " [-16.8    5.08]\n",
      " [-12.3    0.  ]\n",
      " [-16.8    0.11]\n",
      " [-13.    10.16]\n",
      " [ -2.5    2.22]\n",
      " [ -3.5    0.  ]\n",
      " [-12.5    0.11]\n",
      " [-12.3    0.11]\n",
      " [ -9.5    5.08]\n",
      " [ -9.     5.08]\n",
      " [ -7.3    1.27]\n",
      " [-14.5    0.  ]\n",
      " [-22.8    0.  ]\n",
      " [   nan    nan]\n",
      " [   nan   0.  ]\n",
      " [-21.5    1.27]\n",
      " [-22.     0.  ]]\n"
     ]
    }
   ],
   "source": [
    "print(tableau)"
   ]
  },
  {
   "cell_type": "code",
   "execution_count": 100,
   "metadata": {},
   "outputs": [
    {
     "name": "stderr",
     "output_type": "stream",
     "text": [
      "D:\\Utilisateurs\\guillaume\\Anaconda3\\lib\\site-packages\\ipykernel_launcher.py:2: RuntimeWarning: invalid value encountered in greater_equal\n",
      "  \n"
     ]
    },
    {
     "data": {
      "text/plain": [
       "array([[-1.8 , 26.57],\n",
       "       [ 2.3 , 25.84],\n",
       "       [ 3.3 , 28.49],\n",
       "       [ 4.5 , 31.14],\n",
       "       [ 8.8 , 35.22],\n",
       "       [ 8.3 , 40.12],\n",
       "       [16.  , 25.84],\n",
       "       [17.3 , 37.26],\n",
       "       [16.  , 26.04],\n",
       "       [15.8 , 45.01]])"
      ]
     },
     "execution_count": 100,
     "metadata": {},
     "output_type": "execute_result"
    }
   ],
   "source": [
    "# 3- Combien de journées ont une accumulation supérieure à 25mm ?\n",
    "tableau[tableau[:,1]>=25]    # On filtre toutes les lignes de la 2ème colonne "
   ]
  },
  {
   "cell_type": "code",
   "execution_count": 101,
   "metadata": {},
   "outputs": [
    {
     "name": "stderr",
     "output_type": "stream",
     "text": [
      "D:\\Utilisateurs\\guillaume\\Anaconda3\\lib\\site-packages\\ipykernel_launcher.py:2: RuntimeWarning: invalid value encountered in greater_equal\n",
      "  \n"
     ]
    },
    {
     "data": {
      "text/plain": [
       "10"
      ]
     },
     "execution_count": 101,
     "metadata": {},
     "output_type": "execute_result"
    }
   ],
   "source": [
    "# pour connaitre le nombre de jours, on utilise la fonction len()\n",
    "len(tableau[tableau[:,1]>=25])   "
   ]
  },
  {
   "cell_type": "code",
   "execution_count": 102,
   "metadata": {},
   "outputs": [
    {
     "name": "stdout",
     "output_type": "stream",
     "text": [
      "45.01\n"
     ]
    }
   ],
   "source": [
    "# 4- Quelle température a été enregistrée pour la journée présentant la plus grande accumulation.\n",
    "precipitation_max = np.nanmax(tableau[:,1]) # on cherche le maximum d'accumulation avec la fonction max()\n",
    "print(precipitation_max)"
   ]
  },
  {
   "cell_type": "code",
   "execution_count": 103,
   "metadata": {},
   "outputs": [
    {
     "data": {
      "text/plain": [
       "array([[15.8 , 45.01]])"
      ]
     },
     "execution_count": 103,
     "metadata": {},
     "output_type": "execute_result"
    }
   ],
   "source": [
    "tableau[tableau[:,1] == precipitation_max] # on cherche sur toutes les lignes de la deuxième colonne celle qui correspond à notre variable precipitation_max"
   ]
  },
  {
   "cell_type": "code",
   "execution_count": 104,
   "metadata": {
    "collapsed": true
   },
   "outputs": [],
   "source": [
    "# 5- Calculer le nombre de degrés jours (>0degC) pour l'année 2017. "
   ]
  },
  {
   "cell_type": "code",
   "execution_count": 105,
   "metadata": {},
   "outputs": [
    {
     "name": "stderr",
     "output_type": "stream",
     "text": [
      "D:\\Utilisateurs\\guillaume\\Anaconda3\\lib\\site-packages\\ipykernel_launcher.py:1: RuntimeWarning: invalid value encountered in greater\n",
      "  \"\"\"Entry point for launching an IPython kernel.\n"
     ]
    },
    {
     "data": {
      "text/plain": [
       "1328.5300000000002"
      ]
     },
     "execution_count": 105,
     "metadata": {},
     "output_type": "execute_result"
    }
   ],
   "source": [
    "sum(tableau[:,1][tableau[:,1]>0])"
   ]
  },
  {
   "cell_type": "code",
   "execution_count": 106,
   "metadata": {
    "collapsed": true
   },
   "outputs": [],
   "source": [
    "# 6- Calculer le cumul journalier de précipitation pour l'année 2017\n",
    "cumul_precipitation = np.nancumsum(tableau[:,1])"
   ]
  },
  {
   "cell_type": "code",
   "execution_count": 107,
   "metadata": {},
   "outputs": [
    {
     "data": {
      "text/plain": [
       "array([[-6.50000e+00,  1.10000e-01,  1.10000e-01],\n",
       "       [-6.80000e+00,  3.03000e+00,  3.14000e+00],\n",
       "       [-1.80000e+00,  2.65700e+01,  2.97100e+01],\n",
       "       ...,\n",
       "       [         nan,  0.00000e+00,  1.32726e+03],\n",
       "       [-2.15000e+01,  1.27000e+00,  1.32853e+03],\n",
       "       [-2.20000e+01,  0.00000e+00,  1.32853e+03]])"
      ]
     },
     "execution_count": 107,
     "metadata": {},
     "output_type": "execute_result"
    }
   ],
   "source": [
    "# Ajouter le tableau cumul_precipitation au tableau. \n",
    "tableau = np.column_stack([tableau, cumul_precipitation])\n",
    "tableau"
   ]
  },
  {
   "cell_type": "code",
   "execution_count": 110,
   "metadata": {
    "collapsed": true
   },
   "outputs": [],
   "source": [
    "# 7. spliter (casser) l’array en 3 tableaux, puis concaténer à nouveau pour obtenir le tableau initial.\n",
    "\n",
    "# on assigne les trois tableaux et on fait une coupure horizontale avec la fonction hsplit()\n",
    "temperature2,precipitation2,cumul2 = np.hsplit(tableau, 3)"
   ]
  },
  {
   "cell_type": "code",
   "execution_count": 111,
   "metadata": {
    "collapsed": true
   },
   "outputs": [],
   "source": [
    "# Pour revenir à notre tableau original, on utilise la fonction concatenate avec l'option axis = 1 \n",
    "tableau_original=np.concatenate([temperature2+273.15, precipitation2], axis = 1)"
   ]
  },
  {
   "cell_type": "code",
   "execution_count": 112,
   "metadata": {},
   "outputs": [
    {
     "name": "stdout",
     "output_type": "stream",
     "text": [
      "[[2.6665e+02 1.1000e-01]\n",
      " [2.6635e+02 3.0300e+00]\n",
      " [2.7135e+02 2.6570e+01]\n",
      " [2.7395e+02 4.2100e+00]\n",
      " [2.6335e+02 0.0000e+00]\n",
      " [2.6015e+02 0.0000e+00]\n",
      " [2.5615e+02 1.1000e-01]\n",
      " [2.5665e+02 0.0000e+00]\n",
      " [2.5785e+02 0.0000e+00]\n",
      " [2.6865e+02 1.4370e+01]\n",
      " [2.7315e+02 3.4000e+00]\n",
      " [2.7595e+02 5.9000e-01]\n",
      " [2.6535e+02 0.0000e+00]\n",
      " [2.5815e+02 1.1000e-01]\n",
      " [2.6415e+02 0.0000e+00]\n",
      " [2.6785e+02 0.0000e+00]\n",
      " [2.6765e+02 8.5200e+00]\n",
      " [2.7115e+02 3.4000e-01]\n",
      " [2.7315e+02 0.0000e+00]\n",
      " [2.7445e+02 5.5000e-01]\n",
      " [2.7465e+02 5.4000e-01]\n",
      " [2.7465e+02 0.0000e+00]\n",
      " [2.7135e+02 2.6000e-01]\n",
      " [2.7115e+02 7.3000e+00]\n",
      " [2.7185e+02 2.0300e+00]\n",
      " [2.7365e+02 5.4000e-01]\n",
      " [2.7265e+02 5.1000e-01]\n",
      " [2.7115e+02 2.7900e+00]\n",
      " [2.6915e+02 5.1000e-01]\n",
      " [2.5965e+02 0.0000e+00]\n",
      " [2.5815e+02 2.0300e+00]\n",
      " [2.6465e+02 0.0000e+00]\n",
      " [2.6265e+02 7.6000e-01]\n",
      " [2.6585e+02 0.0000e+00]\n",
      " [2.6435e+02 2.5400e+00]\n",
      " [2.6965e+02 1.5200e+00]\n",
      " [2.6115e+02 7.3700e+00]\n",
      " [2.6915e+02 1.9950e+01]\n",
      " [2.6765e+02 0.0000e+00]\n",
      " [2.5965e+02 0.0000e+00]\n",
      " [2.5835e+02 3.8100e+00]\n",
      " [2.6115e+02 1.1000e-01]\n",
      " [2.6415e+02 2.4130e+01]\n",
      " [2.6635e+02 0.0000e+00]\n",
      " [2.6465e+02 2.0320e+01]\n",
      " [2.6985e+02 3.8100e+00]\n",
      " [2.6735e+02 0.0000e+00]\n",
      " [2.6635e+02 0.0000e+00]\n",
      " [2.7285e+02 0.0000e+00]\n",
      " [2.7665e+02 0.0000e+00]\n",
      " [2.7135e+02 0.0000e+00]\n",
      " [2.6835e+02 1.5600e+00]\n",
      " [2.7515e+02 0.0000e+00]\n",
      " [2.8045e+02 0.0000e+00]\n",
      " [2.7495e+02 3.1900e+00]\n",
      " [2.7515e+02 1.2370e+01]\n",
      " [2.7085e+02 0.0000e+00]\n",
      " [2.7395e+02 0.0000e+00]\n",
      " [2.7185e+02 1.6040e+01]\n",
      " [2.7615e+02 5.1200e+00]\n",
      " [2.6265e+02 0.0000e+00]\n",
      " [2.6085e+02 0.0000e+00]\n",
      " [2.5585e+02 0.0000e+00]\n",
      " [2.5985e+02 0.0000e+00]\n",
      " [2.6665e+02 5.1000e-01]\n",
      " [2.7445e+02 1.0740e+01]\n",
      " [2.7795e+02 0.0000e+00]\n",
      " [2.7035e+02 0.0000e+00]\n",
      " [2.6565e+02 0.0000e+00]\n",
      " [2.5615e+02 0.0000e+00]\n",
      " [2.5865e+02 0.0000e+00]\n",
      " [2.6065e+02 0.0000e+00]\n",
      " [2.6365e+02 2.2860e+01]\n",
      " [2.6515e+02 1.2700e+00]\n",
      " [2.6665e+02 0.0000e+00]\n",
      " [2.6765e+02 0.0000e+00]\n",
      " [2.6585e+02 0.0000e+00]\n",
      " [2.7085e+02 0.0000e+00]\n",
      " [2.7085e+02 1.5600e+00]\n",
      " [2.7665e+02 0.0000e+00]\n",
      " [2.6265e+02 0.0000e+00]\n",
      " [2.6835e+02 8.8900e+00]\n",
      " [2.7165e+02 1.5140e+01]\n",
      " [2.7265e+02 0.0000e+00]\n",
      " [2.7035e+02 2.1700e+00]\n",
      " [2.7395e+02 7.8800e+00]\n",
      " [2.7665e+02 0.0000e+00]\n",
      " [2.7565e+02 0.0000e+00]\n",
      " [2.7315e+02 1.1000e-01]\n",
      " [2.7415e+02 7.5900e+00]\n",
      " [2.7565e+02 1.5000e-01]\n",
      " [2.7565e+02 0.0000e+00]\n",
      " [2.7615e+02 1.1150e+01]\n",
      " [2.7545e+02 2.5840e+01]\n",
      " [2.7845e+02 2.5800e+00]\n",
      " [2.7645e+02 2.8490e+01]\n",
      " [2.7595e+02 1.5000e-01]\n",
      " [2.7765e+02 0.0000e+00]\n",
      " [2.8195e+02 0.0000e+00]\n",
      " [2.8815e+02 1.9700e+00]\n",
      " [2.7965e+02 2.3800e+00]\n",
      " [2.8015e+02 1.5000e-01]\n",
      " [2.8045e+02 1.5000e-01]\n",
      " [2.8065e+02 0.0000e+00]\n",
      " [2.8195e+02 1.6250e+01]\n",
      " [2.8545e+02 9.5200e+00]\n",
      " [2.7895e+02 0.0000e+00]\n",
      " [2.7695e+02 0.0000e+00]\n",
      " [2.7965e+02 1.5640e+01]\n",
      " [2.8045e+02 9.1100e+00]\n",
      " [2.8315e+02 1.5600e+00]\n",
      " [2.8145e+02 0.0000e+00]\n",
      " [2.8295e+02 0.0000e+00]\n",
      " [2.7865e+02 0.0000e+00]\n",
      " [2.8195e+02 2.7800e+00]\n",
      " [2.8615e+02 1.5000e-01]\n",
      " [2.9215e+02 5.6400e+00]\n",
      " [2.8865e+02 1.5000e-01]\n",
      " [2.8745e+02 0.0000e+00]\n",
      " [2.7765e+02 3.1140e+01]\n",
      " [2.8195e+02 3.5220e+01]\n",
      " [2.8415e+02 2.7800e+00]\n",
      " [2.8215e+02 0.0000e+00]\n",
      " [2.8145e+02 1.2170e+01]\n",
      " [2.8145e+02 4.0120e+01]\n",
      " [2.8365e+02 1.3390e+01]\n",
      " [2.7795e+02 7.4000e-01]\n",
      " [2.7615e+02 1.5000e-01]\n",
      " [2.7745e+02 0.0000e+00]\n",
      " [2.8165e+02 0.0000e+00]\n",
      " [2.8265e+02 0.0000e+00]\n",
      " [2.8665e+02 7.4000e-01]\n",
      " [2.8565e+02 7.4000e-01]\n",
      " [2.8465e+02 2.5800e+00]\n",
      " [2.8695e+02 0.0000e+00]\n",
      " [2.8765e+02 0.0000e+00]\n",
      " [2.9465e+02 0.0000e+00]\n",
      " [2.9815e+02 9.5000e-01]\n",
      " [2.8565e+02 0.0000e+00]\n",
      " [2.8495e+02 0.0000e+00]\n",
      " [2.8615e+02 1.4620e+01]\n",
      " [2.8765e+02 1.3600e+00]\n",
      " [2.8715e+02 0.0000e+00]\n",
      " [2.9095e+02 0.0000e+00]\n",
      " [2.8995e+02 1.2580e+01]\n",
      " [2.8745e+02 9.5000e-01]\n",
      " [2.8945e+02 0.0000e+00]\n",
      " [2.9115e+02 7.0700e+00]\n",
      " [2.8915e+02 2.5840e+01]\n",
      " [2.9145e+02 5.4400e+00]\n",
      " [2.9015e+02 9.5000e-01]\n",
      " [2.8695e+02 5.4000e-01]\n",
      " [2.8495e+02 1.5000e-01]\n",
      " [2.8745e+02 0.0000e+00]\n",
      " [2.8715e+02 1.1500e+00]\n",
      " [2.8795e+02 1.6860e+01]\n",
      " [2.8615e+02 1.2370e+01]\n",
      " [2.8895e+02 0.0000e+00]\n",
      " [2.9365e+02 0.0000e+00]\n",
      " [2.9215e+02 0.0000e+00]\n",
      " [2.9245e+02 0.0000e+00]\n",
      " [2.9945e+02 0.0000e+00]\n",
      " [3.0045e+02 0.0000e+00]\n",
      " [2.9615e+02 0.0000e+00]\n",
      " [2.9045e+02 0.0000e+00]\n",
      " [2.9015e+02 1.6450e+01]\n",
      " [2.9095e+02 0.0000e+00]\n",
      " [2.9515e+02 1.5000e-01]\n",
      " [2.9865e+02 7.4000e-01]\n",
      " [2.9695e+02 3.1900e+00]\n",
      " [2.9365e+02 2.1700e+00]\n",
      " [2.9195e+02 1.5000e-01]\n",
      " [2.9265e+02 1.4410e+01]\n",
      " [2.9315e+02 1.1500e+00]\n",
      " [2.9345e+02 5.4000e-01]\n",
      " [2.9045e+02 3.7260e+01]\n",
      " [2.9015e+02 7.4000e-01]\n",
      " [2.8815e+02 1.7600e+00]\n",
      " [2.9095e+02 3.1900e+00]\n",
      " [2.8915e+02 2.6040e+01]\n",
      " [2.9245e+02 2.3590e+01]\n",
      " [2.9495e+02 1.5020e+01]\n",
      " [2.9315e+02 2.3800e+01]\n",
      " [2.9295e+02 1.5000e-01]\n",
      " [2.9245e+02 0.0000e+00]\n",
      " [2.9295e+02 0.0000e+00]\n",
      " [2.9465e+02 1.5000e-01]\n",
      " [2.9665e+02 2.1140e+01]\n",
      " [2.9315e+02 0.0000e+00]\n",
      " [2.9295e+02 9.1100e+00]\n",
      " [2.9415e+02 9.5000e-01]\n",
      " [2.9515e+02 1.5020e+01]\n",
      " [2.9215e+02 8.2900e+00]\n",
      " [2.9115e+02 1.5000e-01]\n",
      " [2.9145e+02 1.5640e+01]\n",
      " [2.9565e+02 0.0000e+00]\n",
      " [2.9545e+02 1.1500e+00]\n",
      " [2.9515e+02 1.5000e-01]\n",
      " [2.9645e+02 0.0000e+00]\n",
      " [2.9595e+02 1.5000e-01]\n",
      " [2.9645e+02 0.0000e+00]\n",
      " [2.9545e+02 0.0000e+00]\n",
      " [2.9395e+02 0.0000e+00]\n",
      " [2.9245e+02 1.9310e+01]\n",
      " [2.8895e+02 4.5010e+01]\n",
      " [2.9145e+02 1.5000e-01]\n",
      " [2.9195e+02 0.0000e+00]\n",
      " [2.9615e+02 0.0000e+00]\n",
      " [2.9165e+02 0.0000e+00]\n",
      " [2.9195e+02 0.0000e+00]\n",
      " [2.9345e+02 0.0000e+00]\n",
      " [2.9415e+02 0.0000e+00]\n",
      " [2.9465e+02 0.0000e+00]\n",
      " [2.9745e+02 0.0000e+00]\n",
      " [2.9465e+02 6.0500e+00]\n",
      " [2.9615e+02 1.7600e+00]\n",
      " [2.9365e+02 1.5600e+00]\n",
      " [2.9015e+02 1.5000e-01]\n",
      " [2.9015e+02 0.0000e+00]\n",
      " [2.9215e+02 0.0000e+00]\n",
      " [2.9295e+02 0.0000e+00]\n",
      " [2.9315e+02 0.0000e+00]\n",
      " [2.9415e+02 3.6000e+00]\n",
      " [2.9245e+02 1.5430e+01]\n",
      " [2.9365e+02 1.5000e-01]\n",
      " [2.9365e+02 1.5000e-01]\n",
      " [2.9515e+02 1.5000e-01]\n",
      " [2.9115e+02 0.0000e+00]\n",
      " [2.9245e+02 2.4410e+01]\n",
      " [2.9265e+02 3.6000e+00]\n",
      " [2.9445e+02 0.0000e+00]\n",
      " [2.9415e+02 0.0000e+00]\n",
      " [2.9545e+02 9.9200e+00]\n",
      " [2.9565e+02 1.8080e+01]\n",
      " [2.9195e+02 0.0000e+00]\n",
      " [2.9045e+02 0.0000e+00]\n",
      " [2.8815e+02 0.0000e+00]\n",
      " [2.8845e+02 0.0000e+00]\n",
      " [2.8965e+02 0.0000e+00]\n",
      " [2.9015e+02 0.0000e+00]\n",
      " [2.9215e+02 0.0000e+00]\n",
      " [2.8995e+02 9.5000e-01]\n",
      " [2.8695e+02 0.0000e+00]\n",
      " [2.8515e+02 0.0000e+00]\n",
      " [2.8515e+02 4.2100e+00]\n",
      " [2.8645e+02 4.0100e+00]\n",
      " [2.8945e+02 2.4200e+01]\n",
      " [2.9115e+02 0.0000e+00]\n",
      " [2.8915e+02 5.4000e-01]\n",
      " [2.8965e+02 9.3100e+00]\n",
      " [2.8665e+02 1.3600e+00]\n",
      " [2.8765e+02 0.0000e+00]\n",
      " [2.8615e+02 0.0000e+00]\n",
      " [2.8815e+02 0.0000e+00]\n",
      " [2.9045e+02 0.0000e+00]\n",
      " [2.9215e+02 0.0000e+00]\n",
      " [2.9315e+02 0.0000e+00]\n",
      " [2.9295e+02 0.0000e+00]\n",
      " [2.9415e+02 0.0000e+00]\n",
      " [2.9515e+02 0.0000e+00]\n",
      " [2.9365e+02 0.0000e+00]\n",
      " [2.9465e+02 1.5000e-01]\n",
      " [2.9515e+02 0.0000e+00]\n",
      " [2.9315e+02 0.0000e+00]\n",
      " [2.9315e+02 0.0000e+00]\n",
      " [2.9445e+02 0.0000e+00]\n",
      " [2.9815e+02 0.0000e+00]\n",
      " [2.9795e+02 0.0000e+00]\n",
      " [2.9695e+02 0.0000e+00]\n",
      " [2.9795e+02 9.9200e+00]\n",
      " [2.8565e+02 0.0000e+00]\n",
      " [2.8315e+02 0.0000e+00]\n",
      " [2.8415e+02 0.0000e+00]\n",
      " [2.8345e+02 0.0000e+00]\n",
      " [2.8565e+02 0.0000e+00]\n",
      " [2.8815e+02 0.0000e+00]\n",
      " [2.8965e+02 1.1960e+01]\n",
      " [2.8865e+02 0.0000e+00]\n",
      " [2.8865e+02 0.0000e+00]\n",
      " [2.8765e+02 8.7000e+00]\n",
      " [2.9365e+02 1.1500e+00]\n",
      " [2.8845e+02 6.6600e+00]\n",
      " [2.8865e+02 0.0000e+00]\n",
      " [2.8245e+02 0.0000e+00]\n",
      " [2.8195e+02 0.0000e+00]\n",
      " [2.8315e+02 7.4000e-01]\n",
      " [2.8865e+02 1.3390e+01]\n",
      " [2.9095e+02 7.2700e+00]\n",
      " [2.7915e+02 1.5000e-01]\n",
      " [2.8095e+02 0.0000e+00]\n",
      " [2.8695e+02 1.5600e+00]\n",
      " [2.8645e+02 0.0000e+00]\n",
      " [2.8665e+02 0.0000e+00]\n",
      " [2.8695e+02 0.0000e+00]\n",
      " [2.8715e+02 0.0000e+00]\n",
      " [2.8795e+02 8.7000e+00]\n",
      " [2.9015e+02 3.1900e+00]\n",
      " [2.8465e+02 1.5000e-01]\n",
      " [2.8065e+02 0.0000e+00]\n",
      " [2.8095e+02 0.0000e+00]\n",
      " [2.8465e+02 9.7200e+00]\n",
      " [2.8165e+02        nan]\n",
      " [2.8115e+02 1.9700e+00]\n",
      " [2.8065e+02 1.5000e-01]\n",
      " [2.7615e+02 1.6860e+01]\n",
      " [2.8245e+02 2.3390e+01]\n",
      " [2.8295e+02 1.5000e-01]\n",
      " [2.7545e+02 1.1500e+00]\n",
      " [2.8115e+02 1.5020e+01]\n",
      " [2.8165e+02 0.0000e+00]\n",
      " [2.7495e+02 0.0000e+00]\n",
      " [2.7765e+02 0.0000e+00]\n",
      " [2.7645e+02 4.0100e+00]\n",
      " [2.6565e+02 0.0000e+00]\n",
      " [2.6765e+02 0.0000e+00]\n",
      " [2.7315e+02 0.0000e+00]\n",
      " [2.7315e+02 0.0000e+00]\n",
      " [2.7395e+02 0.0000e+00]\n",
      " [2.7415e+02 0.0000e+00]\n",
      " [2.7845e+02 3.1900e+00]\n",
      " [2.7015e+02 0.0000e+00]\n",
      " [2.7035e+02 1.0900e+01]\n",
      " [2.7185e+02 1.5000e-01]\n",
      " [2.6715e+02 0.0000e+00]\n",
      " [2.7465e+02 3.6000e+00]\n",
      " [2.7315e+02 0.0000e+00]\n",
      " [2.7015e+02 0.0000e+00]\n",
      " [2.7745e+02 7.4000e-01]\n",
      " [2.7945e+02 5.1400e+00]\n",
      " [2.7035e+02 8.1300e+00]\n",
      " [2.6615e+02 0.0000e+00]\n",
      " [2.7345e+02 5.4000e-01]\n",
      " [2.7595e+02 0.0000e+00]\n",
      " [2.7215e+02 4.6200e+00]\n",
      " [2.7495e+02 0.0000e+00]\n",
      " [2.7545e+02 0.0000e+00]\n",
      " [2.7515e+02 0.0000e+00]\n",
      " [2.7665e+02 7.4000e-01]\n",
      " [2.7965e+02 3.4000e+00]\n",
      " [2.7445e+02 1.1000e-01]\n",
      " [2.7265e+02 0.0000e+00]\n",
      " [2.7165e+02 0.0000e+00]\n",
      " [2.7065e+02 6.6000e+00]\n",
      " [2.6865e+02 0.0000e+00]\n",
      " [2.6015e+02 2.5400e+00]\n",
      " [2.6385e+02 1.0920e+01]\n",
      " [2.6035e+02 0.0000e+00]\n",
      " [2.5635e+02 0.0000e+00]\n",
      " [2.5635e+02 5.0800e+00]\n",
      " [2.6085e+02 0.0000e+00]\n",
      " [2.5635e+02 1.1000e-01]\n",
      " [2.6015e+02 1.0160e+01]\n",
      " [2.7065e+02 2.2200e+00]\n",
      " [2.6965e+02 0.0000e+00]\n",
      " [2.6065e+02 1.1000e-01]\n",
      " [2.6085e+02 1.1000e-01]\n",
      " [2.6365e+02 5.0800e+00]\n",
      " [2.6415e+02 5.0800e+00]\n",
      " [2.6585e+02 1.2700e+00]\n",
      " [2.5865e+02 0.0000e+00]\n",
      " [2.5035e+02 0.0000e+00]\n",
      " [       nan        nan]\n",
      " [       nan 0.0000e+00]\n",
      " [2.5165e+02 1.2700e+00]\n",
      " [2.5115e+02 0.0000e+00]]\n"
     ]
    }
   ],
   "source": [
    "print(tableau_original)"
   ]
  },
  {
   "cell_type": "code",
   "execution_count": null,
   "metadata": {
    "collapsed": true
   },
   "outputs": [],
   "source": []
  }
 ],
 "metadata": {
  "kernelspec": {
   "display_name": "Python 3",
   "language": "python",
   "name": "python3"
  },
  "language_info": {
   "codemirror_mode": {
    "name": "ipython",
    "version": 3
   },
   "file_extension": ".py",
   "mimetype": "text/x-python",
   "name": "python",
   "nbconvert_exporter": "python",
   "pygments_lexer": "ipython3",
   "version": "3.6.3"
  }
 },
 "nbformat": 4,
 "nbformat_minor": 2
}
